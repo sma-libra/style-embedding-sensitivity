{
 "cells": [
  {
   "cell_type": "markdown",
   "metadata": {
    "id": "Lv3toLVnZPtK"
   },
   "source": [
    "## Imports"
   ]
  },
  {
   "cell_type": "code",
   "execution_count": 1,
   "metadata": {
    "id": "6qyI7i4fU1z5"
   },
   "outputs": [],
   "source": [
    "import pandas as pd\n",
    "import numpy as np\n",
    "import matplotlib.pyplot as plt\n",
    "import seaborn as sns\n",
    "from scipy.stats import pearsonr\n",
    "from scipy.stats import norm"
   ]
  },
  {
   "cell_type": "markdown",
   "metadata": {
    "id": "A-i73cpLXKaJ"
   },
   "source": [
    "## Methods"
   ]
  },
  {
   "cell_type": "code",
   "execution_count": 2,
   "metadata": {
    "id": "sE72Pn7vXJcW"
   },
   "outputs": [],
   "source": [
    "def calculate_correlations_with_significance(difference_df_stylo, difference_df):\n",
    "    correlation_results = {}\n",
    "    p_value_symbole_results = {}\n",
    "    p_value_results = {}\n",
    "\n",
    "    for feature in difference_df_stylo[\"Feature\"].unique():\n",
    "        filtered_stylo_df = difference_df_stylo[difference_df_stylo[\"Feature\"] == feature]\n",
    "\n",
    "        # Calculate Pearson correlation and p-value\n",
    "        correlation, p_value = pearsonr(filtered_stylo_df[\"Difference\"], difference_df[\"Difference\"])\n",
    "        correlation_results[feature] = correlation\n",
    "        p_value_results[feature] = p_value\n",
    "\n",
    "        # Assign asterisk based on p-value significance\n",
    "        if p_value < 0.01:\n",
    "            p_value_symbole_results[feature] = '**'\n",
    "        elif p_value < 0.05:\n",
    "            p_value_symbole_results[feature] = '*'\n",
    "        else:\n",
    "            p_value_symbole_results[feature] = ''\n",
    "\n",
    "    correlation_df = pd.DataFrame({\n",
    "        'Feature': list(correlation_results.keys()),\n",
    "        'Correlation': list(correlation_results.values()),\n",
    "        'P-value_symbole': list(p_value_symbole_results.values()),  # Store significance asterisks\n",
    "        'P-value': list(p_value_results.values()),\n",
    "    })\n",
    "\n",
    "    return correlation_df"
   ]
  },
  {
   "cell_type": "code",
   "execution_count": 3,
   "metadata": {
    "id": "b_9xR4RzZ_V0"
   },
   "outputs": [],
   "source": [
    "def fisher_z(r):\n",
    "  return 0.5 * np.log((1 + r) / (1 - r))"
   ]
  },
  {
   "cell_type": "code",
   "execution_count": 4,
   "metadata": {
    "id": "E22bODk6aA5e"
   },
   "outputs": [],
   "source": [
    "def compare_correlations(r1, n1, r2, n2):\n",
    "  \"\"\"\n",
    "  r1, r2 : Fischer transformed correlations\n",
    "  n1, n2 : sample size\n",
    "  \"\"\"\n",
    "  z1 = fisher_z(r1)\n",
    "  z2 = fisher_z(r2)\n",
    "  se = np.sqrt(1/(n1 - 3) + 1/(n2 - 3))\n",
    "  z = np.abs(z1 - z2) / se\n",
    "  p = 2 * (1 - norm.cdf(z)) # two-tailed\n",
    "  return z, p\n",
    "# Example usage:\n",
    "# z_score, p_value = compare_correlations(0.65, 96, 0.45, 96)"
   ]
  },
  {
   "cell_type": "code",
   "execution_count": 5,
   "metadata": {
    "id": "gcS30rQwbYgi"
   },
   "outputs": [],
   "source": [
    "def tost_compare_correlations_z(r1, n1, r2, n2, delta_z=0.01, alpha=0.05):\n",
    "    \"\"\"\n",
    "    TOST equivalence test for two correlations (in Fisher z-space).\n",
    "\n",
    "    Returns:\n",
    "        p1, p2 : one-sided p-values\n",
    "        equivalent : True if both p-values < alpha\n",
    "    \"\"\"\n",
    "    z1 = fisher_z(r1)\n",
    "    z2 = fisher_z(r2)\n",
    "    diff = z1 - z2\n",
    "    print(f\"Difference in z-space: {diff:.3f}\")\n",
    "    se = np.sqrt(1 / (n1 - 3) + 1 / (n2 - 3))\n",
    "\n",
    "    z_stat_low = (diff + delta_z) / se\n",
    "    z_stat_high = (diff - delta_z) / se\n",
    "\n",
    "    # CORRECTED: Flip these p-values\n",
    "    p1 = 1 - norm.cdf(z_stat_low)  # test: diff > -delta\n",
    "    p2 = norm.cdf(z_stat_high)     # test: diff < delta\n",
    "\n",
    "    equivalent = (p1 < alpha) and (p2 < alpha)\n",
    "    return p1, p2, equivalent\n",
    "\n",
    "def r_to_z_delta(delta_r):\n",
    "    r = 0.0  # center at 0 to be conservative\n",
    "    r1 = min(max(r - delta_r, -0.9999), 0.9999)\n",
    "    r2 = min(max(r + delta_r, -0.9999), 0.9999)\n",
    "    return np.abs(fisher_z(r2) - fisher_z(r1))"
   ]
  },
  {
   "cell_type": "markdown",
   "metadata": {
    "id": "FznAQyVtlGpv"
   },
   "source": [
    "## Dataset"
   ]
  },
  {
   "cell_type": "markdown",
   "metadata": {},
   "source": [
    "### Stylometry"
   ]
  },
  {
   "cell_type": "code",
   "execution_count": 6,
   "metadata": {
    "id": "spjbP5oAljwc"
   },
   "outputs": [],
   "source": [
    "stylo_df_fr = pd.read_excel('./stylo_terreau_df.xlsx')"
   ]
  },
  {
   "cell_type": "code",
   "execution_count": 7,
   "metadata": {
    "id": "00oTJ--6HiyG"
   },
   "outputs": [],
   "source": [
    "stylo_df_tuffery_ref = stylo_df_fr[stylo_df_fr['author'] == \"Tuffery\"]\n",
    "stylo_df_style_gen = stylo_df_fr[stylo_df_fr['genAI'] != \"No\"]\n",
    "stylo_df_TS_gen= pd.concat([stylo_df_tuffery_ref, stylo_df_style_gen], axis=0)\n",
    "\n",
    "stylo_df_TS_gen = stylo_df_TS_gen.rename(columns={\"id\": \"file_name\", \"Unnamed: 0\":\"id\"})\n",
    "stylo_df_TS_gen = stylo_df_TS_gen.drop(columns=[\"text_id\",\n",
    "                                                    \"id\"])\n",
    "stylo_df_TS_gen = stylo_df_TS_gen.rename(columns={'Indexes': 'Entropy'})\n",
    "\n",
    "stylo_df_TS_gen[\"class\"] = stylo_df_TS_gen[\"genAI\"].map({\"No\": \"A1\", \"mistral\": \"A2\", \"gpt\": \"A2\", \"gemini\":\"A2\"})\n",
    "\n",
    "stylo_df = stylo_df_TS_gen"
   ]
  },
  {
   "cell_type": "code",
   "execution_count": 8,
   "metadata": {
    "colab": {
     "base_uri": "https://localhost:8080/",
     "height": 204
    },
    "executionInfo": {
     "elapsed": 169,
     "status": "ok",
     "timestamp": 1755002758209,
     "user": {
      "displayName": "Benjamin Icard",
      "userId": "03834653573016242850"
     },
     "user_tz": -120
    },
    "id": "bCWkWW1_n-k_",
    "outputId": "0d11a7fe-a0d9-43de-e8c8-04286bcfcec8"
   },
   "outputs": [
    {
     "data": {
      "text/html": [
       "<div>\n",
       "<style scoped>\n",
       "    .dataframe tbody tr th:only-of-type {\n",
       "        vertical-align: middle;\n",
       "    }\n",
       "\n",
       "    .dataframe tbody tr th {\n",
       "        vertical-align: top;\n",
       "    }\n",
       "\n",
       "    .dataframe thead th {\n",
       "        text-align: right;\n",
       "    }\n",
       "</style>\n",
       "<table border=\"1\" class=\"dataframe\">\n",
       "  <thead>\n",
       "    <tr style=\"text-align: right;\">\n",
       "      <th></th>\n",
       "      <th>author</th>\n",
       "      <th>genAI</th>\n",
       "      <th>Punctuation</th>\n",
       "      <th>TAG</th>\n",
       "      <th>Structural</th>\n",
       "      <th>Entropy</th>\n",
       "      <th>NER</th>\n",
       "      <th>Letters</th>\n",
       "      <th>file_name</th>\n",
       "      <th>class</th>\n",
       "    </tr>\n",
       "  </thead>\n",
       "  <tbody>\n",
       "    <tr>\n",
       "      <th>960</th>\n",
       "      <td>Tuffery</td>\n",
       "      <td>No</td>\n",
       "      <td>0.019510</td>\n",
       "      <td>0.195833</td>\n",
       "      <td>8.794737</td>\n",
       "      <td>7.159736</td>\n",
       "      <td>0.083333</td>\n",
       "      <td>0.029505</td>\n",
       "      <td>tuffery_agitato_atrabile.txt</td>\n",
       "      <td>A1</td>\n",
       "    </tr>\n",
       "    <tr>\n",
       "      <th>961</th>\n",
       "      <td>Tuffery</td>\n",
       "      <td>No</td>\n",
       "      <td>0.011617</td>\n",
       "      <td>0.436869</td>\n",
       "      <td>22.038070</td>\n",
       "      <td>7.771713</td>\n",
       "      <td>0.454545</td>\n",
       "      <td>0.029591</td>\n",
       "      <td>tuffery_agitato_lamentabile.txt</td>\n",
       "      <td>A1</td>\n",
       "    </tr>\n",
       "    <tr>\n",
       "      <th>962</th>\n",
       "      <td>Tuffery</td>\n",
       "      <td>No</td>\n",
       "      <td>0.011944</td>\n",
       "      <td>0.407407</td>\n",
       "      <td>18.214147</td>\n",
       "      <td>6.612949</td>\n",
       "      <td>0.222222</td>\n",
       "      <td>0.028414</td>\n",
       "      <td>tuffery_anacephaleose.txt</td>\n",
       "      <td>A1</td>\n",
       "    </tr>\n",
       "    <tr>\n",
       "      <th>963</th>\n",
       "      <td>Tuffery</td>\n",
       "      <td>No</td>\n",
       "      <td>0.011217</td>\n",
       "      <td>0.200617</td>\n",
       "      <td>9.133420</td>\n",
       "      <td>6.714099</td>\n",
       "      <td>0.092593</td>\n",
       "      <td>0.028595</td>\n",
       "      <td>tuffery_anadiploses_epanadiploses.txt</td>\n",
       "      <td>A1</td>\n",
       "    </tr>\n",
       "    <tr>\n",
       "      <th>964</th>\n",
       "      <td>Tuffery</td>\n",
       "      <td>No</td>\n",
       "      <td>0.010989</td>\n",
       "      <td>1.333333</td>\n",
       "      <td>59.190000</td>\n",
       "      <td>5.093733</td>\n",
       "      <td>1.000000</td>\n",
       "      <td>0.031382</td>\n",
       "      <td>tuffery_anaphore.txt</td>\n",
       "      <td>A1</td>\n",
       "    </tr>\n",
       "  </tbody>\n",
       "</table>\n",
       "</div>"
      ],
      "text/plain": [
       "      author genAI  Punctuation       TAG  Structural   Entropy       NER  \\\n",
       "960  Tuffery    No     0.019510  0.195833    8.794737  7.159736  0.083333   \n",
       "961  Tuffery    No     0.011617  0.436869   22.038070  7.771713  0.454545   \n",
       "962  Tuffery    No     0.011944  0.407407   18.214147  6.612949  0.222222   \n",
       "963  Tuffery    No     0.011217  0.200617    9.133420  6.714099  0.092593   \n",
       "964  Tuffery    No     0.010989  1.333333   59.190000  5.093733  1.000000   \n",
       "\n",
       "      Letters                              file_name class  \n",
       "960  0.029505           tuffery_agitato_atrabile.txt    A1  \n",
       "961  0.029591        tuffery_agitato_lamentabile.txt    A1  \n",
       "962  0.028414              tuffery_anacephaleose.txt    A1  \n",
       "963  0.028595  tuffery_anadiploses_epanadiploses.txt    A1  \n",
       "964  0.031382                   tuffery_anaphore.txt    A1  "
      ]
     },
     "execution_count": 8,
     "metadata": {},
     "output_type": "execute_result"
    }
   ],
   "source": [
    "stylo_df.head()"
   ]
  },
  {
   "cell_type": "code",
   "execution_count": 9,
   "metadata": {},
   "outputs": [
    {
     "data": {
      "text/html": [
       "<div>\n",
       "<style scoped>\n",
       "    .dataframe tbody tr th:only-of-type {\n",
       "        vertical-align: middle;\n",
       "    }\n",
       "\n",
       "    .dataframe tbody tr th {\n",
       "        vertical-align: top;\n",
       "    }\n",
       "\n",
       "    .dataframe thead th {\n",
       "        text-align: right;\n",
       "    }\n",
       "</style>\n",
       "<table border=\"1\" class=\"dataframe\">\n",
       "  <thead>\n",
       "    <tr style=\"text-align: right;\">\n",
       "      <th></th>\n",
       "      <th>author</th>\n",
       "      <th>genAI</th>\n",
       "      <th>Punctuation</th>\n",
       "      <th>TAG</th>\n",
       "      <th>Structural</th>\n",
       "      <th>Entropy</th>\n",
       "      <th>NER</th>\n",
       "      <th>Letters</th>\n",
       "      <th>file_name</th>\n",
       "      <th>class</th>\n",
       "      <th>Punctuation_normalized</th>\n",
       "      <th>TAG_normalized</th>\n",
       "      <th>Structural_normalized</th>\n",
       "      <th>Entropy_normalized</th>\n",
       "      <th>NER_normalized</th>\n",
       "      <th>Letters_normalized</th>\n",
       "      <th>Mean</th>\n",
       "    </tr>\n",
       "  </thead>\n",
       "  <tbody>\n",
       "    <tr>\n",
       "      <th>960</th>\n",
       "      <td>Tuffery</td>\n",
       "      <td>No</td>\n",
       "      <td>0.019510</td>\n",
       "      <td>0.195833</td>\n",
       "      <td>8.794737</td>\n",
       "      <td>7.159736</td>\n",
       "      <td>0.083333</td>\n",
       "      <td>0.029505</td>\n",
       "      <td>tuffery_agitato_atrabile.txt</td>\n",
       "      <td>A1</td>\n",
       "      <td>0.239607</td>\n",
       "      <td>0.029706</td>\n",
       "      <td>0.048711</td>\n",
       "      <td>0.830128</td>\n",
       "      <td>0.041667</td>\n",
       "      <td>0.252477</td>\n",
       "      <td>0.240538</td>\n",
       "    </tr>\n",
       "    <tr>\n",
       "      <th>961</th>\n",
       "      <td>Tuffery</td>\n",
       "      <td>No</td>\n",
       "      <td>0.011617</td>\n",
       "      <td>0.436869</td>\n",
       "      <td>22.038070</td>\n",
       "      <td>7.771713</td>\n",
       "      <td>0.454545</td>\n",
       "      <td>0.029591</td>\n",
       "      <td>tuffery_agitato_lamentabile.txt</td>\n",
       "      <td>A1</td>\n",
       "      <td>0.142667</td>\n",
       "      <td>0.080749</td>\n",
       "      <td>0.151192</td>\n",
       "      <td>0.901083</td>\n",
       "      <td>0.227273</td>\n",
       "      <td>0.264600</td>\n",
       "      <td>0.324979</td>\n",
       "    </tr>\n",
       "    <tr>\n",
       "      <th>962</th>\n",
       "      <td>Tuffery</td>\n",
       "      <td>No</td>\n",
       "      <td>0.011944</td>\n",
       "      <td>0.407407</td>\n",
       "      <td>18.214147</td>\n",
       "      <td>6.612949</td>\n",
       "      <td>0.222222</td>\n",
       "      <td>0.028414</td>\n",
       "      <td>tuffery_anacephaleose.txt</td>\n",
       "      <td>A1</td>\n",
       "      <td>0.146682</td>\n",
       "      <td>0.074510</td>\n",
       "      <td>0.121601</td>\n",
       "      <td>0.766732</td>\n",
       "      <td>0.111111</td>\n",
       "      <td>0.099577</td>\n",
       "      <td>0.234706</td>\n",
       "    </tr>\n",
       "    <tr>\n",
       "      <th>963</th>\n",
       "      <td>Tuffery</td>\n",
       "      <td>No</td>\n",
       "      <td>0.011217</td>\n",
       "      <td>0.200617</td>\n",
       "      <td>9.133420</td>\n",
       "      <td>6.714099</td>\n",
       "      <td>0.092593</td>\n",
       "      <td>0.028595</td>\n",
       "      <td>tuffery_anadiploses_epanadiploses.txt</td>\n",
       "      <td>A1</td>\n",
       "      <td>0.137753</td>\n",
       "      <td>0.030719</td>\n",
       "      <td>0.051332</td>\n",
       "      <td>0.778459</td>\n",
       "      <td>0.046296</td>\n",
       "      <td>0.124931</td>\n",
       "      <td>0.206347</td>\n",
       "    </tr>\n",
       "    <tr>\n",
       "      <th>964</th>\n",
       "      <td>Tuffery</td>\n",
       "      <td>No</td>\n",
       "      <td>0.010989</td>\n",
       "      <td>1.333333</td>\n",
       "      <td>59.190000</td>\n",
       "      <td>5.093733</td>\n",
       "      <td>1.000000</td>\n",
       "      <td>0.031382</td>\n",
       "      <td>tuffery_anaphore.txt</td>\n",
       "      <td>A1</td>\n",
       "      <td>0.134959</td>\n",
       "      <td>0.270588</td>\n",
       "      <td>0.438685</td>\n",
       "      <td>0.590588</td>\n",
       "      <td>0.500000</td>\n",
       "      <td>0.515662</td>\n",
       "      <td>0.463105</td>\n",
       "    </tr>\n",
       "  </tbody>\n",
       "</table>\n",
       "</div>"
      ],
      "text/plain": [
       "      author genAI  Punctuation       TAG  Structural   Entropy       NER  \\\n",
       "960  Tuffery    No     0.019510  0.195833    8.794737  7.159736  0.083333   \n",
       "961  Tuffery    No     0.011617  0.436869   22.038070  7.771713  0.454545   \n",
       "962  Tuffery    No     0.011944  0.407407   18.214147  6.612949  0.222222   \n",
       "963  Tuffery    No     0.011217  0.200617    9.133420  6.714099  0.092593   \n",
       "964  Tuffery    No     0.010989  1.333333   59.190000  5.093733  1.000000   \n",
       "\n",
       "      Letters                              file_name class  \\\n",
       "960  0.029505           tuffery_agitato_atrabile.txt    A1   \n",
       "961  0.029591        tuffery_agitato_lamentabile.txt    A1   \n",
       "962  0.028414              tuffery_anacephaleose.txt    A1   \n",
       "963  0.028595  tuffery_anadiploses_epanadiploses.txt    A1   \n",
       "964  0.031382                   tuffery_anaphore.txt    A1   \n",
       "\n",
       "     Punctuation_normalized  TAG_normalized  Structural_normalized  \\\n",
       "960                0.239607        0.029706               0.048711   \n",
       "961                0.142667        0.080749               0.151192   \n",
       "962                0.146682        0.074510               0.121601   \n",
       "963                0.137753        0.030719               0.051332   \n",
       "964                0.134959        0.270588               0.438685   \n",
       "\n",
       "     Entropy_normalized  NER_normalized  Letters_normalized      Mean  \n",
       "960            0.830128        0.041667            0.252477  0.240538  \n",
       "961            0.901083        0.227273            0.264600  0.324979  \n",
       "962            0.766732        0.111111            0.099577  0.234706  \n",
       "963            0.778459        0.046296            0.124931  0.206347  \n",
       "964            0.590588        0.500000            0.515662  0.463105  "
      ]
     },
     "execution_count": 9,
     "metadata": {},
     "output_type": "execute_result"
    }
   ],
   "source": [
    "#Normalize\n",
    "numeric_cols = stylo_df.select_dtypes(include=['number']).columns\n",
    "\n",
    "for col in numeric_cols:\n",
    "    stylo_df[f\"{col}_normalized\"] = (stylo_df[col] - stylo_df[col].min()) / (stylo_df[col].max() - stylo_df[col].min())\n",
    "\n",
    "#Mean\n",
    "columns_to_average = [\"Structural_normalized\",\n",
    "                      \"Letters_normalized\",\n",
    "                      \"TAG_normalized\",\n",
    "                      \"NER_normalized\",\n",
    "                      \"Entropy_normalized\",\n",
    "                      ]\n",
    "stylo_df[\"Mean\"] = stylo_df[columns_to_average].mean(axis=1)\n",
    "\n",
    "stylo_df.head()"
   ]
  },
  {
   "cell_type": "markdown",
   "metadata": {},
   "source": [
    "### Distance between embeddings"
   ]
  },
  {
   "cell_type": "code",
   "execution_count": 10,
   "metadata": {
    "id": "J1LXYpuqpgPB"
   },
   "outputs": [],
   "source": [
    "mean_distances_df = pd.read_excel('./distance_pertext_umap_TS_gen.xlsx')\n",
    "\n",
    "mean_distances_df[\"genAI\"] = mean_distances_df[\"Class\"].map({\"Proust\": \"No\", \"Celine\": \"No\", \"Yourcenar\": \"No\", \"Tuffery\": \"No\",\n",
    "                                                             \"Proust_mistral\": \"mistral\", \"Celine_mistral\": \"mistral\", \"Yourcenar_mistral\": \"mistral\",\n",
    "                                                             \"Proust_gpt\": \"gpt\", \"Celine_gpt\": \"gpt\", \"Yourcenar_gpt\": \"gpt\",\n",
    "                                                             \"Proust_gemini\": \"gemini\", \"Celine_gemini\": \"gemini\", \"Yourcenar_gemini\": \"gemini\",\n",
    "                                                             })\n",
    "\n",
    "mean_distances_df[\"author\"] = mean_distances_df[\"Class\"].map({\"Proust\": \"Proust\", \"Celine\": \"Celine\", \"Yourcenar\": \"Yourcenar\",\"Tuffery\": \"Tuffery\",\n",
    "                                                             \"Proust_mistral\": \"Proust\", \"Celine_mistral\": \"Celine\", \"Yourcenar_mistral\": \"Yourcenar\",\n",
    "                                                             \"Proust_gpt\": \"Proust\", \"Celine_gpt\": \"Celine\", \"Yourcenar_gpt\": \"Yourcenar\",\n",
    "                                                             \"Proust_gemini\": \"Proust\", \"Celine_gemini\": \"Celine\", \"Yourcenar_gemini\": \"Yourcenar\",\n",
    "                                                             })\n",
    "\n",
    "mean_distances_df[\"class\"] = mean_distances_df[\"genAI\"].map({\"No\": \"A1\", \"mistral\": \"A2\", \"gpt\": \"A2\", \"gemini\":\"A2\"})\n",
    "mean_distances_df = mean_distances_df.drop(columns=[\"Class\"])"
   ]
  },
  {
   "cell_type": "code",
   "execution_count": 11,
   "metadata": {
    "colab": {
     "base_uri": "https://localhost:8080/",
     "height": 204
    },
    "executionInfo": {
     "elapsed": 27,
     "status": "ok",
     "timestamp": 1755002758934,
     "user": {
      "displayName": "Benjamin Icard",
      "userId": "03834653573016242850"
     },
     "user_tz": -120
    },
    "id": "3K_nIEFRFiQP",
    "outputId": "dcd1f673-6b98-45a8-f385-5b32486be071"
   },
   "outputs": [
    {
     "data": {
      "text/html": [
       "<div>\n",
       "<style scoped>\n",
       "    .dataframe tbody tr th:only-of-type {\n",
       "        vertical-align: middle;\n",
       "    }\n",
       "\n",
       "    .dataframe tbody tr th {\n",
       "        vertical-align: top;\n",
       "    }\n",
       "\n",
       "    .dataframe thead th {\n",
       "        text-align: right;\n",
       "    }\n",
       "</style>\n",
       "<table border=\"1\" class=\"dataframe\">\n",
       "  <thead>\n",
       "    <tr style=\"text-align: right;\">\n",
       "      <th></th>\n",
       "      <th>Text_Index</th>\n",
       "      <th>Mean_Distance_From_Centroid</th>\n",
       "      <th>genAI</th>\n",
       "      <th>author</th>\n",
       "      <th>class</th>\n",
       "    </tr>\n",
       "  </thead>\n",
       "  <tbody>\n",
       "    <tr>\n",
       "      <th>0</th>\n",
       "      <td>0</td>\n",
       "      <td>1.493536</td>\n",
       "      <td>No</td>\n",
       "      <td>Tuffery</td>\n",
       "      <td>A1</td>\n",
       "    </tr>\n",
       "    <tr>\n",
       "      <th>1</th>\n",
       "      <td>1</td>\n",
       "      <td>3.086941</td>\n",
       "      <td>No</td>\n",
       "      <td>Tuffery</td>\n",
       "      <td>A1</td>\n",
       "    </tr>\n",
       "    <tr>\n",
       "      <th>2</th>\n",
       "      <td>2</td>\n",
       "      <td>1.641952</td>\n",
       "      <td>No</td>\n",
       "      <td>Tuffery</td>\n",
       "      <td>A1</td>\n",
       "    </tr>\n",
       "    <tr>\n",
       "      <th>3</th>\n",
       "      <td>3</td>\n",
       "      <td>1.457144</td>\n",
       "      <td>No</td>\n",
       "      <td>Tuffery</td>\n",
       "      <td>A1</td>\n",
       "    </tr>\n",
       "    <tr>\n",
       "      <th>4</th>\n",
       "      <td>4</td>\n",
       "      <td>1.759076</td>\n",
       "      <td>No</td>\n",
       "      <td>Tuffery</td>\n",
       "      <td>A1</td>\n",
       "    </tr>\n",
       "  </tbody>\n",
       "</table>\n",
       "</div>"
      ],
      "text/plain": [
       "   Text_Index  Mean_Distance_From_Centroid genAI   author class\n",
       "0           0                     1.493536    No  Tuffery    A1\n",
       "1           1                     3.086941    No  Tuffery    A1\n",
       "2           2                     1.641952    No  Tuffery    A1\n",
       "3           3                     1.457144    No  Tuffery    A1\n",
       "4           4                     1.759076    No  Tuffery    A1"
      ]
     },
     "execution_count": 11,
     "metadata": {},
     "output_type": "execute_result"
    }
   ],
   "source": [
    "mean_distances_df.head()"
   ]
  },
  {
   "cell_type": "markdown",
   "metadata": {},
   "source": [
    "## Aggregated features, per author, all genAI : correlation, p-value"
   ]
  },
  {
   "cell_type": "code",
   "execution_count": null,
   "metadata": {},
   "outputs": [],
   "source": [
    "Tuffery_distances = mean_distances_df[mean_distances_df['genAI'] == 'No']['Mean_Distance_From_Centroid'].values\n",
    "Proust_distances = mean_distances_df[mean_distances_df['author'] == 'Proust']['Mean_Distance_From_Centroid'].values\n",
    "Celine_distances = mean_distances_df[mean_distances_df['author'] == 'Celine']['Mean_Distance_From_Centroid'].values\n",
    "Yourcenar_distances = mean_distances_df[mean_distances_df['author'] == 'Yourcenar']['Mean_Distance_From_Centroid'].values\n",
    "\n",
    "difference_results_proust = []\n",
    "\n",
    "for i, ref_dist in enumerate(Tuffery_distances):\n",
    "    for j, gen_dist in enumerate(Proust_distances):\n",
    "        difference = ref_dist - gen_dist\n",
    "        difference_results_proust.append({\n",
    "            'Tuffery_Index': i,\n",
    "            'Proust_Index': j,\n",
    "            'Difference': difference\n",
    "        })\n",
    "\n",
    "difference_df_cond1_proust = pd.DataFrame(difference_results_proust)\n",
    "\n",
    "difference_results_celine = []\n",
    "\n",
    "for i, ref_dist in enumerate(Tuffery_distances):\n",
    "    for j, gen_dist in enumerate(Celine_distances):\n",
    "        difference = ref_dist - gen_dist\n",
    "        difference_results_celine.append({\n",
    "            'Tuffery_Index': i,\n",
    "            'Celine_Index': j,\n",
    "            'Difference': difference\n",
    "        })\n",
    "\n",
    "difference_df_cond1_celine = pd.DataFrame(difference_results_celine)\n",
    "\n",
    "difference_results_yourcenar = []\n",
    "\n",
    "for i, ref_dist in enumerate(Tuffery_distances):\n",
    "    for j, gen_dist in enumerate(Yourcenar_distances):\n",
    "        difference = ref_dist - gen_dist\n",
    "        difference_results_yourcenar.append({\n",
    "            'Tuffery_Index': i,\n",
    "            'Yourcenar_Index': j,\n",
    "            'Difference': difference\n",
    "        })\n",
    "\n",
    "difference_df_cond1_yourcenar = pd.DataFrame(difference_results_yourcenar)"
   ]
  },
  {
   "cell_type": "code",
   "execution_count": null,
   "metadata": {},
   "outputs": [],
   "source": [
    "Proust_df = stylo_df[stylo_df['author'] == 'Proust']\n",
    "Celine_df = stylo_df[stylo_df['author'] == 'Celine']\n",
    "Yourcenar_df = stylo_df[stylo_df['author'] == 'Yourcenar']\n",
    "Tuffery_df = stylo_df[stylo_df['genAI'] == 'No']\n",
    "features = ['Mean']\n",
    "\n",
    "difference_results_stylo_proust = []\n",
    "\n",
    "for feature in features:\n",
    "    for i, ref_val in enumerate(Tuffery_df[feature].values):\n",
    "        for j, gen_val in enumerate(Proust_df[feature].values):\n",
    "            difference = ref_val - gen_val\n",
    "            difference_results_stylo_proust.append({\n",
    "                'Feature': feature,\n",
    "                'Proust_Index': i,\n",
    "                'Tuffery_Index': j,\n",
    "                'Difference': difference\n",
    "            })\n",
    "\n",
    "difference_df_stylo_cond1_proust = pd.DataFrame(difference_results_stylo_proust)\n",
    "\n",
    "difference_results_stylo_celine = []\n",
    "\n",
    "for feature in features:\n",
    "    for i, ref_val in enumerate(Tuffery_df[feature].values):\n",
    "        for j, gen_val in enumerate(Celine_df[feature].values):\n",
    "            difference = ref_val - gen_val\n",
    "            difference_results_stylo_celine.append({\n",
    "                'Feature': feature,\n",
    "                'Celine_Index': i,\n",
    "                'Tuffery_Index': j,\n",
    "                'Difference': difference\n",
    "            })\n",
    "\n",
    "difference_df_stylo_cond1_celine = pd.DataFrame(difference_results_stylo_celine)\n",
    "\n",
    "difference_results_stylo_yourcenar = []\n",
    "\n",
    "for feature in features:\n",
    "    for i, ref_val in enumerate(Tuffery_df[feature].values):\n",
    "        for j, gen_val in enumerate(Yourcenar_df[feature].values):\n",
    "            difference = ref_val - gen_val\n",
    "            difference_results_stylo_yourcenar.append({\n",
    "                'Feature': feature,\n",
    "                'Yourcenar_Index': i,\n",
    "                'Tuffery_Index': j,\n",
    "                'Difference': difference\n",
    "            })\n",
    "\n",
    "difference_df_stylo_cond1_yourcenar = pd.DataFrame(difference_results_stylo_yourcenar)\n"
   ]
  },
  {
   "cell_type": "code",
   "execution_count": null,
   "metadata": {},
   "outputs": [],
   "source": [
    "correlation_df_cond1_proust = calculate_correlations_with_significance(difference_df_stylo_cond1_proust, difference_df_cond1_proust)\n",
    "correlation_df_cond1_proust.rename(columns={'Correlation': 'Correlation_proust'}, inplace=True)\n",
    "correlation_df_cond1_proust.rename(columns={'P-value': 'P-value_proust'}, inplace=True)\n",
    "correlation_df_cond1_proust.rename(columns={'P-value_symbole': 'P-value_symbole_proust'}, inplace=True)\n",
    "\n",
    "correlation_df_cond1_celine = calculate_correlations_with_significance(difference_df_stylo_cond1_celine, difference_df_cond1_celine)\n",
    "correlation_df_cond1_celine.rename(columns={'Correlation': 'Correlation_celine'}, inplace=True)\n",
    "correlation_df_cond1_celine.rename(columns={'P-value': 'P-value_celine'}, inplace=True)\n",
    "correlation_df_cond1_celine.rename(columns={'P-value_symbole': 'P-value_symbole_celine'}, inplace=True)\n",
    "\n",
    "correlation_df_cond1_yourcenar = calculate_correlations_with_significance(difference_df_stylo_cond1_yourcenar, difference_df_cond1_yourcenar)\n",
    "correlation_df_cond1_yourcenar.rename(columns={'Correlation': 'Correlation_yourcenar'}, inplace=True)\n",
    "correlation_df_cond1_yourcenar.rename(columns={'P-value': 'P-value_yourcenar'}, inplace=True)\n",
    "correlation_df_cond1_yourcenar.rename(columns={'P-value_symbole': 'P-value_symbole_yourcenar'}, inplace=True)\n",
    "\n",
    "\n",
    "correlation_df_cond1 = correlation_df_cond1_proust.merge(correlation_df_cond1_celine, on='Feature').merge(correlation_df_cond1_yourcenar, on='Feature')\n",
    "print(correlation_df_cond1.to_string())"
   ]
  },
  {
   "cell_type": "markdown",
   "metadata": {},
   "source": [
    "## Per feature, per author, all genAI : correlation, p-value"
   ]
  },
  {
   "cell_type": "code",
   "execution_count": null,
   "metadata": {},
   "outputs": [],
   "source": [
    "Tuffery_distances = mean_distances_df[mean_distances_df['genAI'] == 'No']['Mean_Distance_From_Centroid'].values\n",
    "\n",
    "GenAI_distances = {}\n",
    "difference_df_cond1 = {}\n",
    "\n",
    "\n",
    "\n",
    "GenAI_distances = {}\n",
    "difference_df_cond1 = {}\n",
    "\n",
    "for auteur in [\"Proust\", \"Celine\", \"Yourcenar\"]:\n",
    "    GenAI_distances[auteur] = mean_distances_df[mean_distances_df['author'] == auteur]['Mean_Distance_From_Centroid'].values\n",
    "\n",
    "    difference_results = []\n",
    "\n",
    "    for i, ref_dist in enumerate(Tuffery_distances):\n",
    "        for j, gen_dist in enumerate(GenAI_distances[auteur]):\n",
    "            difference = ref_dist - gen_dist\n",
    "            difference_results.append({\n",
    "                'Tuffery_Index': i,\n",
    "                f'{auteur}_Index': j,\n",
    "                'Difference': difference\n",
    "            })\n",
    "\n",
    "    difference_df_cond1[auteur] = pd.DataFrame(difference_results)"
   ]
  },
  {
   "cell_type": "code",
   "execution_count": null,
   "metadata": {},
   "outputs": [],
   "source": [
    "Mistral_df = stylo_df[stylo_df['genAI'] == 'mistral']\n",
    "Gpt_df = stylo_df[stylo_df['genAI'] == 'gpt']\n",
    "Gemini_df = stylo_df[stylo_df['genAI'] == 'gemini']\n",
    "Tuffery_df = stylo_df[stylo_df['genAI'] == 'No']\n",
    "\n",
    "GenAI_stylo = {}\n",
    "difference_df_stylo_cond1 = {}\n",
    "\n",
    "features = ['Letters', 'TAG', 'NER', 'Structural', 'Entropy']\n",
    "\n",
    "for auteur in [\"Proust\", \"Celine\", \"Yourcenar\"]:\n",
    "    GenAI_stylo[auteur] = stylo_df[stylo_df['author'] == auteur]\n",
    "\n",
    "    difference_results_stylo = []\n",
    "\n",
    "    for feature in features:\n",
    "        for i, ref_val in enumerate(Tuffery_df[feature].values):\n",
    "            for j, gen_val in enumerate(GenAI_stylo[auteur][feature].values):\n",
    "                difference = ref_val - gen_val\n",
    "                difference_results_stylo.append({\n",
    "                    'Feature': feature,\n",
    "                    'Mistral_Index': i,\n",
    "                    f'{auteur}_Index': j,\n",
    "                    'Difference': difference\n",
    "                })\n",
    "    difference_df_stylo_cond1[auteur] = pd.DataFrame(difference_results_stylo)"
   ]
  },
  {
   "cell_type": "code",
   "execution_count": null,
   "metadata": {},
   "outputs": [],
   "source": [
    "for auteur in [\"Proust\", \"Celine\", \"Yourcenar\"]:\n",
    "\n",
    "    correlation_df_cond1 = calculate_correlations_with_significance(difference_df_stylo_cond1[auteur], difference_df_cond1[auteur])\n",
    "\n",
    "    print(f\"\\n {auteur}\\n \")\n",
    "    print(correlation_df_cond1.to_string())"
   ]
  },
  {
   "cell_type": "markdown",
   "metadata": {
    "id": "tKoR04kKcQaQ"
   },
   "source": [
    "## Toutes features confondues, per genAI, all authors : correlation, p-value"
   ]
  },
  {
   "cell_type": "markdown",
   "metadata": {
    "id": "iafEJZ1zZR4f"
   },
   "source": [
    "### Z-test : correlations différentes deux à deux"
   ]
  },
  {
   "cell_type": "code",
   "execution_count": 15,
   "metadata": {
    "colab": {
     "base_uri": "https://localhost:8080/"
    },
    "executionInfo": {
     "elapsed": 41,
     "status": "ok",
     "timestamp": 1755002759456,
     "user": {
      "displayName": "Benjamin Icard",
      "userId": "03834653573016242850"
     },
     "user_tz": -120
    },
    "id": "trOy0bmgQNgD",
    "outputId": "34c26907-c554-4e2b-899a-01e368fb9d5d"
   },
   "outputs": [
    {
     "name": "stdout",
     "output_type": "stream",
     "text": [
      "Entre Mistral et Gpt : \n",
      "Mean \t \t z = 4.7397 \t p = 0.0000\n",
      "\n",
      "Entre Mistral et Gemini : \n",
      "Mean \t \t z = 2.4884 \t p = 1.28e-02\n",
      "\n",
      "Entre Gpt et Gemini : \n",
      "Mean \t \t z = 2.2513 \t p = 2.44e-02\n"
     ]
    }
   ],
   "source": [
    "## Testing if the correlations are significatively different\n",
    "\n",
    "print(\"Entre Mistral et Gpt : \")\n",
    "\n",
    "for row in correlation_df_cond1.iterrows():\n",
    "  feature = row[1]['Feature']\n",
    "\n",
    "  z_score_mistral_gpt, p_value_mistral_gpt = compare_correlations(row[1][\"Correlation_mistral\"], 27648 , row[1][\"Correlation_gpt\"], 27648 )\n",
    "  if len(feature) > 4:\n",
    "    print(f\"{feature} \\t z = {z_score_mistral_gpt:.4f} \\t p = {p_value_mistral_gpt:.4f}\")\n",
    "  else:\n",
    "    print(f\"{feature} \\t \\t z = {z_score_mistral_gpt:.4f} \\t p = {p_value_mistral_gpt:.4f}\")\n",
    "\n",
    "print(\"\\nEntre Mistral et Gemini : \")\n",
    "\n",
    "for row in correlation_df_cond1.iterrows():\n",
    "  feature = row[1]['Feature']\n",
    "\n",
    "  z_score_mistral_gemini, p_value_mistral_gemini = compare_correlations(row[1][\"Correlation_mistral\"], 27648 , row[1][\"Correlation_gemini\"], 27648 )\n",
    "  if len(feature) > 4:\n",
    "    print(f\"{feature} \\t z = {z_score_mistral_gemini:.4f} \\t p = {p_value_mistral_gemini:.2e}\")\n",
    "  else:\n",
    "    print(f\"{feature} \\t \\t z = {z_score_mistral_gemini:.4f} \\t p = {p_value_mistral_gemini:.2e}\")\n",
    "\n",
    "print(\"\\nEntre Gpt et Gemini : \")\n",
    "\n",
    "for row in correlation_df_cond1.iterrows():\n",
    "  feature = row[1]['Feature']\n",
    "\n",
    "  z_score_gpt_gemini, p_value_gpt_gemini = compare_correlations(row[1][\"Correlation_gpt\"], 27648 , row[1][\"Correlation_gemini\"], 27648 )\n",
    "  if len(feature) > 4:\n",
    "    print(f\"{feature} \\t z = {z_score_gpt_gemini:.4f} \\t p = {p_value_gpt_gemini:.2e}\")\n",
    "  else:\n",
    "    print(f\"{feature} \\t \\t z = {z_score_gpt_gemini:.4f} \\t p = {p_value_gpt_gemini:.2e}\")\n",
    "\n"
   ]
  },
  {
   "cell_type": "code",
   "execution_count": null,
   "metadata": {
    "colab": {
     "base_uri": "https://localhost:8080/",
     "height": 419
    },
    "executionInfo": {
     "elapsed": 238,
     "status": "ok",
     "timestamp": 1755002759765,
     "user": {
      "displayName": "Benjamin Icard",
      "userId": "03834653573016242850"
     },
     "user_tz": -120
    },
    "id": "pphm7fWrlxvO",
    "outputId": "a31fc144-d0af-4a41-d5dd-0b69b17f6b9c"
   },
   "outputs": [
    {
     "data": {
      "text/html": [
       "<div>\n",
       "<style scoped>\n",
       "    .dataframe tbody tr th:only-of-type {\n",
       "        vertical-align: middle;\n",
       "    }\n",
       "\n",
       "    .dataframe tbody tr th {\n",
       "        vertical-align: top;\n",
       "    }\n",
       "\n",
       "    .dataframe thead th {\n",
       "        text-align: right;\n",
       "    }\n",
       "</style>\n",
       "<table border=\"1\" class=\"dataframe\">\n",
       "  <thead>\n",
       "    <tr style=\"text-align: right;\">\n",
       "      <th></th>\n",
       "      <th>Tuffery_Index</th>\n",
       "      <th>Yourcenar_Index</th>\n",
       "      <th>Difference</th>\n",
       "    </tr>\n",
       "  </thead>\n",
       "  <tbody>\n",
       "    <tr>\n",
       "      <th>0</th>\n",
       "      <td>0</td>\n",
       "      <td>0</td>\n",
       "      <td>-0.140511</td>\n",
       "    </tr>\n",
       "    <tr>\n",
       "      <th>1</th>\n",
       "      <td>0</td>\n",
       "      <td>1</td>\n",
       "      <td>-0.597226</td>\n",
       "    </tr>\n",
       "    <tr>\n",
       "      <th>2</th>\n",
       "      <td>0</td>\n",
       "      <td>2</td>\n",
       "      <td>-0.462544</td>\n",
       "    </tr>\n",
       "    <tr>\n",
       "      <th>3</th>\n",
       "      <td>0</td>\n",
       "      <td>3</td>\n",
       "      <td>-0.442218</td>\n",
       "    </tr>\n",
       "    <tr>\n",
       "      <th>4</th>\n",
       "      <td>0</td>\n",
       "      <td>4</td>\n",
       "      <td>-0.638528</td>\n",
       "    </tr>\n",
       "    <tr>\n",
       "      <th>...</th>\n",
       "      <td>...</td>\n",
       "      <td>...</td>\n",
       "      <td>...</td>\n",
       "    </tr>\n",
       "    <tr>\n",
       "      <th>27643</th>\n",
       "      <td>95</td>\n",
       "      <td>283</td>\n",
       "      <td>-0.190541</td>\n",
       "    </tr>\n",
       "    <tr>\n",
       "      <th>27644</th>\n",
       "      <td>95</td>\n",
       "      <td>284</td>\n",
       "      <td>-0.316553</td>\n",
       "    </tr>\n",
       "    <tr>\n",
       "      <th>27645</th>\n",
       "      <td>95</td>\n",
       "      <td>285</td>\n",
       "      <td>0.100418</td>\n",
       "    </tr>\n",
       "    <tr>\n",
       "      <th>27646</th>\n",
       "      <td>95</td>\n",
       "      <td>286</td>\n",
       "      <td>0.017426</td>\n",
       "    </tr>\n",
       "    <tr>\n",
       "      <th>27647</th>\n",
       "      <td>95</td>\n",
       "      <td>287</td>\n",
       "      <td>-0.167048</td>\n",
       "    </tr>\n",
       "  </tbody>\n",
       "</table>\n",
       "<p>27648 rows × 3 columns</p>\n",
       "</div>"
      ],
      "text/plain": [
       "       Tuffery_Index  Yourcenar_Index  Difference\n",
       "0                  0                0   -0.140511\n",
       "1                  0                1   -0.597226\n",
       "2                  0                2   -0.462544\n",
       "3                  0                3   -0.442218\n",
       "4                  0                4   -0.638528\n",
       "...              ...              ...         ...\n",
       "27643             95              283   -0.190541\n",
       "27644             95              284   -0.316553\n",
       "27645             95              285    0.100418\n",
       "27646             95              286    0.017426\n",
       "27647             95              287   -0.167048\n",
       "\n",
       "[27648 rows x 3 columns]"
      ]
     },
     "execution_count": 16,
     "metadata": {},
     "output_type": "execute_result"
    }
   ],
   "source": [
    "Tuffery_distances = mean_distances_df[mean_distances_df['genAI'] == 'No']['Mean_Distance_From_Centroid'].values\n",
    "Proust_distances = mean_distances_df[mean_distances_df['author'] == 'Proust']['Mean_Distance_From_Centroid'].values\n",
    "Celine_distances = mean_distances_df[mean_distances_df['author'] == 'Celine']['Mean_Distance_From_Centroid'].values\n",
    "Yourcenar_distances = mean_distances_df[mean_distances_df['author'] == 'Yourcenar']['Mean_Distance_From_Centroid'].values\n",
    "\n",
    "difference_results_proust = []\n",
    "\n",
    "for i, ref_dist in enumerate(Tuffery_distances):\n",
    "    for j, gen_dist in enumerate(Proust_distances):\n",
    "        difference = ref_dist - gen_dist\n",
    "        difference_results_proust.append({\n",
    "            'Tuffery_Index': i,\n",
    "            'Proust_Index': j,\n",
    "            'Difference': difference\n",
    "        })\n",
    "\n",
    "difference_df_cond1_proust = pd.DataFrame(difference_results_proust)\n",
    "\n",
    "difference_results_celine = []\n",
    "\n",
    "for i, ref_dist in enumerate(Tuffery_distances):\n",
    "    for j, gen_dist in enumerate(Celine_distances):\n",
    "        difference = ref_dist - gen_dist\n",
    "        difference_results_celine.append({\n",
    "            'Tuffery_Index': i,\n",
    "            'Celine_Index': j,\n",
    "            'Difference': difference\n",
    "        })\n",
    "\n",
    "difference_df_cond1_celine = pd.DataFrame(difference_results_celine)\n",
    "\n",
    "difference_results_yourcenar = []\n",
    "\n",
    "for i, ref_dist in enumerate(Tuffery_distances):\n",
    "    for j, gen_dist in enumerate(Yourcenar_distances):\n",
    "        difference = ref_dist - gen_dist\n",
    "        difference_results_yourcenar.append({\n",
    "            'Tuffery_Index': i,\n",
    "            'Yourcenar_Index': j,\n",
    "            'Difference': difference\n",
    "        })\n",
    "\n",
    "difference_df_cond1_yourcenar = pd.DataFrame(difference_results_yourcenar)"
   ]
  },
  {
   "cell_type": "code",
   "execution_count": null,
   "metadata": {
    "colab": {
     "base_uri": "https://localhost:8080/",
     "height": 419
    },
    "executionInfo": {
     "elapsed": 284,
     "status": "ok",
     "timestamp": 1755002759880,
     "user": {
      "displayName": "Benjamin Icard",
      "userId": "03834653573016242850"
     },
     "user_tz": -120
    },
    "id": "5vdhXFWelxvR",
    "outputId": "74694724-ff08-4bb5-e202-35ef13d91214"
   },
   "outputs": [
    {
     "data": {
      "text/html": [
       "<div>\n",
       "<style scoped>\n",
       "    .dataframe tbody tr th:only-of-type {\n",
       "        vertical-align: middle;\n",
       "    }\n",
       "\n",
       "    .dataframe tbody tr th {\n",
       "        vertical-align: top;\n",
       "    }\n",
       "\n",
       "    .dataframe thead th {\n",
       "        text-align: right;\n",
       "    }\n",
       "</style>\n",
       "<table border=\"1\" class=\"dataframe\">\n",
       "  <thead>\n",
       "    <tr style=\"text-align: right;\">\n",
       "      <th></th>\n",
       "      <th>Feature</th>\n",
       "      <th>Yourcenar_Index</th>\n",
       "      <th>Tuffery_Index</th>\n",
       "      <th>Difference</th>\n",
       "    </tr>\n",
       "  </thead>\n",
       "  <tbody>\n",
       "    <tr>\n",
       "      <th>0</th>\n",
       "      <td>Mean</td>\n",
       "      <td>0</td>\n",
       "      <td>0</td>\n",
       "      <td>-0.005639</td>\n",
       "    </tr>\n",
       "    <tr>\n",
       "      <th>1</th>\n",
       "      <td>Mean</td>\n",
       "      <td>0</td>\n",
       "      <td>1</td>\n",
       "      <td>-0.065813</td>\n",
       "    </tr>\n",
       "    <tr>\n",
       "      <th>2</th>\n",
       "      <td>Mean</td>\n",
       "      <td>0</td>\n",
       "      <td>2</td>\n",
       "      <td>-0.093072</td>\n",
       "    </tr>\n",
       "    <tr>\n",
       "      <th>3</th>\n",
       "      <td>Mean</td>\n",
       "      <td>0</td>\n",
       "      <td>3</td>\n",
       "      <td>-0.003738</td>\n",
       "    </tr>\n",
       "    <tr>\n",
       "      <th>4</th>\n",
       "      <td>Mean</td>\n",
       "      <td>0</td>\n",
       "      <td>4</td>\n",
       "      <td>-0.021742</td>\n",
       "    </tr>\n",
       "    <tr>\n",
       "      <th>...</th>\n",
       "      <td>...</td>\n",
       "      <td>...</td>\n",
       "      <td>...</td>\n",
       "      <td>...</td>\n",
       "    </tr>\n",
       "    <tr>\n",
       "      <th>27643</th>\n",
       "      <td>Mean</td>\n",
       "      <td>95</td>\n",
       "      <td>283</td>\n",
       "      <td>-0.006012</td>\n",
       "    </tr>\n",
       "    <tr>\n",
       "      <th>27644</th>\n",
       "      <td>Mean</td>\n",
       "      <td>95</td>\n",
       "      <td>284</td>\n",
       "      <td>-0.011445</td>\n",
       "    </tr>\n",
       "    <tr>\n",
       "      <th>27645</th>\n",
       "      <td>Mean</td>\n",
       "      <td>95</td>\n",
       "      <td>285</td>\n",
       "      <td>0.038178</td>\n",
       "    </tr>\n",
       "    <tr>\n",
       "      <th>27646</th>\n",
       "      <td>Mean</td>\n",
       "      <td>95</td>\n",
       "      <td>286</td>\n",
       "      <td>-0.026641</td>\n",
       "    </tr>\n",
       "    <tr>\n",
       "      <th>27647</th>\n",
       "      <td>Mean</td>\n",
       "      <td>95</td>\n",
       "      <td>287</td>\n",
       "      <td>-0.015127</td>\n",
       "    </tr>\n",
       "  </tbody>\n",
       "</table>\n",
       "<p>27648 rows × 4 columns</p>\n",
       "</div>"
      ],
      "text/plain": [
       "      Feature  Yourcenar_Index  Tuffery_Index  Difference\n",
       "0        Mean                0              0   -0.005639\n",
       "1        Mean                0              1   -0.065813\n",
       "2        Mean                0              2   -0.093072\n",
       "3        Mean                0              3   -0.003738\n",
       "4        Mean                0              4   -0.021742\n",
       "...       ...              ...            ...         ...\n",
       "27643    Mean               95            283   -0.006012\n",
       "27644    Mean               95            284   -0.011445\n",
       "27645    Mean               95            285    0.038178\n",
       "27646    Mean               95            286   -0.026641\n",
       "27647    Mean               95            287   -0.015127\n",
       "\n",
       "[27648 rows x 4 columns]"
      ]
     },
     "execution_count": 17,
     "metadata": {},
     "output_type": "execute_result"
    }
   ],
   "source": [
    "Proust_df = stylo_df[stylo_df['author'] == 'Proust']\n",
    "Celine_df = stylo_df[stylo_df['author'] == 'Celine']\n",
    "Yourcenar_df = stylo_df[stylo_df['author'] == 'Yourcenar']\n",
    "Tuffery_df = stylo_df[stylo_df['genAI'] == 'No']\n",
    "features = ['Mean']\n",
    "\n",
    "difference_results_stylo_proust = []\n",
    "\n",
    "for feature in features:\n",
    "    for i, ref_val in enumerate(Tuffery_df[feature].values):\n",
    "        for j, gen_val in enumerate(Proust_df[feature].values):\n",
    "            difference = ref_val - gen_val\n",
    "            difference_results_stylo_proust.append({\n",
    "                'Feature': feature,\n",
    "                'Proust_Index': i,\n",
    "                'Tuffery_Index': j,\n",
    "                'Difference': difference\n",
    "            })\n",
    "\n",
    "difference_df_stylo_cond1_proust = pd.DataFrame(difference_results_stylo_proust)\n",
    "\n",
    "difference_results_stylo_celine = []\n",
    "\n",
    "for feature in features:\n",
    "    for i, ref_val in enumerate(Tuffery_df[feature].values):\n",
    "        for j, gen_val in enumerate(Celine_df[feature].values):\n",
    "            difference = ref_val - gen_val\n",
    "            difference_results_stylo_celine.append({\n",
    "                'Feature': feature,\n",
    "                'Celine_Index': i,\n",
    "                'Tuffery_Index': j,\n",
    "                'Difference': difference\n",
    "            })\n",
    "\n",
    "difference_df_stylo_cond1_celine = pd.DataFrame(difference_results_stylo_celine)\n",
    "\n",
    "difference_results_stylo_yourcenar = []\n",
    "\n",
    "for feature in features:\n",
    "    for i, ref_val in enumerate(Tuffery_df[feature].values):\n",
    "        for j, gen_val in enumerate(Yourcenar_df[feature].values):\n",
    "            difference = ref_val - gen_val\n",
    "            difference_results_stylo_yourcenar.append({\n",
    "                'Feature': feature,\n",
    "                'Yourcenar_Index': i,\n",
    "                'Tuffery_Index': j,\n",
    "                'Difference': difference\n",
    "            })\n",
    "\n",
    "difference_df_stylo_cond1_yourcenar = pd.DataFrame(difference_results_stylo_yourcenar)\n"
   ]
  },
  {
   "cell_type": "code",
   "execution_count": null,
   "metadata": {
    "colab": {
     "base_uri": "https://localhost:8080/"
    },
    "executionInfo": {
     "elapsed": 66,
     "status": "ok",
     "timestamp": 1755002759948,
     "user": {
      "displayName": "Benjamin Icard",
      "userId": "03834653573016242850"
     },
     "user_tz": -120
    },
    "id": "OlwNKVs-lxvT",
    "outputId": "3bee825b-a1cc-4e29-c1f6-9fd006640853"
   },
   "outputs": [
    {
     "name": "stdout",
     "output_type": "stream",
     "text": [
      "  Feature  Correlation_proust P-value_symbole_proust  P-value_proust  Correlation_celine P-value_symbole_celine  P-value_celine  Correlation_yourcenar P-value_symbole_yourcenar  P-value_yourcenar\n",
      "0    Mean            0.149073                     **   3.925072e-137            0.120099                     **    2.398459e-89               0.086032                        **       1.398676e-46\n"
     ]
    }
   ],
   "source": [
    "correlation_df_cond1_proust = calculate_correlations_with_significance(difference_df_stylo_cond1_proust, difference_df_cond1_proust)\n",
    "correlation_df_cond1_proust.rename(columns={'Correlation': 'Correlation_proust'}, inplace=True)\n",
    "correlation_df_cond1_proust.rename(columns={'P-value': 'P-value_proust'}, inplace=True)\n",
    "correlation_df_cond1_proust.rename(columns={'P-value_symbole': 'P-value_symbole_proust'}, inplace=True)\n",
    "\n",
    "correlation_df_cond1_celine = calculate_correlations_with_significance(difference_df_stylo_cond1_celine, difference_df_cond1_celine)\n",
    "correlation_df_cond1_celine.rename(columns={'Correlation': 'Correlation_celine'}, inplace=True)\n",
    "correlation_df_cond1_celine.rename(columns={'P-value': 'P-value_celine'}, inplace=True)\n",
    "correlation_df_cond1_celine.rename(columns={'P-value_symbole': 'P-value_symbole_celine'}, inplace=True)\n",
    "\n",
    "correlation_df_cond1_yourcenar = calculate_correlations_with_significance(difference_df_stylo_cond1_yourcenar, difference_df_cond1_yourcenar)\n",
    "correlation_df_cond1_yourcenar.rename(columns={'Correlation': 'Correlation_yourcenar'}, inplace=True)\n",
    "correlation_df_cond1_yourcenar.rename(columns={'P-value': 'P-value_yourcenar'}, inplace=True)\n",
    "correlation_df_cond1_yourcenar.rename(columns={'P-value_symbole': 'P-value_symbole_yourcenar'}, inplace=True)\n",
    "\n",
    "\n",
    "correlation_df_cond1 = correlation_df_cond1_proust.merge(correlation_df_cond1_celine, on='Feature').merge(correlation_df_cond1_yourcenar, on='Feature')\n",
    "print(correlation_df_cond1.to_string())"
   ]
  },
  {
   "cell_type": "markdown",
   "metadata": {
    "id": "uG6CbUJubwIy"
   },
   "source": [
    "## Toutes features confondues, per genAI, per authors : correlation, p-value"
   ]
  },
  {
   "cell_type": "code",
   "execution_count": 19,
   "metadata": {
    "id": "Xm-TMbv0bs4T"
   },
   "outputs": [],
   "source": [
    "#### DISPERSION DELTA ANALYSIS FOR 2 COMPARISONS\n",
    "\n",
    "\n",
    "## Humans vs genAI\n",
    "\n",
    "# Dispersion delta\n",
    "Tuffery_distances = mean_distances_df[mean_distances_df['genAI'] == 'No']['Mean_Distance_From_Centroid'].values\n",
    "\n",
    "GenAI_distances = {}\n",
    "difference_df_cond1 = {}\n",
    "\n",
    "\n",
    "for genAI in [\"mistral\", \"gpt\", \"gemini\"]:\n",
    "\n",
    "    GenAI_distances[genAI] = {}\n",
    "    difference_df_cond1[genAI] = {}\n",
    "    mean_distances_genAI = mean_distances_df[mean_distances_df['genAI'] == genAI]\n",
    "\n",
    "    for auteur in [\"Proust\", \"Celine\", \"Yourcenar\"]:\n",
    "        GenAI_distances[genAI][auteur] = mean_distances_genAI[mean_distances_genAI['author'] == auteur]['Mean_Distance_From_Centroid'].values\n",
    "\n",
    "        # List to store the results\n",
    "        difference_results = []\n",
    "\n",
    "        for i, ref_dist in enumerate(Tuffery_distances):\n",
    "            for j, gen_dist in enumerate(GenAI_distances[genAI][auteur]):\n",
    "                difference = ref_dist - gen_dist\n",
    "                difference_results.append({\n",
    "                    'Tuffery_Index': i,\n",
    "                    f'{genAI}_{auteur}_Index': j,\n",
    "                    'Difference': difference\n",
    "                })\n",
    "\n",
    "        difference_df_cond1[genAI][auteur] = pd.DataFrame(difference_results)"
   ]
  },
  {
   "cell_type": "code",
   "execution_count": 20,
   "metadata": {
    "id": "FC_BP1KUeulP"
   },
   "outputs": [],
   "source": [
    "# Style delta calculation\n",
    "\n",
    "Mistral_df = stylo_df[stylo_df['genAI'] == 'mistral']\n",
    "Gpt_df = stylo_df[stylo_df['genAI'] == 'gpt']\n",
    "Gemini_df = stylo_df[stylo_df['genAI'] == 'gemini']\n",
    "Tuffery_df = stylo_df[stylo_df['genAI'] == 'No']\n",
    "\n",
    "GenAI_stylo = {}\n",
    "difference_df_stylo_cond1 = {}\n",
    "\n",
    "# List of stylistic features\n",
    "# features = ['Function words', 'Letters', 'Numbers', 'TAG', 'NER', 'Structural', 'Punctuation', 'Indexes']\n",
    "features = ['Mean']\n",
    "\n",
    "for genAI in [\"mistral\", \"gpt\", \"gemini\"]:\n",
    "\n",
    "    GenAI_stylo[genAI] = {}\n",
    "    difference_df_stylo_cond1[genAI] = {}\n",
    "    stylo_genAI = stylo_df[stylo_df['genAI'] == genAI]\n",
    "\n",
    "    for auteur in [\"Proust\", \"Celine\", \"Yourcenar\"]:\n",
    "        GenAI_stylo[genAI][auteur] = stylo_genAI[stylo_genAI['author'] == auteur]\n",
    "\n",
    "        # List to store the results\n",
    "        difference_results_stylo = []\n",
    "\n",
    "        for feature in features:\n",
    "            for i, ref_val in enumerate(Tuffery_df[feature].values):\n",
    "                for j, gen_val in enumerate(GenAI_stylo[genAI][auteur][feature].values):\n",
    "                    difference = ref_val - gen_val\n",
    "                    difference_results_stylo.append({\n",
    "                        'Feature': feature,\n",
    "                        'Mistral_Index': i,\n",
    "                        f'{genAI}_{auteur}_Index': j,\n",
    "                        'Difference': difference\n",
    "                    })\n",
    "        difference_df_stylo_cond1[genAI][auteur] = pd.DataFrame(difference_results_stylo)"
   ]
  },
  {
   "cell_type": "code",
   "execution_count": 21,
   "metadata": {
    "colab": {
     "base_uri": "https://localhost:8080/"
    },
    "executionInfo": {
     "elapsed": 9,
     "status": "ok",
     "timestamp": 1755002760308,
     "user": {
      "displayName": "Benjamin Icard",
      "userId": "03834653573016242850"
     },
     "user_tz": -120
    },
    "id": "l4Zs6zyZf3dH",
    "outputId": "6bdffea3-6f30-4229-bf97-7c160a7aded8"
   },
   "outputs": [
    {
     "name": "stdout",
     "output_type": "stream",
     "text": [
      "mistral Proust\n",
      "  Feature  Correlation P-value_symbole       P-value\n",
      "0    Mean     0.147222              **  8.068892e-46\n",
      "mistral Celine\n",
      "  Feature  Correlation P-value_symbole       P-value\n",
      "0    Mean     0.158634              **  5.293407e-53\n",
      "mistral Yourcenar\n",
      "  Feature  Correlation P-value_symbole       P-value\n",
      "0    Mean     0.085907              **  1.442388e-16\n",
      "gpt Proust\n",
      "  Feature  Correlation P-value_symbole   P-value\n",
      "0    Mean     0.040619              **  0.000096\n",
      "gpt Celine\n",
      "  Feature  Correlation P-value_symbole       P-value\n",
      "0    Mean     0.129231              **  1.285324e-35\n",
      "gpt Yourcenar\n",
      "  Feature  Correlation P-value_symbole       P-value\n",
      "0    Mean     0.103893              **  1.532694e-23\n",
      "gemini Proust\n",
      "  Feature  Correlation P-value_symbole       P-value\n",
      "0    Mean     0.163929              **  1.589323e-56\n",
      "gemini Celine\n",
      "  Feature  Correlation P-value_symbole       P-value\n",
      "0    Mean     0.129953              **  5.316481e-36\n",
      "gemini Yourcenar\n",
      "  Feature  Correlation P-value_symbole       P-value\n",
      "0    Mean     0.070587              **  1.169435e-11\n"
     ]
    }
   ],
   "source": [
    "for genAI in [\"mistral\", \"gpt\", \"gemini\"]:\n",
    "\n",
    "    for auteur in [\"Proust\", \"Celine\", \"Yourcenar\"]:\n",
    "\n",
    "        correlation_df_cond1 = calculate_correlations_with_significance(difference_df_stylo_cond1[genAI][auteur], difference_df_cond1[genAI][auteur])\n",
    "\n",
    "        print(f\"{genAI} {auteur}\")\n",
    "        print(correlation_df_cond1.to_string())"
   ]
  },
  {
   "cell_type": "code",
   "execution_count": 22,
   "metadata": {
    "colab": {
     "base_uri": "https://localhost:8080/"
    },
    "executionInfo": {
     "elapsed": 136,
     "status": "ok",
     "timestamp": 1755002760445,
     "user": {
      "displayName": "Benjamin Icard",
      "userId": "03834653573016242850"
     },
     "user_tz": -120
    },
    "id": "ViFGpZ28DiUn",
    "outputId": "23bf0ed2-4f5a-4dbf-a1a0-b40ac5aa70b4"
   },
   "outputs": [
    {
     "name": "stdout",
     "output_type": "stream",
     "text": [
      "\u001b[1mPour MISTRAL \u001b[0m\n",
      "Entre Proust et Celine :\n",
      "\t z = 0.7931 \t p = 4.28e-01\n",
      "Entre Proust et Yourcenar :\n",
      "\t z = 4.2203 \t p = 2.44e-05\n",
      "Entre Celine et Yourcenar :\n",
      "\t z = 5.0134 \t p = 5.35e-07\n",
      "\u001b[1mPour GPT \u001b[0m\n",
      "Entre Proust et Celine :\n",
      "\t z = 6.0620 \t p = 1.34e-09\n",
      "Entre Proust et Yourcenar :\n",
      "\t z = 4.3185 \t p = 1.57e-05\n",
      "Entre Celine et Yourcenar :\n",
      "\t z = 1.7435 \t p = 8.12e-02\n",
      "\u001b[1mPour GEMINI \u001b[0m\n",
      "Entre Proust et Celine :\n",
      "\t z = 2.3571 \t p = 1.84e-02\n",
      "Entre Proust et Yourcenar :\n",
      "\t z = 6.4285 \t p = 1.29e-10\n",
      "Entre Celine et Yourcenar :\n",
      "\t z = 4.0714 \t p = 4.67e-05\n"
     ]
    }
   ],
   "source": [
    "# Author pairs to compare\n",
    "author_pairs = [['Proust', 'Celine'], ['Proust', 'Yourcenar'], ['Celine', 'Yourcenar']]\n",
    "\n",
    "# Loop by generative AI model\n",
    "for model in ['mistral', 'gpt', 'gemini']:\n",
    "    print(f\"\\033[1mPour {model.upper()} \\033[0m\")\n",
    "\n",
    "    for author1, author2 in author_pairs:\n",
    "        print(f\"Entre {author1} et {author2} :\")\n",
    "\n",
    "        # Get correlations\n",
    "        corr_df1 = calculate_correlations_with_significance(\n",
    "            difference_df_stylo_cond1[model][author1],\n",
    "            difference_df_cond1[model][author1]\n",
    "        )\n",
    "        corr_df2 = calculate_correlations_with_significance(\n",
    "            difference_df_stylo_cond1[model][author2],\n",
    "            difference_df_cond1[model][author2]\n",
    "        )\n",
    "\n",
    "        # Compare with Fisher's z-test\n",
    "        z_score, p_value = compare_correlations(\n",
    "            corr_df1[\"Correlation\"].values[0], 9216,\n",
    "            corr_df2[\"Correlation\"].values[0], 9216\n",
    "        )\n",
    "\n",
    "        print(f\"\\t z = {z_score:.4f} \\t p = {p_value:.2e}\")\n"
   ]
  },
  {
   "cell_type": "markdown",
   "metadata": {
    "id": "K6w8lUt075rC"
   },
   "source": [
    "### Z-test : correlations différentes deux à deux pour un auteur fixé"
   ]
  },
  {
   "cell_type": "code",
   "execution_count": 23,
   "metadata": {
    "colab": {
     "base_uri": "https://localhost:8080/"
    },
    "executionInfo": {
     "elapsed": 20,
     "status": "ok",
     "timestamp": 1755002760463,
     "user": {
      "displayName": "Benjamin Icard",
      "userId": "03834653573016242850"
     },
     "user_tz": -120
    },
    "id": "-4E-qzI-75rE",
    "outputId": "d357eceb-703d-49d6-90e7-f2822af2f054"
   },
   "outputs": [
    {
     "name": "stdout",
     "output_type": "stream",
     "text": [
      "\u001b[1m Pour Proust \u001b[0m\n",
      "Entre mistral et gemini : \n",
      "\t z = 1.1620 \t p = 2.45e-01\n",
      "Entre gpt et gemini : \n",
      "\t z = 8.4689 \t p = 0.00e+00\n",
      "Entre gpt et mistral : \n",
      "\t z = 7.3069 \t p = 2.73e-13\n",
      "\u001b[1m Pour Celine \u001b[0m\n",
      "Entre mistral et gemini : \n",
      "\t z = 1.9881 \t p = 4.68e-02\n",
      "Entre gpt et gemini : \n",
      "\t z = 0.0499 \t p = 9.60e-01\n",
      "Entre gpt et mistral : \n",
      "\t z = 2.0380 \t p = 4.15e-02\n",
      "\u001b[1m Pour Yourcenar \u001b[0m\n",
      "Entre mistral et gemini : \n",
      "\t z = 1.0461 \t p = 2.95e-01\n",
      "Entre gpt et gemini : \n",
      "\t z = 2.2780 \t p = 2.27e-02\n",
      "Entre gpt et mistral : \n",
      "\t z = 1.2319 \t p = 2.18e-01\n"
     ]
    }
   ],
   "source": [
    "## Testing if the correlations are significatively different\n",
    "genais = [['mistral', 'gemini'], ['gpt', 'gemini'], ['gpt', 'mistral']]\n",
    "\n",
    "\n",
    "\n",
    "for auteur in ['Proust', 'Celine', 'Yourcenar']:\n",
    "\n",
    "    print(f\"\\033[1m Pour {auteur} \\033[0m\")\n",
    "\n",
    "    for genAI_1, genAI_2 in genais:\n",
    "\n",
    "        print(f\"Entre {genAI_1} et {genAI_2} : \")\n",
    "\n",
    "        correlation_df_cond1_1 = calculate_correlations_with_significance(difference_df_stylo_cond1[genAI_1][auteur], difference_df_cond1[genAI_1][auteur])\n",
    "        correlation_df_cond1_2 = calculate_correlations_with_significance(difference_df_stylo_cond1[genAI_2][auteur], difference_df_cond1[genAI_2][auteur])\n",
    "        z_score, p_value = compare_correlations(correlation_df_cond1_1[\"Correlation\"].values[0], 9216 , correlation_df_cond1_2[\"Correlation\"].values[0], 9216 )\n",
    "\n",
    "        print(f\"\\t z = {z_score:.4f} \\t p = {p_value:.2e}\")"
   ]
  },
  {
   "cell_type": "code",
   "execution_count": 24,
   "metadata": {
    "colab": {
     "base_uri": "https://localhost:8080/"
    },
    "executionInfo": {
     "elapsed": 165,
     "status": "ok",
     "timestamp": 1755002760629,
     "user": {
      "displayName": "Benjamin Icard",
      "userId": "03834653573016242850"
     },
     "user_tz": -120
    },
    "id": "zqRk_KCSm0hm",
    "outputId": "b33ab829-3c94-457d-c996-04acfded5760"
   },
   "outputs": [
    {
     "name": "stdout",
     "output_type": "stream",
     "text": [
      "\u001b[1mComparaison entre Proust et Celine\u001b[0m\n",
      "\t z = 1.6086 \t p = 1.08e-01\n",
      "\u001b[1mComparaison entre Proust et Yourcenar\u001b[0m\n",
      "\t z = 3.1336 \t p = 1.73e-03\n",
      "\u001b[1mComparaison entre Celine et Yourcenar\u001b[0m\n",
      "\t z = 4.7421 \t p = 2.11e-06\n"
     ]
    }
   ],
   "source": [
    "author_pairs = [['Proust', 'Celine'], ['Proust', 'Yourcenar'], ['Celine', 'Yourcenar']]\n",
    "\n",
    "for author1, author2 in author_pairs:\n",
    "    print(f\"\\033[1mComparaison entre {author1} et {author2}\\033[0m\")\n",
    "\n",
    "    # Concatenate all gen AI data for each author\n",
    "    all_stylo_1 = pd.concat([difference_df_stylo_cond1[genAI][author1] for genAI in ['mistral', 'gpt', 'gemini']])\n",
    "    all_base_1 = pd.concat([difference_df_cond1[genAI][author1] for genAI in ['mistral', 'gpt', 'gemini']])\n",
    "\n",
    "    all_stylo_2 = pd.concat([difference_df_stylo_cond1[genAI][author2] for genAI in ['mistral', 'gpt', 'gemini']])\n",
    "    all_base_2 = pd.concat([difference_df_cond1[genAI][author2] for genAI in ['mistral', 'gpt', 'gemini']])\n",
    "\n",
    "    # Compute correlations\n",
    "    corr1 = calculate_correlations_with_significance(all_stylo_1, all_base_1)\n",
    "    corr2 = calculate_correlations_with_significance(all_stylo_2, all_base_2)\n",
    "\n",
    "    # Use combined N (assuming same size across models; else use len() on concatenated data)\n",
    "    n_total = len(all_stylo_1)\n",
    "\n",
    "    z, p = compare_correlations(corr1[\"Correlation\"].values[0], n_total, corr2[\"Correlation\"].values[0], n_total)\n",
    "\n",
    "    print(f\"\\t z = {z:.4f} \\t p = {p:.2e}\")\n"
   ]
  },
  {
   "cell_type": "code",
   "execution_count": 25,
   "metadata": {
    "colab": {
     "base_uri": "https://localhost:8080/"
    },
    "executionInfo": {
     "elapsed": 9,
     "status": "ok",
     "timestamp": 1755002760636,
     "user": {
      "displayName": "Benjamin Icard",
      "userId": "03834653573016242850"
     },
     "user_tz": -120
    },
    "id": "r7_gsd8ZiGFq",
    "outputId": "6ce2d7ae-6c96-4ff9-f035-c3c2cdf1e756"
   },
   "outputs": [
    {
     "name": "stdout",
     "output_type": "stream",
     "text": [
      "\u001b[1mComparaison entre MISTRAL et GPT\u001b[0m\n",
      "\t z = 5.2471 \t p = 1.55e-07\n",
      "\u001b[1mComparaison entre MISTRAL et GEMINI\u001b[0m\n",
      "\t z = 2.4884 \t p = 1.28e-02\n",
      "\u001b[1mComparaison entre GPT et GEMINI\u001b[0m\n",
      "\t z = 2.7587 \t p = 5.80e-03\n"
     ]
    }
   ],
   "source": [
    "model_pairs = [['mistral', 'gpt'], ['mistral', 'gemini'], ['gpt', 'gemini']]\n",
    "authors = ['Proust', 'Celine', 'Yourcenar']\n",
    "\n",
    "for model1, model2 in model_pairs:\n",
    "    print(f\"\\033[1mComparaison entre {model1.upper()} et {model2.upper()}\\033[0m\")\n",
    "\n",
    "    all_stylo_1 = pd.concat([difference_df_stylo_cond1[model1][a] for a in authors], ignore_index=True)\n",
    "    all_base_1  = pd.concat([difference_df_cond1[model1][a]        for a in authors], ignore_index=True)\n",
    "\n",
    "    all_stylo_2 = pd.concat([difference_df_stylo_cond1[model2][a] for a in authors], ignore_index=True)\n",
    "    all_base_2  = pd.concat([difference_df_cond1[model2][a]        for a in authors], ignore_index=True)\n",
    "\n",
    "    corr1 = calculate_correlations_with_significance(all_stylo_1, all_base_1)\n",
    "    corr2 = calculate_correlations_with_significance(all_stylo_2, all_base_2)\n",
    "\n",
    "    n1 = len(all_stylo_1)\n",
    "    n2 = len(all_stylo_2)\n",
    "\n",
    "    z, p = compare_correlations(\n",
    "        corr1[\"Correlation\"].values[0], n1,\n",
    "        corr2[\"Correlation\"].values[0], n2\n",
    "    )\n",
    "    print(f\"\\t z = {z:.4f} \\t p = {p:.2e}\")\n"
   ]
  },
  {
   "cell_type": "markdown",
   "metadata": {
    "id": "MlREZVxADnMt"
   },
   "source": [
    "## Per feature, per author, all genAI : correlation, p-value"
   ]
  },
  {
   "cell_type": "code",
   "execution_count": null,
   "metadata": {
    "id": "Gi7gwmmkDnMw"
   },
   "outputs": [],
   "source": [
    "Tuffery_distances = mean_distances_df[mean_distances_df['genAI'] == 'No']['Mean_Distance_From_Centroid'].values\n",
    "\n",
    "GenAI_distances = {}\n",
    "difference_df_cond1 = {}\n",
    "\n",
    "\n",
    "\n",
    "GenAI_distances = {}\n",
    "difference_df_cond1 = {}\n",
    "\n",
    "for auteur in [\"Proust\", \"Celine\", \"Yourcenar\"]:\n",
    "    GenAI_distances[auteur] = mean_distances_df[mean_distances_df['author'] == auteur]['Mean_Distance_From_Centroid'].values\n",
    "\n",
    "    difference_results = []\n",
    "\n",
    "    for i, ref_dist in enumerate(Tuffery_distances):\n",
    "        for j, gen_dist in enumerate(GenAI_distances[auteur]):\n",
    "            difference = ref_dist - gen_dist\n",
    "            difference_results.append({\n",
    "                'Tuffery_Index': i,\n",
    "                f'{auteur}_Index': j,\n",
    "                'Difference': difference\n",
    "            })\n",
    "\n",
    "    difference_df_cond1[auteur] = pd.DataFrame(difference_results)"
   ]
  },
  {
   "cell_type": "code",
   "execution_count": null,
   "metadata": {
    "id": "9Ti-SJKdDnMx"
   },
   "outputs": [
    {
     "ename": "KeyError",
     "evalue": "'Indexes'",
     "output_type": "error",
     "traceback": [
      "\u001b[0;31m---------------------------------------------------------------------------\u001b[0m",
      "\u001b[0;31mKeyError\u001b[0m                                  Traceback (most recent call last)",
      "File \u001b[0;32m~/.conda/envs/style/lib/python3.12/site-packages/pandas/core/indexes/base.py:3805\u001b[0m, in \u001b[0;36mIndex.get_loc\u001b[0;34m(self, key)\u001b[0m\n\u001b[1;32m   3804\u001b[0m \u001b[38;5;28;01mtry\u001b[39;00m:\n\u001b[0;32m-> 3805\u001b[0m     \u001b[38;5;28;01mreturn\u001b[39;00m \u001b[38;5;28;43mself\u001b[39;49m\u001b[38;5;241;43m.\u001b[39;49m\u001b[43m_engine\u001b[49m\u001b[38;5;241;43m.\u001b[39;49m\u001b[43mget_loc\u001b[49m\u001b[43m(\u001b[49m\u001b[43mcasted_key\u001b[49m\u001b[43m)\u001b[49m\n\u001b[1;32m   3806\u001b[0m \u001b[38;5;28;01mexcept\u001b[39;00m \u001b[38;5;167;01mKeyError\u001b[39;00m \u001b[38;5;28;01mas\u001b[39;00m err:\n",
      "File \u001b[0;32mindex.pyx:167\u001b[0m, in \u001b[0;36mpandas._libs.index.IndexEngine.get_loc\u001b[0;34m()\u001b[0m\n",
      "File \u001b[0;32mindex.pyx:196\u001b[0m, in \u001b[0;36mpandas._libs.index.IndexEngine.get_loc\u001b[0;34m()\u001b[0m\n",
      "File \u001b[0;32mpandas/_libs/hashtable_class_helper.pxi:7081\u001b[0m, in \u001b[0;36mpandas._libs.hashtable.PyObjectHashTable.get_item\u001b[0;34m()\u001b[0m\n",
      "File \u001b[0;32mpandas/_libs/hashtable_class_helper.pxi:7089\u001b[0m, in \u001b[0;36mpandas._libs.hashtable.PyObjectHashTable.get_item\u001b[0;34m()\u001b[0m\n",
      "\u001b[0;31mKeyError\u001b[0m: 'Indexes'",
      "\nThe above exception was the direct cause of the following exception:\n",
      "\u001b[0;31mKeyError\u001b[0m                                  Traceback (most recent call last)",
      "Cell \u001b[0;32mIn[28], line 24\u001b[0m\n\u001b[1;32m     21\u001b[0m difference_results_stylo \u001b[38;5;241m=\u001b[39m []\n\u001b[1;32m     23\u001b[0m \u001b[38;5;28;01mfor\u001b[39;00m feature \u001b[38;5;129;01min\u001b[39;00m features:\n\u001b[0;32m---> 24\u001b[0m     \u001b[38;5;28;01mfor\u001b[39;00m i, ref_val \u001b[38;5;129;01min\u001b[39;00m \u001b[38;5;28menumerate\u001b[39m(\u001b[43mTuffery_df\u001b[49m\u001b[43m[\u001b[49m\u001b[43mfeature\u001b[49m\u001b[43m]\u001b[49m\u001b[38;5;241m.\u001b[39mvalues):\n\u001b[1;32m     25\u001b[0m         \u001b[38;5;28;01mfor\u001b[39;00m j, gen_val \u001b[38;5;129;01min\u001b[39;00m \u001b[38;5;28menumerate\u001b[39m(GenAI_stylo[auteur][feature]\u001b[38;5;241m.\u001b[39mvalues):\n\u001b[1;32m     26\u001b[0m             difference \u001b[38;5;241m=\u001b[39m ref_val \u001b[38;5;241m-\u001b[39m gen_val\n",
      "File \u001b[0;32m~/.conda/envs/style/lib/python3.12/site-packages/pandas/core/frame.py:4102\u001b[0m, in \u001b[0;36mDataFrame.__getitem__\u001b[0;34m(self, key)\u001b[0m\n\u001b[1;32m   4100\u001b[0m \u001b[38;5;28;01mif\u001b[39;00m \u001b[38;5;28mself\u001b[39m\u001b[38;5;241m.\u001b[39mcolumns\u001b[38;5;241m.\u001b[39mnlevels \u001b[38;5;241m>\u001b[39m \u001b[38;5;241m1\u001b[39m:\n\u001b[1;32m   4101\u001b[0m     \u001b[38;5;28;01mreturn\u001b[39;00m \u001b[38;5;28mself\u001b[39m\u001b[38;5;241m.\u001b[39m_getitem_multilevel(key)\n\u001b[0;32m-> 4102\u001b[0m indexer \u001b[38;5;241m=\u001b[39m \u001b[38;5;28;43mself\u001b[39;49m\u001b[38;5;241;43m.\u001b[39;49m\u001b[43mcolumns\u001b[49m\u001b[38;5;241;43m.\u001b[39;49m\u001b[43mget_loc\u001b[49m\u001b[43m(\u001b[49m\u001b[43mkey\u001b[49m\u001b[43m)\u001b[49m\n\u001b[1;32m   4103\u001b[0m \u001b[38;5;28;01mif\u001b[39;00m is_integer(indexer):\n\u001b[1;32m   4104\u001b[0m     indexer \u001b[38;5;241m=\u001b[39m [indexer]\n",
      "File \u001b[0;32m~/.conda/envs/style/lib/python3.12/site-packages/pandas/core/indexes/base.py:3812\u001b[0m, in \u001b[0;36mIndex.get_loc\u001b[0;34m(self, key)\u001b[0m\n\u001b[1;32m   3807\u001b[0m     \u001b[38;5;28;01mif\u001b[39;00m \u001b[38;5;28misinstance\u001b[39m(casted_key, \u001b[38;5;28mslice\u001b[39m) \u001b[38;5;129;01mor\u001b[39;00m (\n\u001b[1;32m   3808\u001b[0m         \u001b[38;5;28misinstance\u001b[39m(casted_key, abc\u001b[38;5;241m.\u001b[39mIterable)\n\u001b[1;32m   3809\u001b[0m         \u001b[38;5;129;01mand\u001b[39;00m \u001b[38;5;28many\u001b[39m(\u001b[38;5;28misinstance\u001b[39m(x, \u001b[38;5;28mslice\u001b[39m) \u001b[38;5;28;01mfor\u001b[39;00m x \u001b[38;5;129;01min\u001b[39;00m casted_key)\n\u001b[1;32m   3810\u001b[0m     ):\n\u001b[1;32m   3811\u001b[0m         \u001b[38;5;28;01mraise\u001b[39;00m InvalidIndexError(key)\n\u001b[0;32m-> 3812\u001b[0m     \u001b[38;5;28;01mraise\u001b[39;00m \u001b[38;5;167;01mKeyError\u001b[39;00m(key) \u001b[38;5;28;01mfrom\u001b[39;00m \u001b[38;5;21;01merr\u001b[39;00m\n\u001b[1;32m   3813\u001b[0m \u001b[38;5;28;01mexcept\u001b[39;00m \u001b[38;5;167;01mTypeError\u001b[39;00m:\n\u001b[1;32m   3814\u001b[0m     \u001b[38;5;66;03m# If we have a listlike key, _check_indexing_error will raise\u001b[39;00m\n\u001b[1;32m   3815\u001b[0m     \u001b[38;5;66;03m#  InvalidIndexError. Otherwise we fall through and re-raise\u001b[39;00m\n\u001b[1;32m   3816\u001b[0m     \u001b[38;5;66;03m#  the TypeError.\u001b[39;00m\n\u001b[1;32m   3817\u001b[0m     \u001b[38;5;28mself\u001b[39m\u001b[38;5;241m.\u001b[39m_check_indexing_error(key)\n",
      "\u001b[0;31mKeyError\u001b[0m: 'Indexes'"
     ]
    }
   ],
   "source": [
    "Mistral_df = stylo_df[stylo_df['genAI'] == 'mistral']\n",
    "Gpt_df = stylo_df[stylo_df['genAI'] == 'gpt']\n",
    "Gemini_df = stylo_df[stylo_df['genAI'] == 'gemini']\n",
    "Tuffery_df = stylo_df[stylo_df['genAI'] == 'No']\n",
    "\n",
    "GenAI_stylo = {}\n",
    "difference_df_stylo_cond1 = {}\n",
    "\n",
    "features = ['Letters', 'TAG', 'NER', 'Structural', 'Entropy']\n",
    "\n",
    "for auteur in [\"Proust\", \"Celine\", \"Yourcenar\"]:\n",
    "    GenAI_stylo[auteur] = stylo_df[stylo_df['author'] == auteur]\n",
    "\n",
    "    difference_results_stylo = []\n",
    "\n",
    "    for feature in features:\n",
    "        for i, ref_val in enumerate(Tuffery_df[feature].values):\n",
    "            for j, gen_val in enumerate(GenAI_stylo[auteur][feature].values):\n",
    "                difference = ref_val - gen_val\n",
    "                difference_results_stylo.append({\n",
    "                    'Feature': feature,\n",
    "                    'Mistral_Index': i,\n",
    "                    f'{auteur}_Index': j,\n",
    "                    'Difference': difference\n",
    "                })\n",
    "    difference_df_stylo_cond1[auteur] = pd.DataFrame(difference_results_stylo)"
   ]
  },
  {
   "cell_type": "code",
   "execution_count": null,
   "metadata": {
    "colab": {
     "base_uri": "https://localhost:8080/"
    },
    "executionInfo": {
     "elapsed": 390,
     "status": "ok",
     "timestamp": 1755002762059,
     "user": {
      "displayName": "Benjamin Icard",
      "userId": "03834653573016242850"
     },
     "user_tz": -120
    },
    "id": "yzLsRLjpDnMy",
    "outputId": "06bfd575-4496-4540-a898-23d2d996a4d6"
   },
   "outputs": [
    {
     "name": "stdout",
     "output_type": "stream",
     "text": [
      "Proust\n",
      "      Feature  Correlation P-value_symbole        P-value\n",
      "0     Letters     0.082084              **   1.510172e-42\n",
      "1         TAG     0.043438              **   4.980796e-13\n",
      "2         NER     0.175239              **  1.563527e-189\n",
      "3  Structural     0.070063              **   1.955254e-31\n",
      "4     Indexes     0.113122              **   2.038254e-79\n",
      "Celine\n",
      "      Feature  Correlation P-value_symbole        P-value\n",
      "0     Letters     0.142667              **  1.190345e-125\n",
      "1         TAG    -0.000534                   9.292923e-01\n",
      "2         NER     0.172099              **  9.011091e-183\n",
      "3  Structural     0.007936                   1.870174e-01\n",
      "4     Indexes     0.069710              **   3.901578e-31\n",
      "Yourcenar\n",
      "      Feature  Correlation P-value_symbole       P-value\n",
      "0     Letters     0.119905              **  4.628675e-89\n",
      "1         TAG     0.019284              **  1.343164e-03\n",
      "2         NER     0.119233              **  4.431204e-88\n",
      "3  Structural     0.012493               *  3.778147e-02\n",
      "4     Indexes    -0.020302              **  7.355013e-04\n"
     ]
    }
   ],
   "source": [
    "for auteur in [\"Proust\", \"Celine\", \"Yourcenar\"]:\n",
    "\n",
    "    correlation_df_cond1 = calculate_correlations_with_significance(difference_df_stylo_cond1[auteur], difference_df_cond1[auteur])\n",
    "\n",
    "    print(f\"{auteur}\")\n",
    "    print(correlation_df_cond1.to_string())"
   ]
  },
  {
   "cell_type": "markdown",
   "metadata": {
    "id": "l6gx-sTBDnMz"
   },
   "source": [
    "### To latex"
   ]
  },
  {
   "cell_type": "markdown",
   "metadata": {
    "id": "593DSFYrDnM0"
   },
   "source": [
    "### Z-test : correlations différentes deux à deux pour un auteur fixé"
   ]
  },
  {
   "cell_type": "code",
   "execution_count": null,
   "metadata": {
    "colab": {
     "base_uri": "https://localhost:8080/",
     "height": 241
    },
    "executionInfo": {
     "elapsed": 105,
     "status": "error",
     "timestamp": 1755002762162,
     "user": {
      "displayName": "Benjamin Icard",
      "userId": "03834653573016242850"
     },
     "user_tz": -120
    },
    "id": "Lh3gQmPYDnM2",
    "outputId": "931f2414-2880-4746-b39e-088fcfa6d246"
   },
   "outputs": [
    {
     "name": "stdout",
     "output_type": "stream",
     "text": [
      "\u001b[1m Pour Proust \u001b[0m\n",
      "Entre mistral et gemini : \n"
     ]
    },
    {
     "ename": "KeyError",
     "evalue": "'mistral'",
     "output_type": "error",
     "traceback": [
      "\u001b[0;31m---------------------------------------------------------------------------\u001b[0m",
      "\u001b[0;31mKeyError\u001b[0m                                  Traceback (most recent call last)",
      "\u001b[0;32m/tmp/ipython-input-3151491840.py\u001b[0m in \u001b[0;36m<cell line: 0>\u001b[0;34m()\u001b[0m\n\u001b[1;32m     12\u001b[0m         \u001b[0;31m# Access the correctly structured data from cells like Xm-TMbv0bs4T and FC_BP1KUeulP\u001b[0m\u001b[0;34m\u001b[0m\u001b[0;34m\u001b[0m\u001b[0m\n\u001b[1;32m     13\u001b[0m         correlation_df_cond1_1 = calculate_correlations_with_significance(\n\u001b[0;32m---> 14\u001b[0;31m             \u001b[0mdifference_df_stylo_cond1\u001b[0m\u001b[0;34m[\u001b[0m\u001b[0mgenAI_1\u001b[0m\u001b[0;34m]\u001b[0m\u001b[0;34m[\u001b[0m\u001b[0mauteur\u001b[0m\u001b[0;34m]\u001b[0m\u001b[0;34m,\u001b[0m\u001b[0;34m\u001b[0m\u001b[0;34m\u001b[0m\u001b[0m\n\u001b[0m\u001b[1;32m     15\u001b[0m             \u001b[0mdifference_df_cond1\u001b[0m\u001b[0;34m[\u001b[0m\u001b[0mgenAI_1\u001b[0m\u001b[0;34m]\u001b[0m\u001b[0;34m[\u001b[0m\u001b[0mauteur\u001b[0m\u001b[0;34m]\u001b[0m\u001b[0;34m\u001b[0m\u001b[0;34m\u001b[0m\u001b[0m\n\u001b[1;32m     16\u001b[0m         )\n",
      "\u001b[0;31mKeyError\u001b[0m: 'mistral'"
     ]
    }
   ],
   "source": [
    "## Testing if the correlations are significatively different\n",
    "genais = [['mistral', 'gemini'], ['gpt', 'gemini'], ['gpt', 'mistral']]\n",
    "\n",
    "for auteur in ['Proust', 'Celine', 'Yourcenar']:\n",
    "\n",
    "    print(f\"\\033[1m Pour {auteur} \\033[0m\")\n",
    "\n",
    "    for genAI_1, genAI_2 in genais:\n",
    "\n",
    "        print(f\"Entre {genAI_1} et {genAI_2} : \")\n",
    "\n",
    "        # Access the correctly structured data from cells like Xm-TMbv0bs4T and FC_BP1KUeulP\n",
    "        correlation_df_cond1_1 = calculate_correlations_with_significance(\n",
    "            difference_df_stylo_cond1[genAI_1][auteur],\n",
    "            difference_df_cond1[genAI_1][auteur]\n",
    "        )\n",
    "        correlation_df_cond1_2 = calculate_correlations_with_significance(\n",
    "            difference_df_stylo_cond1[genAI_2][auteur],\n",
    "            difference_df_cond1[genAI_2][auteur]\n",
    "        )\n",
    "\n",
    "        # The sample size N for each comparison (Tuffery vs a specific genAI for a specific author)\n",
    "        # Number of Tuffery texts = 96\n",
    "        # Number of texts for each genAI for a specific author (Proust, Celine, or Yourcenar) = 288 / 3 = 96\n",
    "        # So, the sample size N for each comparison is 96 * 96 = 9216.\n",
    "        n_sample = 9216\n",
    "\n",
    "        z_score, p_value = compare_correlations(\n",
    "            correlation_df_cond1_1[\"Correlation\"].values[0], n_sample,\n",
    "            correlation_df_cond1_2[\"Correlation\"].values[0], n_sample\n",
    "        )\n",
    "\n",
    "        print(f\"\\t z = {z_score:.4f} \\t p = {p_value:.2e}\")"
   ]
  },
  {
   "cell_type": "markdown",
   "metadata": {
    "id": "LHfTG1A50onT"
   },
   "source": [
    "## Per feature, per genAI, per author : correlation, p-value"
   ]
  },
  {
   "cell_type": "code",
   "execution_count": null,
   "metadata": {
    "id": "6x8erI6R0onU"
   },
   "outputs": [],
   "source": [
    "#### DISPERSION DELTA ANALYSIS FOR 2 COMPARISONS\n",
    "\n",
    "\n",
    "## Humans vs genAI\n",
    "\n",
    "# Dispersion delta\n",
    "Tuffery_distances = mean_distances_df[mean_distances_df['genAI'] == 'No']['Mean_Distance_From_Centroid'].values\n",
    "\n",
    "GenAI_distances = {}\n",
    "difference_df_cond1 = {}\n",
    "\n",
    "\n",
    "for genAI in [\"mistral\", \"gpt\", \"gemini\"]:\n",
    "\n",
    "    GenAI_distances[genAI] = {}\n",
    "    difference_df_cond1[genAI] = {}\n",
    "    mean_distances_genAI = mean_distances_df[mean_distances_df['genAI'] == genAI]\n",
    "\n",
    "    for auteur in [\"Proust\", \"Celine\", \"Yourcenar\"]:\n",
    "        GenAI_distances[genAI][auteur] = mean_distances_genAI[mean_distances_genAI['author'] == auteur]['Mean_Distance_From_Centroid'].values\n",
    "\n",
    "        # List to store the results\n",
    "        difference_results = []\n",
    "\n",
    "        for i, ref_dist in enumerate(Tuffery_distances):\n",
    "            for j, gen_dist in enumerate(GenAI_distances[genAI][auteur]):\n",
    "                difference = ref_dist - gen_dist\n",
    "                difference_results.append({\n",
    "                    'Tuffery_Index': i,\n",
    "                    f'{genAI}_{auteur}_Index': j,\n",
    "                    'Difference': difference\n",
    "                })\n",
    "\n",
    "        difference_df_cond1[genAI][auteur] = pd.DataFrame(difference_results)"
   ]
  },
  {
   "cell_type": "code",
   "execution_count": null,
   "metadata": {
    "id": "IS45DZ6k0onW"
   },
   "outputs": [],
   "source": [
    "# Style delta calculation\n",
    "\n",
    "Mistral_df = stylo_df[stylo_df['genAI'] == 'mistral']\n",
    "Gpt_df = stylo_df[stylo_df['genAI'] == 'gpt']\n",
    "Gemini_df = stylo_df[stylo_df['genAI'] == 'gemini']\n",
    "Tuffery_df = stylo_df[stylo_df['genAI'] == 'No']\n",
    "\n",
    "GenAI_stylo = {}\n",
    "difference_df_stylo_cond1 = {}\n",
    "\n",
    "# List of stylistic features\n",
    "features = ['Letters', 'TAG', 'NER', 'Structural', 'Indexes']\n",
    "# features = ['Mean']\n",
    "\n",
    "for genAI in [\"mistral\", \"gpt\", \"gemini\"]:\n",
    "\n",
    "    GenAI_stylo[genAI] = {}\n",
    "    difference_df_stylo_cond1[genAI] = {}\n",
    "    stylo_genAI = stylo_df[stylo_df['genAI'] == genAI]\n",
    "\n",
    "    for auteur in [\"Proust\", \"Celine\", \"Yourcenar\"]:\n",
    "        GenAI_stylo[genAI][auteur] = stylo_genAI[stylo_genAI['author'] == auteur]\n",
    "\n",
    "        # List to store the results\n",
    "        difference_results_stylo = []\n",
    "\n",
    "        for feature in features:\n",
    "            for i, ref_val in enumerate(Tuffery_df[feature].values):\n",
    "                for j, gen_val in enumerate(GenAI_stylo[genAI][auteur][feature].values):\n",
    "                    difference = ref_val - gen_val\n",
    "                    difference_results_stylo.append({\n",
    "                        'Feature': feature,\n",
    "                        'Mistral_Index': i,\n",
    "                        f'{genAI}_{auteur}_Index': j,\n",
    "                        'Difference': difference\n",
    "                    })\n",
    "        difference_df_stylo_cond1[genAI][auteur] = pd.DataFrame(difference_results_stylo)"
   ]
  },
  {
   "cell_type": "code",
   "execution_count": null,
   "metadata": {
    "id": "oNpWh2Ei0onX"
   },
   "outputs": [],
   "source": [
    "for genAI in [\"mistral\", \"gpt\", \"gemini\"]:\n",
    "\n",
    "    for auteur in [\"Proust\", \"Celine\", \"Yourcenar\"]:\n",
    "\n",
    "        correlation_df_cond1 = calculate_correlations_with_significance(difference_df_stylo_cond1[genAI][auteur], difference_df_cond1[genAI][auteur])\n",
    "\n",
    "        print(f\"{genAI} {auteur}\")\n",
    "        print(correlation_df_cond1.to_string())"
   ]
  },
  {
   "cell_type": "code",
   "execution_count": null,
   "metadata": {
    "id": "FRV_XjOmJUtT"
   },
   "outputs": [],
   "source": [
    "for genAI in [\"mistral\", \"gpt\", \"gemini\"]:\n",
    "    # Concatenate DataFrames across all authors\n",
    "    stylo_all_authors = pd.concat([\n",
    "        difference_df_stylo_cond1[genAI][auteur] for auteur in [\"Proust\", \"Celine\", \"Yourcenar\"]\n",
    "    ])\n",
    "    cond1_all_authors = pd.concat([\n",
    "        difference_df_cond1[genAI][auteur] for auteur in [\"Proust\", \"Celine\", \"Yourcenar\"]\n",
    "    ])\n",
    "\n",
    "    # Now calculate the correlation\n",
    "    correlation_df_cond1 = calculate_correlations_with_significance(stylo_all_authors, cond1_all_authors)\n",
    "\n",
    "    print(f\"{genAI} (All authors)\")\n",
    "    print(correlation_df_cond1.to_string())\n"
   ]
  },
  {
   "cell_type": "markdown",
   "metadata": {
    "id": "rSavCeSj-ajv"
   },
   "source": [
    "### To latex"
   ]
  },
  {
   "cell_type": "code",
   "execution_count": null,
   "metadata": {
    "id": "KlVfrunL-aCH"
   },
   "outputs": [],
   "source": [
    "Proust = calculate_correlations_with_significance(difference_df_stylo_cond1['gemini']['Proust'], difference_df_cond1['gemini']['Proust'])\n",
    "Celine = calculate_correlations_with_significance(difference_df_stylo_cond1['gemini']['Celine'], difference_df_cond1['gemini']['Celine'])\n",
    "Yourcenar = calculate_correlations_with_significance(difference_df_stylo_cond1['gemini']['Yourcenar'], difference_df_cond1['gemini']['Yourcenar'])\n",
    "\n",
    "\n",
    "\n",
    "# Standard list of features (in desired order)\n",
    "features = ['Function words', 'Letters', 'Numbers', 'TAG', 'NER', 'Structural', 'Punctuation', 'Indexes']\n",
    "\n",
    "# Ensure each dataframe is indexed by 'Feature' for easy lookup\n",
    "Proust.set_index('Feature', inplace=True)\n",
    "Celine.set_index('Feature', inplace=True)\n",
    "Yourcenar.set_index('Feature', inplace=True)\n",
    "\n",
    "# Start LaTeX table\n",
    "latex = []\n",
    "latex.append(r\" & \\multicolumn{2}{|c|}{Proust} & \\multicolumn{2}{|c|}{Celine} & \\multicolumn{2}{|c|}{Yourcenar} \\\\\")\n",
    "latex.append(r\"\\hline\")\n",
    "latex.append(r\"Feature & Correlation & P-value & Correlation & P-value & Correlation & P-value  \\\\\")\n",
    "latex.append(r\"\\hline\")\n",
    "\n",
    "# Populate rows\n",
    "for feature in features:\n",
    "    row = [feature]\n",
    "    for df in [Proust, Celine, Yourcenar]:\n",
    "        corr = df.loc[feature, 'Correlation'] if feature in df.index else ''\n",
    "        pval = df.loc[feature, 'P-value'] if feature in df.index else ''\n",
    "        psymb= df.loc[feature, 'P-value_symbole'] if feature in df.index else ''\n",
    "        row.extend([f\"{corr:.4f}\", f\"{pval:.1e} ({psymb})\"])\n",
    "    latex.append(\" & \".join(row) + r\" \\\\\")  # row end\n",
    "latex.append(r\"\\hline\")\n",
    "\n",
    "# Join and print LaTeX code\n",
    "latex_table = \"\\n\".join(latex)\n",
    "print(latex_table)"
   ]
  }
 ],
 "metadata": {
  "colab": {
   "collapsed_sections": [
    "Lv3toLVnZPtK",
    "A-i73cpLXKaJ",
    "QgEC4-5mbKoA",
    "uG6CbUJubwIy",
    "PQedze5DRlMX"
   ],
   "provenance": []
  },
  "kernelspec": {
   "display_name": "style",
   "language": "python",
   "name": "python3"
  },
  "language_info": {
   "codemirror_mode": {
    "name": "ipython",
    "version": 3
   },
   "file_extension": ".py",
   "mimetype": "text/x-python",
   "name": "python",
   "nbconvert_exporter": "python",
   "pygments_lexer": "ipython3",
   "version": "3.12.7"
  }
 },
 "nbformat": 4,
 "nbformat_minor": 0
}
