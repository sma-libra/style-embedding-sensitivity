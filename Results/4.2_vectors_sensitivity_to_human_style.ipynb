{
 "cells": [
  {
   "cell_type": "markdown",
   "metadata": {
    "id": "Lv3toLVnZPtK"
   },
   "source": [
    "## Imports"
   ]
  },
  {
   "cell_type": "code",
   "execution_count": 1,
   "metadata": {
    "executionInfo": {
     "elapsed": 1,
     "status": "ok",
     "timestamp": 1755523398151,
     "user": {
      "displayName": "Benjamin Icard",
      "userId": "03834653573016242850"
     },
     "user_tz": -120
    },
    "id": "6qyI7i4fU1z5"
   },
   "outputs": [],
   "source": [
    "import pandas as pd\n",
    "import numpy as np\n",
    "import matplotlib.pyplot as plt\n",
    "from scipy.stats import pearsonr\n",
    "from scipy.stats import norm"
   ]
  },
  {
   "cell_type": "markdown",
   "metadata": {
    "id": "A-i73cpLXKaJ"
   },
   "source": [
    "## Methods"
   ]
  },
  {
   "cell_type": "code",
   "execution_count": 2,
   "metadata": {
    "executionInfo": {
     "elapsed": 43,
     "status": "ok",
     "timestamp": 1755523399995,
     "user": {
      "displayName": "Benjamin Icard",
      "userId": "03834653573016242850"
     },
     "user_tz": -120
    },
    "id": "sE72Pn7vXJcW"
   },
   "outputs": [],
   "source": [
    "def calculate_correlations_with_significance(difference_df_stylo, difference_df):\n",
    "    correlation_results = {}\n",
    "    p_value_symbole_results = {}\n",
    "    p_value_results = {}\n",
    "\n",
    "    for feature in difference_df_stylo[\"Feature\"].unique():\n",
    "        filtered_stylo_df = difference_df_stylo[difference_df_stylo[\"Feature\"] == feature]\n",
    "\n",
    "        # Calculate Pearson correlation and p-value\n",
    "        correlation, p_value = pearsonr(filtered_stylo_df[\"Difference\"], difference_df[\"Difference\"])\n",
    "        correlation_results[feature] = correlation\n",
    "        p_value_results[feature] = p_value\n",
    "\n",
    "        # Assign asterisk based on p-value significance\n",
    "        if p_value < 0.01:\n",
    "            p_value_symbole_results[feature] = '**'\n",
    "        elif p_value < 0.05:\n",
    "            p_value_symbole_results[feature] = '*'\n",
    "        else:\n",
    "            p_value_symbole_results[feature] = ''\n",
    "\n",
    "    correlation_df = pd.DataFrame({\n",
    "        'Feature': list(correlation_results.keys()),\n",
    "        'Correlation': list(correlation_results.values()),\n",
    "        'P-value_symbole': list(p_value_symbole_results.values()),  # Store significance asterisks\n",
    "        'P-value': list(p_value_results.values()),\n",
    "    })\n",
    "\n",
    "    return correlation_df"
   ]
  },
  {
   "cell_type": "code",
   "execution_count": 3,
   "metadata": {
    "executionInfo": {
     "elapsed": 1,
     "status": "ok",
     "timestamp": 1755523399998,
     "user": {
      "displayName": "Benjamin Icard",
      "userId": "03834653573016242850"
     },
     "user_tz": -120
    },
    "id": "b_9xR4RzZ_V0"
   },
   "outputs": [],
   "source": [
    "def fisher_z(r):\n",
    "  return 0.5 * np.log((1 + r) / (1 - r))"
   ]
  },
  {
   "cell_type": "code",
   "execution_count": 4,
   "metadata": {
    "executionInfo": {
     "elapsed": 1,
     "status": "ok",
     "timestamp": 1755523400002,
     "user": {
      "displayName": "Benjamin Icard",
      "userId": "03834653573016242850"
     },
     "user_tz": -120
    },
    "id": "E22bODk6aA5e"
   },
   "outputs": [],
   "source": [
    "def compare_correlations(r1, n1, r2, n2):\n",
    "  \"\"\"\n",
    "  r1, r2 : Fischer transformed correlations\n",
    "  n1, n2 : sample size\n",
    "  \"\"\"\n",
    "  z1 = fisher_z(r1)\n",
    "  z2 = fisher_z(r2)\n",
    "  se = np.sqrt(1/(n1 - 3) + 1/(n2 - 3))\n",
    "  z = np.abs(z1 - z2) / se\n",
    "  p = 2 * (1 - norm.cdf(z)) # two-tailed\n",
    "  return z, p\n",
    "# Example usage:\n",
    "# z_score, p_value = compare_correlations(0.65, 96, 0.45, 96)"
   ]
  },
  {
   "cell_type": "code",
   "execution_count": 5,
   "metadata": {
    "executionInfo": {
     "elapsed": 2,
     "status": "ok",
     "timestamp": 1755523400012,
     "user": {
      "displayName": "Benjamin Icard",
      "userId": "03834653573016242850"
     },
     "user_tz": -120
    },
    "id": "gcS30rQwbYgi"
   },
   "outputs": [],
   "source": [
    "def tost_compare_correlations_z(r1, n1, r2, n2, delta_z=0.01, alpha=0.05):\n",
    "    \"\"\"\n",
    "    TOST equivalence test for two correlations (in Fisher z-space).\n",
    "\n",
    "    Returns:\n",
    "        p1, p2 : one-sided p-values\n",
    "        equivalent : True if both p-values < alpha\n",
    "    \"\"\"\n",
    "    z1 = fisher_z(r1)\n",
    "    z2 = fisher_z(r2)\n",
    "    diff = z1 - z2\n",
    "    print(f\"Difference in z-space: {diff:.3f}\")\n",
    "    se = np.sqrt(1 / (n1 - 3) + 1 / (n2 - 3))\n",
    "\n",
    "    z_stat_low = (diff + delta_z) / se\n",
    "    z_stat_high = (diff - delta_z) / se\n",
    "\n",
    "    # CORRECTED: Flip these p-values\n",
    "    p1 = 1 - norm.cdf(z_stat_low)  # test: diff > -delta\n",
    "    p2 = norm.cdf(z_stat_high)     # test: diff < delta\n",
    "\n",
    "    equivalent = (p1 < alpha) and (p2 < alpha)\n",
    "    return p1, p2, equivalent\n",
    "\n",
    "def r_to_z_delta(delta_r):\n",
    "    r = 0.0  # center at 0 to be conservative\n",
    "    r1 = min(max(r - delta_r, -0.9999), 0.9999)\n",
    "    r2 = min(max(r + delta_r, -0.9999), 0.9999)\n",
    "    return np.abs(fisher_z(r2) - fisher_z(r1))"
   ]
  },
  {
   "cell_type": "markdown",
   "metadata": {
    "id": "FznAQyVtlGpv"
   },
   "source": [
    "## Dataset"
   ]
  },
  {
   "cell_type": "markdown",
   "metadata": {},
   "source": [
    "### Stylometry"
   ]
  },
  {
   "cell_type": "code",
   "execution_count": 6,
   "metadata": {
    "executionInfo": {
     "elapsed": 186,
     "status": "ok",
     "timestamp": 1755523400199,
     "user": {
      "displayName": "Benjamin Icard",
      "userId": "03834653573016242850"
     },
     "user_tz": -120
    },
    "id": "spjbP5oAljwc"
   },
   "outputs": [],
   "source": [
    "stylo_df = pd.read_excel('./stylo_terreau_df.xlsx')"
   ]
  },
  {
   "cell_type": "code",
   "execution_count": 7,
   "metadata": {
    "executionInfo": {
     "elapsed": 44,
     "status": "ok",
     "timestamp": 1755523400253,
     "user": {
      "displayName": "Benjamin Icard",
      "userId": "03834653573016242850"
     },
     "user_tz": -120
    },
    "id": "00oTJ--6HiyG"
   },
   "outputs": [],
   "source": [
    "stylo_df_tuffery_ref_fr = stylo_df[stylo_df['author'] == \"Tuffery\"]\n",
    "\n",
    "stylo_df_style_ref_fr = stylo_df[stylo_df['genAI'] == \"No\"]\n",
    "stylo_df_style_ref_fr = stylo_df_style_ref_fr[stylo_df_style_ref_fr['author'] != \"Tuffery\"]\n",
    "\n",
    "stylo_df_TS_ref_fr = pd.concat([stylo_df_tuffery_ref_fr, stylo_df_style_ref_fr], axis=0)\n",
    "\n",
    "stylo_df_TS_ref_fr = stylo_df_TS_ref_fr.rename(columns={\"id\": \"file_name\", \"Unnamed: 0\":\"id\"})\n",
    "stylo_df_TS_ref_fr = stylo_df_TS_ref_fr.rename(columns={'Indexes': 'Entropy'})\n",
    "\n",
    "stylo_df_TS_ref_fr[\"class\"] = stylo_df_TS_ref_fr[\"author\"].map({\"Tuffery\": \"A1\", \"Proust\": \"B1\", \"Celine\": \"B1\", \"Yourcenar\":\"B1\"})\n",
    "\n",
    "stylo_df = stylo_df_TS_ref_fr"
   ]
  },
  {
   "cell_type": "code",
   "execution_count": 8,
   "metadata": {
    "colab": {
     "base_uri": "https://localhost:8080/",
     "height": 206
    },
    "executionInfo": {
     "elapsed": 27,
     "status": "ok",
     "timestamp": 1755523400278,
     "user": {
      "displayName": "Benjamin Icard",
      "userId": "03834653573016242850"
     },
     "user_tz": -120
    },
    "id": "bCWkWW1_n-k_",
    "outputId": "21cd915c-22f6-4794-f09b-4e1f2f5839ce"
   },
   "outputs": [
    {
     "data": {
      "text/html": [
       "<div>\n",
       "<style scoped>\n",
       "    .dataframe tbody tr th:only-of-type {\n",
       "        vertical-align: middle;\n",
       "    }\n",
       "\n",
       "    .dataframe tbody tr th {\n",
       "        vertical-align: top;\n",
       "    }\n",
       "\n",
       "    .dataframe thead th {\n",
       "        text-align: right;\n",
       "    }\n",
       "</style>\n",
       "<table border=\"1\" class=\"dataframe\">\n",
       "  <thead>\n",
       "    <tr style=\"text-align: right;\">\n",
       "      <th></th>\n",
       "      <th>id</th>\n",
       "      <th>author</th>\n",
       "      <th>genAI</th>\n",
       "      <th>Punctuation</th>\n",
       "      <th>TAG</th>\n",
       "      <th>Structural</th>\n",
       "      <th>Entropy</th>\n",
       "      <th>NER</th>\n",
       "      <th>Letters</th>\n",
       "      <th>text_id</th>\n",
       "      <th>file_name</th>\n",
       "      <th>class</th>\n",
       "    </tr>\n",
       "  </thead>\n",
       "  <tbody>\n",
       "    <tr>\n",
       "      <th>960</th>\n",
       "      <td>960</td>\n",
       "      <td>Tuffery</td>\n",
       "      <td>No</td>\n",
       "      <td>0.019510</td>\n",
       "      <td>0.195833</td>\n",
       "      <td>8.794737</td>\n",
       "      <td>7.159736</td>\n",
       "      <td>0.083333</td>\n",
       "      <td>0.029505</td>\n",
       "      <td>0</td>\n",
       "      <td>tuffery_agitato_atrabile.txt</td>\n",
       "      <td>A1</td>\n",
       "    </tr>\n",
       "    <tr>\n",
       "      <th>961</th>\n",
       "      <td>961</td>\n",
       "      <td>Tuffery</td>\n",
       "      <td>No</td>\n",
       "      <td>0.011617</td>\n",
       "      <td>0.436869</td>\n",
       "      <td>22.038070</td>\n",
       "      <td>7.771713</td>\n",
       "      <td>0.454545</td>\n",
       "      <td>0.029591</td>\n",
       "      <td>1</td>\n",
       "      <td>tuffery_agitato_lamentabile.txt</td>\n",
       "      <td>A1</td>\n",
       "    </tr>\n",
       "    <tr>\n",
       "      <th>962</th>\n",
       "      <td>962</td>\n",
       "      <td>Tuffery</td>\n",
       "      <td>No</td>\n",
       "      <td>0.011944</td>\n",
       "      <td>0.407407</td>\n",
       "      <td>18.214147</td>\n",
       "      <td>6.612949</td>\n",
       "      <td>0.222222</td>\n",
       "      <td>0.028414</td>\n",
       "      <td>2</td>\n",
       "      <td>tuffery_anacephaleose.txt</td>\n",
       "      <td>A1</td>\n",
       "    </tr>\n",
       "    <tr>\n",
       "      <th>963</th>\n",
       "      <td>963</td>\n",
       "      <td>Tuffery</td>\n",
       "      <td>No</td>\n",
       "      <td>0.011217</td>\n",
       "      <td>0.200617</td>\n",
       "      <td>9.133420</td>\n",
       "      <td>6.714099</td>\n",
       "      <td>0.092593</td>\n",
       "      <td>0.028595</td>\n",
       "      <td>3</td>\n",
       "      <td>tuffery_anadiploses_epanadiploses.txt</td>\n",
       "      <td>A1</td>\n",
       "    </tr>\n",
       "    <tr>\n",
       "      <th>964</th>\n",
       "      <td>964</td>\n",
       "      <td>Tuffery</td>\n",
       "      <td>No</td>\n",
       "      <td>0.010989</td>\n",
       "      <td>1.333333</td>\n",
       "      <td>59.190000</td>\n",
       "      <td>5.093733</td>\n",
       "      <td>1.000000</td>\n",
       "      <td>0.031382</td>\n",
       "      <td>4</td>\n",
       "      <td>tuffery_anaphore.txt</td>\n",
       "      <td>A1</td>\n",
       "    </tr>\n",
       "  </tbody>\n",
       "</table>\n",
       "</div>"
      ],
      "text/plain": [
       "      id   author genAI  Punctuation       TAG  Structural   Entropy  \\\n",
       "960  960  Tuffery    No     0.019510  0.195833    8.794737  7.159736   \n",
       "961  961  Tuffery    No     0.011617  0.436869   22.038070  7.771713   \n",
       "962  962  Tuffery    No     0.011944  0.407407   18.214147  6.612949   \n",
       "963  963  Tuffery    No     0.011217  0.200617    9.133420  6.714099   \n",
       "964  964  Tuffery    No     0.010989  1.333333   59.190000  5.093733   \n",
       "\n",
       "          NER   Letters  text_id                              file_name class  \n",
       "960  0.083333  0.029505        0           tuffery_agitato_atrabile.txt    A1  \n",
       "961  0.454545  0.029591        1        tuffery_agitato_lamentabile.txt    A1  \n",
       "962  0.222222  0.028414        2              tuffery_anacephaleose.txt    A1  \n",
       "963  0.092593  0.028595        3  tuffery_anadiploses_epanadiploses.txt    A1  \n",
       "964  1.000000  0.031382        4                   tuffery_anaphore.txt    A1  "
      ]
     },
     "execution_count": 8,
     "metadata": {},
     "output_type": "execute_result"
    }
   ],
   "source": [
    "stylo_df.head()"
   ]
  },
  {
   "cell_type": "code",
   "execution_count": 9,
   "metadata": {},
   "outputs": [],
   "source": [
    "#Normalize and compute the mean of features \n",
    "\n",
    "numeric_cols = stylo_df.select_dtypes(include=['number']).columns  # Get numeric columns\n",
    "\n",
    "for col in numeric_cols:\n",
    "    stylo_df[f\"{col}_normalized\"] = (stylo_df[col] - stylo_df[col].min()) / (stylo_df[col].max() - stylo_df[col].min())\n",
    "\n",
    "#Mean\n",
    "columns_to_average = [\"Structural_normalized\",\n",
    "                      \"Letters_normalized\",\n",
    "                      \"TAG_normalized\",\n",
    "                      \"NER_normalized\",\n",
    "                       \"Entropy_normalized\",\n",
    "                      ]\n",
    "stylo_df[\"Mean\"] = stylo_df[columns_to_average].mean(axis=1)"
   ]
  },
  {
   "cell_type": "code",
   "execution_count": 10,
   "metadata": {},
   "outputs": [
    {
     "data": {
      "text/html": [
       "<div>\n",
       "<style scoped>\n",
       "    .dataframe tbody tr th:only-of-type {\n",
       "        vertical-align: middle;\n",
       "    }\n",
       "\n",
       "    .dataframe tbody tr th {\n",
       "        vertical-align: top;\n",
       "    }\n",
       "\n",
       "    .dataframe thead th {\n",
       "        text-align: right;\n",
       "    }\n",
       "</style>\n",
       "<table border=\"1\" class=\"dataframe\">\n",
       "  <thead>\n",
       "    <tr style=\"text-align: right;\">\n",
       "      <th>feature</th>\n",
       "      <th>Tuffery</th>\n",
       "      <th>Proust</th>\n",
       "      <th>Celine</th>\n",
       "      <th>Yourcenar</th>\n",
       "    </tr>\n",
       "  </thead>\n",
       "  <tbody>\n",
       "    <tr>\n",
       "      <th>Structural</th>\n",
       "      <td>0.054095</td>\n",
       "      <td>0.154980</td>\n",
       "      <td>0.032130</td>\n",
       "      <td>0.058004</td>\n",
       "    </tr>\n",
       "    <tr>\n",
       "      <th>Letters</th>\n",
       "      <td>0.284825</td>\n",
       "      <td>0.251919</td>\n",
       "      <td>0.252227</td>\n",
       "      <td>0.275529</td>\n",
       "    </tr>\n",
       "    <tr>\n",
       "      <th>TAG</th>\n",
       "      <td>0.056540</td>\n",
       "      <td>0.143150</td>\n",
       "      <td>0.032347</td>\n",
       "      <td>0.041741</td>\n",
       "    </tr>\n",
       "    <tr>\n",
       "      <th>NER</th>\n",
       "      <td>0.044785</td>\n",
       "      <td>0.155766</td>\n",
       "      <td>0.040569</td>\n",
       "      <td>0.070331</td>\n",
       "    </tr>\n",
       "    <tr>\n",
       "      <th>Entropy</th>\n",
       "      <td>0.469363</td>\n",
       "      <td>0.524524</td>\n",
       "      <td>0.474654</td>\n",
       "      <td>0.589203</td>\n",
       "    </tr>\n",
       "    <tr>\n",
       "      <th>Mean</th>\n",
       "      <td>0.181922</td>\n",
       "      <td>0.246068</td>\n",
       "      <td>0.166385</td>\n",
       "      <td>0.206961</td>\n",
       "    </tr>\n",
       "  </tbody>\n",
       "</table>\n",
       "</div>"
      ],
      "text/plain": [
       "feature      Tuffery    Proust    Celine  Yourcenar\n",
       "Structural  0.054095  0.154980  0.032130   0.058004\n",
       "Letters     0.284825  0.251919  0.252227   0.275529\n",
       "TAG         0.056540  0.143150  0.032347   0.041741\n",
       "NER         0.044785  0.155766  0.040569   0.070331\n",
       "Entropy     0.469363  0.524524  0.474654   0.589203\n",
       "Mean        0.181922  0.246068  0.166385   0.206961"
      ]
     },
     "execution_count": 10,
     "metadata": {},
     "output_type": "execute_result"
    }
   ],
   "source": [
    "df_subset = stylo_df[[\"author\"] + columns_to_average]\n",
    "\n",
    "mean_by_author = df_subset.groupby(\"author\").mean(numeric_only=True)\n",
    "\n",
    "mean_by_author = mean_by_author.T\n",
    "\n",
    "mean_by_author = mean_by_author.rename_axis(\"feature\", axis=\"columns\")\n",
    "mean_by_author = mean_by_author[['Tuffery', 'Proust', 'Celine', 'Yourcenar']]\n",
    "mean_by_author.index = mean_by_author.index.str.replace('_normalized', '', regex=False)\n",
    "\n",
    "mean_by_author.loc[\"Mean\"] = mean_by_author.mean(numeric_only=True)\n",
    "\n",
    "mean_by_author"
   ]
  },
  {
   "cell_type": "code",
   "execution_count": 11,
   "metadata": {},
   "outputs": [
    {
     "data": {
      "image/png": "[encoded data removed]",
      "text/plain": [
       "<Figure size 800x500 with 1 Axes>"
      ]
     },
     "metadata": {},
     "output_type": "display_data"
    }
   ],
   "source": [
    "# Extract the Mean row\n",
    "mean_values = mean_by_author.loc[\"Mean\"]\n",
    "\n",
    "# Define custom colors in the same order as your columns\n",
    "colors = {\n",
    "    \"Tuffery\": \"limegreen\",\n",
    "    \"Proust\": \"deepskyblue\",\n",
    "    \"Celine\": \"paleturquoise\",\n",
    "    \"Yourcenar\": \"royalblue\"\n",
    "}\n",
    "\n",
    "\n",
    "labels = {\n",
    "    \"Tuffery\": \"TUFFERY_REF\",\n",
    "    \"Proust\": \"PROUST_REF\",\n",
    "    \"Celine\": \"CELINE_REF\",\n",
    "    \"Yourcenar\": \"YOURCENAR_REF\"\n",
    "}\n",
    "\n",
    "# Create bar plot with custom colors\n",
    "plt.figure(figsize=(8, 5))\n",
    "plt.bar(mean_values.index, mean_values.values,\n",
    "        color=[colors[author] for author in mean_values.index])\n",
    "\n",
    "plt.xticks(ticks=range(len(mean_values.index)),\n",
    "           labels=[labels[author] for author in mean_values.index],\n",
    "           fontsize=12)\n",
    "\n",
    "# Get the current tick label Text objects\n",
    "tick_texts = plt.gca().get_xticklabels()\n",
    "\n",
    "# Set individual colors\n",
    "for i, author in enumerate(mean_values.index):\n",
    "    tick_texts[i].set_color(colors[author])\n",
    "\n",
    "# Add labels and title\n",
    "plt.ylabel(\"Mean Feature Frequency by Reference Corpus\")\n",
    "\n",
    "# Add value labels on top of bars\n",
    "for i, v in enumerate(mean_values.values):\n",
    "    plt.text(i, v+0.003, f\"{v:.3f}\", ha='center', va='bottom')\n",
    "\n",
    "plt.tight_layout()\n",
    "plt.show()"
   ]
  },
  {
   "cell_type": "markdown",
   "metadata": {},
   "source": [
    "### Distance between embeddings"
   ]
  },
  {
   "cell_type": "code",
   "execution_count": 12,
   "metadata": {
    "executionInfo": {
     "elapsed": 63,
     "status": "ok",
     "timestamp": 1755523400345,
     "user": {
      "displayName": "Benjamin Icard",
      "userId": "03834653573016242850"
     },
     "user_tz": -120
    },
    "id": "J1LXYpuqpgPB"
   },
   "outputs": [],
   "source": [
    "mean_distances_df = pd.read_excel('./distance_pertext_umap_TS_ref.xlsx')\n",
    "\n",
    "mean_distances_df[\"genAI\"] = mean_distances_df[\"Class\"].map({\"Proust\": \"No\", \"Celine\": \"No\", \"Yourcenar\": \"No\", \"Tuffery\": \"No\",\n",
    "                                                             \"Proust_mistral\": \"mistral\", \"Celine_mistral\": \"mistral\", \"Yourcenar_mistral\": \"mistral\",\n",
    "                                                             \"Proust_gpt\": \"gpt\", \"Celine_gpt\": \"gpt\", \"Yourcenar_gpt\": \"gpt\",\n",
    "                                                             \"Proust_gemini\": \"gemini\", \"Celine_gemini\": \"gemini\", \"Yourcenar_gemini\": \"gemini\",\n",
    "                                                             })\n",
    "\n",
    "mean_distances_df[\"author\"] = mean_distances_df[\"Class\"].map({\"Proust\": \"Proust\", \"Celine\": \"Celine\", \"Yourcenar\": \"Yourcenar\",\"Tuffery\": \"Tuffery\",\n",
    "                                                             \"Proust_mistral\": \"Proust\", \"Celine_mistral\": \"Celine\", \"Yourcenar_mistral\": \"Yourcenar\",\n",
    "                                                             \"Proust_gpt\": \"Proust\", \"Celine_gpt\": \"Celine\", \"Yourcenar_gpt\": \"Yourcenar\",\n",
    "                                                             \"Proust_gemini\": \"Proust\", \"Celine_gemini\": \"Celine\", \"Yourcenar_gemini\": \"Yourcenar\",\n",
    "                                                             })\n",
    "\n",
    "mean_distances_df[\"class\"] = mean_distances_df[\"author\"].map({\"Tuffery\": \"A1\", \"Proust\": \"B1\", \"Celine\": \"B1\", \"Yourcenar\":\"B1\"})\n",
    "mean_distances_df = mean_distances_df.drop(columns=[\"Class\"])"
   ]
  },
  {
   "cell_type": "code",
   "execution_count": 13,
   "metadata": {
    "colab": {
     "base_uri": "https://localhost:8080/",
     "height": 206
    },
    "executionInfo": {
     "elapsed": 52,
     "status": "ok",
     "timestamp": 1755523400399,
     "user": {
      "displayName": "Benjamin Icard",
      "userId": "03834653573016242850"
     },
     "user_tz": -120
    },
    "id": "3K_nIEFRFiQP",
    "outputId": "bc2cdbc9-38ea-41ce-f8b6-41fa1882b68c"
   },
   "outputs": [
    {
     "data": {
      "text/html": [
       "<div>\n",
       "<style scoped>\n",
       "    .dataframe tbody tr th:only-of-type {\n",
       "        vertical-align: middle;\n",
       "    }\n",
       "\n",
       "    .dataframe tbody tr th {\n",
       "        vertical-align: top;\n",
       "    }\n",
       "\n",
       "    .dataframe thead th {\n",
       "        text-align: right;\n",
       "    }\n",
       "</style>\n",
       "<table border=\"1\" class=\"dataframe\">\n",
       "  <thead>\n",
       "    <tr style=\"text-align: right;\">\n",
       "      <th></th>\n",
       "      <th>Text_Index</th>\n",
       "      <th>Mean_Distance_From_Centroid</th>\n",
       "      <th>genAI</th>\n",
       "      <th>author</th>\n",
       "      <th>class</th>\n",
       "    </tr>\n",
       "  </thead>\n",
       "  <tbody>\n",
       "    <tr>\n",
       "      <th>0</th>\n",
       "      <td>0</td>\n",
       "      <td>1.493536</td>\n",
       "      <td>No</td>\n",
       "      <td>Tuffery</td>\n",
       "      <td>A1</td>\n",
       "    </tr>\n",
       "    <tr>\n",
       "      <th>1</th>\n",
       "      <td>1</td>\n",
       "      <td>3.086941</td>\n",
       "      <td>No</td>\n",
       "      <td>Tuffery</td>\n",
       "      <td>A1</td>\n",
       "    </tr>\n",
       "    <tr>\n",
       "      <th>2</th>\n",
       "      <td>2</td>\n",
       "      <td>1.641952</td>\n",
       "      <td>No</td>\n",
       "      <td>Tuffery</td>\n",
       "      <td>A1</td>\n",
       "    </tr>\n",
       "    <tr>\n",
       "      <th>3</th>\n",
       "      <td>3</td>\n",
       "      <td>1.457144</td>\n",
       "      <td>No</td>\n",
       "      <td>Tuffery</td>\n",
       "      <td>A1</td>\n",
       "    </tr>\n",
       "    <tr>\n",
       "      <th>4</th>\n",
       "      <td>4</td>\n",
       "      <td>1.759076</td>\n",
       "      <td>No</td>\n",
       "      <td>Tuffery</td>\n",
       "      <td>A1</td>\n",
       "    </tr>\n",
       "  </tbody>\n",
       "</table>\n",
       "</div>"
      ],
      "text/plain": [
       "   Text_Index  Mean_Distance_From_Centroid genAI   author class\n",
       "0           0                     1.493536    No  Tuffery    A1\n",
       "1           1                     3.086941    No  Tuffery    A1\n",
       "2           2                     1.641952    No  Tuffery    A1\n",
       "3           3                     1.457144    No  Tuffery    A1\n",
       "4           4                     1.759076    No  Tuffery    A1"
      ]
     },
     "execution_count": 13,
     "metadata": {},
     "output_type": "execute_result"
    }
   ],
   "source": [
    "mean_distances_df.head()"
   ]
  },
  {
   "cell_type": "markdown",
   "metadata": {
    "id": "uG6CbUJubwIy"
   },
   "source": [
    "## Aggregated features, per author : correlation, p-value"
   ]
  },
  {
   "cell_type": "code",
   "execution_count": 14,
   "metadata": {
    "executionInfo": {
     "elapsed": 52,
     "status": "ok",
     "timestamp": 1755523400878,
     "user": {
      "displayName": "Benjamin Icard",
      "userId": "03834653573016242850"
     },
     "user_tz": -120
    },
    "id": "Xm-TMbv0bs4T"
   },
   "outputs": [],
   "source": [
    "#### DISPERSION DELTA ANALYSIS FOR 2 COMPARISONS\n",
    "\n",
    "# Dispersion delta\n",
    "Tuffery_distances = mean_distances_df[mean_distances_df['author'] == 'Tuffery']['Mean_Distance_From_Centroid'].values\n",
    "\n",
    "GenAI_distances = {}\n",
    "difference_df_cond1 = {}\n",
    "\n",
    "for auteur in [\"Proust\", \"Celine\", \"Yourcenar\"]:\n",
    "    GenAI_distances[auteur] = mean_distances_df[mean_distances_df['author'] == auteur]['Mean_Distance_From_Centroid'].values\n",
    "    # List to store the results\n",
    "    difference_results = []\n",
    "\n",
    "    for i, ref_dist in enumerate(Tuffery_distances):\n",
    "        for j, gen_dist in enumerate(GenAI_distances[auteur]):\n",
    "            difference = ref_dist - gen_dist\n",
    "            difference_results.append({\n",
    "                'Tuffery_Index': i,\n",
    "                f'{auteur}_Index': j,\n",
    "                'Difference': difference\n",
    "            })\n",
    "\n",
    "    difference_df_cond1[auteur] = pd.DataFrame(difference_results)\n",
    "\n"
   ]
  },
  {
   "cell_type": "code",
   "execution_count": 15,
   "metadata": {
    "executionInfo": {
     "elapsed": 95,
     "status": "ok",
     "timestamp": 1755523400976,
     "user": {
      "displayName": "Benjamin Icard",
      "userId": "03834653573016242850"
     },
     "user_tz": -120
    },
    "id": "FC_BP1KUeulP"
   },
   "outputs": [],
   "source": [
    "# Style delta calculation\n",
    "\n",
    "Tuffery_df = stylo_df[stylo_df['author'] == 'Tuffery']\n",
    "\n",
    "GenAI_stylo = {}\n",
    "difference_df_stylo_cond1 = {}\n",
    "\n",
    "# List of stylistic features\n",
    "# features = ['Function words', 'Letters', 'Numbers', 'TAG', 'NER', 'Structural', 'Punctuation', 'Entropy']\n",
    "features = ['Mean']\n",
    "\n",
    "for auteur in [\"Celine\", \"Proust\", \"Yourcenar\"]:\n",
    "    GenAI_stylo[auteur] = stylo_df[stylo_df['author'] == auteur]\n",
    "\n",
    "    # List to store the results\n",
    "    difference_results_stylo = []\n",
    "\n",
    "    for feature in features:\n",
    "        for i, ref_val in enumerate(Tuffery_df[feature].values):\n",
    "            for j, gen_val in enumerate(GenAI_stylo[auteur][feature].values):\n",
    "                difference = ref_val - gen_val\n",
    "                difference_results_stylo.append({\n",
    "                    'Feature': feature,\n",
    "                    'Mistral_Index': i,\n",
    "                    f'{auteur}_Index': j,\n",
    "                    'Difference': difference\n",
    "                })\n",
    "    difference_df_stylo_cond1[auteur] = pd.DataFrame(difference_results_stylo)\n"
   ]
  },
  {
   "cell_type": "code",
   "execution_count": 16,
   "metadata": {
    "colab": {
     "base_uri": "https://localhost:8080/"
    },
    "executionInfo": {
     "elapsed": 50,
     "status": "ok",
     "timestamp": 1755523401028,
     "user": {
      "displayName": "Benjamin Icard",
      "userId": "03834653573016242850"
     },
     "user_tz": -120
    },
    "id": "l4Zs6zyZf3dH",
    "outputId": "2722a80a-e63e-4c92-b7aa-c48e1a4c2258"
   },
   "outputs": [
    {
     "name": "stdout",
     "output_type": "stream",
     "text": [
      "Proust\n",
      "  Feature  Correlation P-value_symbole       P-value\n",
      "0    Mean     0.186075              **  1.399222e-72\n",
      "Celine\n",
      "  Feature  Correlation P-value_symbole       P-value\n",
      "0    Mean     0.159404              **  1.656137e-53\n",
      "Yourcenar\n",
      "  Feature  Correlation P-value_symbole       P-value\n",
      "0    Mean     0.086404              **  9.637181e-17\n"
     ]
    }
   ],
   "source": [
    "for auteur in [\"Proust\", \"Celine\", \"Yourcenar\"]:\n",
    "\n",
    "    correlation_df_cond1 = calculate_correlations_with_significance(difference_df_stylo_cond1[auteur], difference_df_cond1[auteur])\n",
    "\n",
    "    print(f\"{auteur}\")\n",
    "    print(correlation_df_cond1.to_string())"
   ]
  },
  {
   "cell_type": "markdown",
   "metadata": {
    "id": "LHfTG1A50onT"
   },
   "source": [
    "## Per feature, per author : correlation, p-value"
   ]
  },
  {
   "cell_type": "code",
   "execution_count": 17,
   "metadata": {
    "executionInfo": {
     "elapsed": 96,
     "status": "ok",
     "timestamp": 1755523402074,
     "user": {
      "displayName": "Benjamin Icard",
      "userId": "03834653573016242850"
     },
     "user_tz": -120
    },
    "id": "6x8erI6R0onU"
   },
   "outputs": [],
   "source": [
    "#### DISPERSION DELTA ANALYSIS FOR 2 COMPARISONS\n",
    "\n",
    "\n",
    "## Humans vs genAI\n",
    "\n",
    "# Dispersion delta\n",
    "Tuffery_distances = mean_distances_df[mean_distances_df['author'] == 'Tuffery']['Mean_Distance_From_Centroid'].values\n",
    "\n",
    "GenAI_distances = {}\n",
    "difference_df_cond1 = {}\n",
    "\n",
    "\n",
    "for auteur in [\"Proust\", \"Celine\", \"Yourcenar\"]:\n",
    "    GenAI_distances[auteur] = mean_distances_df[mean_distances_df['author'] == auteur]['Mean_Distance_From_Centroid'].values\n",
    "\n",
    "    # List to store the results\n",
    "    difference_results = []\n",
    "\n",
    "    for i, ref_dist in enumerate(Tuffery_distances):\n",
    "        for j, gen_dist in enumerate(GenAI_distances[auteur]):\n",
    "            difference = ref_dist - gen_dist\n",
    "            difference_results.append({\n",
    "                'Tuffery_Index': i,\n",
    "                f'{auteur}_Index': j,\n",
    "                'Difference': difference\n",
    "            })\n",
    "\n",
    "    difference_df_cond1[auteur] = pd.DataFrame(difference_results)\n",
    "\n"
   ]
  },
  {
   "cell_type": "code",
   "execution_count": 18,
   "metadata": {
    "executionInfo": {
     "elapsed": 337,
     "status": "ok",
     "timestamp": 1755523402419,
     "user": {
      "displayName": "Benjamin Icard",
      "userId": "03834653573016242850"
     },
     "user_tz": -120
    },
    "id": "IS45DZ6k0onW"
   },
   "outputs": [],
   "source": [
    "# Style delta calculation\n",
    "\n",
    "Tuffery_df = stylo_df[stylo_df['author'] == 'Tuffery']\n",
    "\n",
    "GenAI_stylo = {}\n",
    "difference_df_stylo_cond1 = {}\n",
    "\n",
    "# List of stylistic features\n",
    "#features = ['Function words', 'Letters', 'Numbers', 'TAG', 'NER', 'Structural', 'Punctuation', 'Indexes']\n",
    "features = ['Letters', 'TAG', 'NER', 'Structural', 'Entropy']\n",
    "# features = ['Mean']\n",
    "\n",
    "for auteur in [\"Proust\", \"Celine\", \"Yourcenar\"]:\n",
    "    GenAI_stylo[auteur] = stylo_df[stylo_df['author'] == auteur]\n",
    "\n",
    "    # List to store the results\n",
    "    difference_results_stylo = []\n",
    "\n",
    "    for feature in features:\n",
    "        for i, ref_val in enumerate(Tuffery_df[feature].values):\n",
    "            for j, gen_val in enumerate(GenAI_stylo[auteur][feature].values):\n",
    "                difference = ref_val - gen_val\n",
    "                difference_results_stylo.append({\n",
    "                    'Feature': feature,\n",
    "                    'Mistral_Index': i,\n",
    "                    f'{auteur}_Index': j,\n",
    "                    'Difference': difference\n",
    "                })\n",
    "    difference_df_stylo_cond1[auteur] = pd.DataFrame(difference_results_stylo)"
   ]
  },
  {
   "cell_type": "code",
   "execution_count": 19,
   "metadata": {
    "colab": {
     "base_uri": "https://localhost:8080/"
    },
    "executionInfo": {
     "elapsed": 92,
     "status": "ok",
     "timestamp": 1755523402515,
     "user": {
      "displayName": "Benjamin Icard",
      "userId": "03834653573016242850"
     },
     "user_tz": -120
    },
    "id": "oNpWh2Ei0onX",
    "outputId": "1ac50741-8dd8-4dd1-c421-484041edab9a"
   },
   "outputs": [
    {
     "name": "stdout",
     "output_type": "stream",
     "text": [
      "\n",
      "Proust\n",
      "\n",
      "      Feature  Correlation P-value_symbole       P-value\n",
      "0     Letters     0.162653              **  1.149980e-55\n",
      "1         TAG     0.127352              **  1.246612e-34\n",
      "2         NER     0.195370              **  5.789288e-80\n",
      "3  Structural     0.135972              **  2.793552e-39\n",
      "4     Entropy     0.013114                  2.081026e-01\n",
      "\n",
      "Celine\n",
      "\n",
      "      Feature  Correlation P-value_symbole       P-value\n",
      "0     Letters     0.161415              **  7.736992e-55\n",
      "1         TAG     0.004683                  6.530689e-01\n",
      "2         NER     0.132148              **  3.528125e-37\n",
      "3  Structural     0.011195                  2.825510e-01\n",
      "4     Entropy     0.104475              **  8.666099e-24\n",
      "\n",
      "Yourcenar\n",
      "\n",
      "      Feature  Correlation P-value_symbole       P-value\n",
      "0     Letters     0.055860              **  8.049916e-08\n",
      "1         TAG    -0.004307                  6.793163e-01\n",
      "2         NER     0.212397              **  1.703754e-94\n",
      "3  Structural    -0.004648                  6.554719e-01\n",
      "4     Entropy     0.041313              **  7.273059e-05\n"
     ]
    }
   ],
   "source": [
    "for auteur in [\"Proust\", \"Celine\", \"Yourcenar\"]:\n",
    "\n",
    "    correlation_df_cond1 = calculate_correlations_with_significance(difference_df_stylo_cond1[auteur], difference_df_cond1[auteur])\n",
    "\n",
    "    print(f\"\\n{auteur}\\n\")\n",
    "    print(correlation_df_cond1.to_string())"
   ]
  },
  {
   "cell_type": "code",
   "execution_count": null,
   "metadata": {},
   "outputs": [],
   "source": []
  }
 ],
 "metadata": {
  "colab": {
   "collapsed_sections": [
    "A-i73cpLXKaJ",
    "FznAQyVtlGpv",
    "uG6CbUJubwIy"
   ],
   "provenance": []
  },
  "kernelspec": {
   "display_name": "style",
   "language": "python",
   "name": "python3"
  },
  "language_info": {
   "codemirror_mode": {
    "name": "ipython",
    "version": 3
   },
   "file_extension": ".py",
   "mimetype": "text/x-python",
   "name": "python",
   "nbconvert_exporter": "python",
   "pygments_lexer": "ipython3",
   "version": "3.12.7"
  }
 },
 "nbformat": 4,
 "nbformat_minor": 0
}
