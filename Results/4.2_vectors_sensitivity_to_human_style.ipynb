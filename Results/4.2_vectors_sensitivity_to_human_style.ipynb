{
 "cells": [
  {
   "cell_type": "markdown",
   "metadata": {
    "id": "Lv3toLVnZPtK"
   },
   "source": [
    "## Imports"
   ]
  },
  {
   "cell_type": "code",
   "execution_count": 1,
   "metadata": {
    "executionInfo": {
     "elapsed": 1,
     "status": "ok",
     "timestamp": 1755523398151,
     "user": {
      "displayName": "Benjamin Icard",
      "userId": "03834653573016242850"
     },
     "user_tz": -120
    },
    "id": "6qyI7i4fU1z5"
   },
   "outputs": [],
   "source": [
    "import pandas as pd\n",
    "import numpy as np\n",
    "import matplotlib.pyplot as plt\n",
    "import seaborn as sns\n",
    "from scipy.stats import pearsonr\n",
    "from scipy.stats import norm\n",
    "\n",
    "import os\n",
    "import glob"
   ]
  },
  {
   "cell_type": "markdown",
   "metadata": {
    "id": "A-i73cpLXKaJ"
   },
   "source": [
    "## Methods"
   ]
  },
  {
   "cell_type": "code",
   "execution_count": 2,
   "metadata": {
    "executionInfo": {
     "elapsed": 43,
     "status": "ok",
     "timestamp": 1755523399995,
     "user": {
      "displayName": "Benjamin Icard",
      "userId": "03834653573016242850"
     },
     "user_tz": -120
    },
    "id": "sE72Pn7vXJcW"
   },
   "outputs": [],
   "source": [
    "def calculate_correlations_with_significance(difference_df_stylo, difference_df):\n",
    "    correlation_results = {}\n",
    "    p_value_symbole_results = {}\n",
    "    p_value_results = {}\n",
    "\n",
    "    for feature in difference_df_stylo[\"Feature\"].unique():\n",
    "        filtered_stylo_df = difference_df_stylo[difference_df_stylo[\"Feature\"] == feature]\n",
    "\n",
    "        # Calculate Pearson correlation and p-value\n",
    "        correlation, p_value = pearsonr(filtered_stylo_df[\"Difference\"], difference_df[\"Difference\"])\n",
    "        correlation_results[feature] = correlation\n",
    "        p_value_results[feature] = p_value\n",
    "\n",
    "        # Assign asterisk based on p-value significance\n",
    "        if p_value < 0.01:\n",
    "            p_value_symbole_results[feature] = '**'\n",
    "        elif p_value < 0.05:\n",
    "            p_value_symbole_results[feature] = '*'\n",
    "        else:\n",
    "            p_value_symbole_results[feature] = ''\n",
    "\n",
    "    correlation_df = pd.DataFrame({\n",
    "        'Feature': list(correlation_results.keys()),\n",
    "        'Correlation': list(correlation_results.values()),\n",
    "        'P-value_symbole': list(p_value_symbole_results.values()),  # Store significance asterisks\n",
    "        'P-value': list(p_value_results.values()),\n",
    "    })\n",
    "\n",
    "    return correlation_df"
   ]
  },
  {
   "cell_type": "code",
   "execution_count": 3,
   "metadata": {
    "executionInfo": {
     "elapsed": 1,
     "status": "ok",
     "timestamp": 1755523399998,
     "user": {
      "displayName": "Benjamin Icard",
      "userId": "03834653573016242850"
     },
     "user_tz": -120
    },
    "id": "b_9xR4RzZ_V0"
   },
   "outputs": [],
   "source": [
    "def fisher_z(r):\n",
    "  return 0.5 * np.log((1 + r) / (1 - r))"
   ]
  },
  {
   "cell_type": "code",
   "execution_count": 4,
   "metadata": {
    "executionInfo": {
     "elapsed": 1,
     "status": "ok",
     "timestamp": 1755523400002,
     "user": {
      "displayName": "Benjamin Icard",
      "userId": "03834653573016242850"
     },
     "user_tz": -120
    },
    "id": "E22bODk6aA5e"
   },
   "outputs": [],
   "source": [
    "def compare_correlations(r1, n1, r2, n2):\n",
    "  \"\"\"\n",
    "  r1, r2 : Fischer transformed correlations\n",
    "  n1, n2 : sample size\n",
    "  \"\"\"\n",
    "  z1 = fisher_z(r1)\n",
    "  z2 = fisher_z(r2)\n",
    "  se = np.sqrt(1/(n1 - 3) + 1/(n2 - 3))\n",
    "  z = np.abs(z1 - z2) / se\n",
    "  p = 2 * (1 - norm.cdf(z)) # two-tailed\n",
    "  return z, p\n",
    "# Example usage:\n",
    "# z_score, p_value = compare_correlations(0.65, 96, 0.45, 96)"
   ]
  },
  {
   "cell_type": "code",
   "execution_count": 5,
   "metadata": {
    "executionInfo": {
     "elapsed": 2,
     "status": "ok",
     "timestamp": 1755523400012,
     "user": {
      "displayName": "Benjamin Icard",
      "userId": "03834653573016242850"
     },
     "user_tz": -120
    },
    "id": "gcS30rQwbYgi"
   },
   "outputs": [],
   "source": [
    "def tost_compare_correlations_z(r1, n1, r2, n2, delta_z=0.01, alpha=0.05):\n",
    "    \"\"\"\n",
    "    TOST equivalence test for two correlations (in Fisher z-space).\n",
    "\n",
    "    Returns:\n",
    "        p1, p2 : one-sided p-values\n",
    "        equivalent : True if both p-values < alpha\n",
    "    \"\"\"\n",
    "    z1 = fisher_z(r1)\n",
    "    z2 = fisher_z(r2)\n",
    "    diff = z1 - z2\n",
    "    print(f\"Difference in z-space: {diff:.3f}\")\n",
    "    se = np.sqrt(1 / (n1 - 3) + 1 / (n2 - 3))\n",
    "\n",
    "    z_stat_low = (diff + delta_z) / se\n",
    "    z_stat_high = (diff - delta_z) / se\n",
    "\n",
    "    # CORRECTED: Flip these p-values\n",
    "    p1 = 1 - norm.cdf(z_stat_low)  # test: diff > -delta\n",
    "    p2 = norm.cdf(z_stat_high)     # test: diff < delta\n",
    "\n",
    "    equivalent = (p1 < alpha) and (p2 < alpha)\n",
    "    return p1, p2, equivalent\n",
    "\n",
    "def r_to_z_delta(delta_r):\n",
    "    r = 0.0  # center at 0 to be conservative\n",
    "    r1 = min(max(r - delta_r, -0.9999), 0.9999)\n",
    "    r2 = min(max(r + delta_r, -0.9999), 0.9999)\n",
    "    return np.abs(fisher_z(r2) - fisher_z(r1))"
   ]
  },
  {
   "cell_type": "markdown",
   "metadata": {
    "id": "FznAQyVtlGpv"
   },
   "source": [
    "## Dataset"
   ]
  },
  {
   "cell_type": "markdown",
   "metadata": {},
   "source": [
    "### Stylometry"
   ]
  },
  {
   "cell_type": "code",
   "execution_count": 68,
   "metadata": {
    "executionInfo": {
     "elapsed": 186,
     "status": "ok",
     "timestamp": 1755523400199,
     "user": {
      "displayName": "Benjamin Icard",
      "userId": "03834653573016242850"
     },
     "user_tz": -120
    },
    "id": "spjbP5oAljwc"
   },
   "outputs": [],
   "source": [
    "stylo_df = pd.read_excel('./stylo_terreau_df.xlsx')"
   ]
  },
  {
   "cell_type": "code",
   "execution_count": 69,
   "metadata": {
    "executionInfo": {
     "elapsed": 44,
     "status": "ok",
     "timestamp": 1755523400253,
     "user": {
      "displayName": "Benjamin Icard",
      "userId": "03834653573016242850"
     },
     "user_tz": -120
    },
    "id": "00oTJ--6HiyG"
   },
   "outputs": [],
   "source": [
    "stylo_df_tuffery_ref_fr = stylo_df[stylo_df['author'] == \"Tuffery\"]\n",
    "\n",
    "stylo_df_style_ref_fr = stylo_df[stylo_df['genAI'] == \"No\"]\n",
    "stylo_df_style_ref_fr = stylo_df_style_ref_fr[stylo_df_style_ref_fr['author'] != \"Tuffery\"]\n",
    "\n",
    "stylo_df_TS_ref_fr = pd.concat([stylo_df_tuffery_ref_fr, stylo_df_style_ref_fr], axis=0)\n",
    "\n",
    "stylo_df_TS_ref_fr = stylo_df_TS_ref_fr.rename(columns={\"id\": \"file_name\", \"Unnamed: 0\":\"id\"})\n",
    "\n",
    "stylo_df_TS_ref_fr[\"class\"] = stylo_df_TS_ref_fr[\"author\"].map({\"Tuffery\": \"A1\", \"Proust\": \"B1\", \"Celine\": \"B1\", \"Yourcenar\":\"B1\"})\n",
    "\n",
    "stylo_df = stylo_df_TS_ref_fr"
   ]
  },
  {
   "cell_type": "code",
   "execution_count": 70,
   "metadata": {
    "colab": {
     "base_uri": "https://localhost:8080/",
     "height": 206
    },
    "executionInfo": {
     "elapsed": 27,
     "status": "ok",
     "timestamp": 1755523400278,
     "user": {
      "displayName": "Benjamin Icard",
      "userId": "03834653573016242850"
     },
     "user_tz": -120
    },
    "id": "bCWkWW1_n-k_",
    "outputId": "21cd915c-22f6-4794-f09b-4e1f2f5839ce"
   },
   "outputs": [
    {
     "data": {
      "text/html": [
       "<div>\n",
       "<style scoped>\n",
       "    .dataframe tbody tr th:only-of-type {\n",
       "        vertical-align: middle;\n",
       "    }\n",
       "\n",
       "    .dataframe tbody tr th {\n",
       "        vertical-align: top;\n",
       "    }\n",
       "\n",
       "    .dataframe thead th {\n",
       "        text-align: right;\n",
       "    }\n",
       "</style>\n",
       "<table border=\"1\" class=\"dataframe\">\n",
       "  <thead>\n",
       "    <tr style=\"text-align: right;\">\n",
       "      <th></th>\n",
       "      <th>id</th>\n",
       "      <th>author</th>\n",
       "      <th>genAI</th>\n",
       "      <th>Punctuation</th>\n",
       "      <th>TAG</th>\n",
       "      <th>Structural</th>\n",
       "      <th>Indexes</th>\n",
       "      <th>NER</th>\n",
       "      <th>Letters</th>\n",
       "      <th>text_id</th>\n",
       "      <th>file_name</th>\n",
       "      <th>class</th>\n",
       "    </tr>\n",
       "  </thead>\n",
       "  <tbody>\n",
       "    <tr>\n",
       "      <th>960</th>\n",
       "      <td>960</td>\n",
       "      <td>Tuffery</td>\n",
       "      <td>No</td>\n",
       "      <td>0.019510</td>\n",
       "      <td>0.195833</td>\n",
       "      <td>8.794737</td>\n",
       "      <td>7.159736</td>\n",
       "      <td>0.083333</td>\n",
       "      <td>0.029505</td>\n",
       "      <td>0</td>\n",
       "      <td>tuffery_agitato_atrabile.txt</td>\n",
       "      <td>A1</td>\n",
       "    </tr>\n",
       "    <tr>\n",
       "      <th>961</th>\n",
       "      <td>961</td>\n",
       "      <td>Tuffery</td>\n",
       "      <td>No</td>\n",
       "      <td>0.011617</td>\n",
       "      <td>0.436869</td>\n",
       "      <td>22.038070</td>\n",
       "      <td>7.771713</td>\n",
       "      <td>0.454545</td>\n",
       "      <td>0.029591</td>\n",
       "      <td>1</td>\n",
       "      <td>tuffery_agitato_lamentabile.txt</td>\n",
       "      <td>A1</td>\n",
       "    </tr>\n",
       "    <tr>\n",
       "      <th>962</th>\n",
       "      <td>962</td>\n",
       "      <td>Tuffery</td>\n",
       "      <td>No</td>\n",
       "      <td>0.011944</td>\n",
       "      <td>0.407407</td>\n",
       "      <td>18.214147</td>\n",
       "      <td>6.612949</td>\n",
       "      <td>0.222222</td>\n",
       "      <td>0.028414</td>\n",
       "      <td>2</td>\n",
       "      <td>tuffery_anacephaleose.txt</td>\n",
       "      <td>A1</td>\n",
       "    </tr>\n",
       "    <tr>\n",
       "      <th>963</th>\n",
       "      <td>963</td>\n",
       "      <td>Tuffery</td>\n",
       "      <td>No</td>\n",
       "      <td>0.011217</td>\n",
       "      <td>0.200617</td>\n",
       "      <td>9.133420</td>\n",
       "      <td>6.714099</td>\n",
       "      <td>0.092593</td>\n",
       "      <td>0.028595</td>\n",
       "      <td>3</td>\n",
       "      <td>tuffery_anadiploses_epanadiploses.txt</td>\n",
       "      <td>A1</td>\n",
       "    </tr>\n",
       "    <tr>\n",
       "      <th>964</th>\n",
       "      <td>964</td>\n",
       "      <td>Tuffery</td>\n",
       "      <td>No</td>\n",
       "      <td>0.010989</td>\n",
       "      <td>1.333333</td>\n",
       "      <td>59.190000</td>\n",
       "      <td>5.093733</td>\n",
       "      <td>1.000000</td>\n",
       "      <td>0.031382</td>\n",
       "      <td>4</td>\n",
       "      <td>tuffery_anaphore.txt</td>\n",
       "      <td>A1</td>\n",
       "    </tr>\n",
       "  </tbody>\n",
       "</table>\n",
       "</div>"
      ],
      "text/plain": [
       "      id   author genAI  Punctuation       TAG  Structural   Indexes  \\\n",
       "960  960  Tuffery    No     0.019510  0.195833    8.794737  7.159736   \n",
       "961  961  Tuffery    No     0.011617  0.436869   22.038070  7.771713   \n",
       "962  962  Tuffery    No     0.011944  0.407407   18.214147  6.612949   \n",
       "963  963  Tuffery    No     0.011217  0.200617    9.133420  6.714099   \n",
       "964  964  Tuffery    No     0.010989  1.333333   59.190000  5.093733   \n",
       "\n",
       "          NER   Letters  text_id                              file_name class  \n",
       "960  0.083333  0.029505        0           tuffery_agitato_atrabile.txt    A1  \n",
       "961  0.454545  0.029591        1        tuffery_agitato_lamentabile.txt    A1  \n",
       "962  0.222222  0.028414        2              tuffery_anacephaleose.txt    A1  \n",
       "963  0.092593  0.028595        3  tuffery_anadiploses_epanadiploses.txt    A1  \n",
       "964  1.000000  0.031382        4                   tuffery_anaphore.txt    A1  "
      ]
     },
     "execution_count": 70,
     "metadata": {},
     "output_type": "execute_result"
    }
   ],
   "source": [
    "stylo_df.head()"
   ]
  },
  {
   "cell_type": "code",
   "execution_count": 71,
   "metadata": {},
   "outputs": [],
   "source": [
    "#Normalize and compute the mean of features \n",
    "\n",
    "numeric_cols = stylo_df.select_dtypes(include=['number']).columns  # Get numeric columns\n",
    "\n",
    "for col in numeric_cols:\n",
    "    stylo_df[f\"{col}_normalized\"] = (stylo_df[col] - stylo_df[col].min()) / (stylo_df[col].max() - stylo_df[col].min())\n",
    "\n",
    "#Mean\n",
    "columns_to_average = [\"Structural_normalized\",\n",
    "                      \"Letters_normalized\",\n",
    "                      \"TAG_normalized\",\n",
    "                      \"NER_normalized\",\n",
    "                       \"Indexes_normalized\",\n",
    "                      ]\n",
    "stylo_df[\"Mean\"] = stylo_df[columns_to_average].mean(axis=1)"
   ]
  },
  {
   "cell_type": "code",
   "execution_count": 75,
   "metadata": {},
   "outputs": [
    {
     "data": {
      "text/html": [
       "<div>\n",
       "<style scoped>\n",
       "    .dataframe tbody tr th:only-of-type {\n",
       "        vertical-align: middle;\n",
       "    }\n",
       "\n",
       "    .dataframe tbody tr th {\n",
       "        vertical-align: top;\n",
       "    }\n",
       "\n",
       "    .dataframe thead th {\n",
       "        text-align: right;\n",
       "    }\n",
       "</style>\n",
       "<table border=\"1\" class=\"dataframe\">\n",
       "  <thead>\n",
       "    <tr style=\"text-align: right;\">\n",
       "      <th>feature</th>\n",
       "      <th>Tuffery</th>\n",
       "      <th>Proust</th>\n",
       "      <th>Celine</th>\n",
       "      <th>Yourcenar</th>\n",
       "    </tr>\n",
       "  </thead>\n",
       "  <tbody>\n",
       "    <tr>\n",
       "      <th>Structural</th>\n",
       "      <td>0.054095</td>\n",
       "      <td>0.154980</td>\n",
       "      <td>0.032130</td>\n",
       "      <td>0.058004</td>\n",
       "    </tr>\n",
       "    <tr>\n",
       "      <th>Letters</th>\n",
       "      <td>0.284825</td>\n",
       "      <td>0.251919</td>\n",
       "      <td>0.252227</td>\n",
       "      <td>0.275529</td>\n",
       "    </tr>\n",
       "    <tr>\n",
       "      <th>TAG</th>\n",
       "      <td>0.056540</td>\n",
       "      <td>0.143150</td>\n",
       "      <td>0.032347</td>\n",
       "      <td>0.041741</td>\n",
       "    </tr>\n",
       "    <tr>\n",
       "      <th>NER</th>\n",
       "      <td>0.044785</td>\n",
       "      <td>0.155766</td>\n",
       "      <td>0.040569</td>\n",
       "      <td>0.070331</td>\n",
       "    </tr>\n",
       "    <tr>\n",
       "      <th>Entropy</th>\n",
       "      <td>0.469363</td>\n",
       "      <td>0.524524</td>\n",
       "      <td>0.474654</td>\n",
       "      <td>0.589203</td>\n",
       "    </tr>\n",
       "  </tbody>\n",
       "</table>\n",
       "</div>"
      ],
      "text/plain": [
       "feature      Tuffery    Proust    Celine  Yourcenar\n",
       "Structural  0.054095  0.154980  0.032130   0.058004\n",
       "Letters     0.284825  0.251919  0.252227   0.275529\n",
       "TAG         0.056540  0.143150  0.032347   0.041741\n",
       "NER         0.044785  0.155766  0.040569   0.070331\n",
       "Entropy     0.469363  0.524524  0.474654   0.589203"
      ]
     },
     "execution_count": 75,
     "metadata": {},
     "output_type": "execute_result"
    }
   ],
   "source": [
    "df_subset = stylo_df[[\"author\"] + columns_to_average]\n",
    "\n",
    "mean_by_author = df_subset.groupby(\"author\").mean(numeric_only=True)\n",
    "\n",
    "mean_by_author = mean_by_author.T\n",
    "\n",
    "mean_by_author = mean_by_author.rename_axis(\"feature\", axis=\"columns\")\n",
    "mean_by_author = mean_by_author[['Tuffery', 'Proust', 'Celine', 'Yourcenar']]\n",
    "mean_by_author.index = mean_by_author.index.str.replace('_normalized', '', regex=False)\n",
    "mean_by_author.index = mean_by_author.index.str.replace('Indexes', 'Entropy', regex=False)\n",
    "\n",
    "mean_by_author.head()"
   ]
  },
  {
   "cell_type": "markdown",
   "metadata": {},
   "source": [
    "### Distance between embeddings"
   ]
  },
  {
   "cell_type": "code",
   "execution_count": 15,
   "metadata": {
    "executionInfo": {
     "elapsed": 63,
     "status": "ok",
     "timestamp": 1755523400345,
     "user": {
      "displayName": "Benjamin Icard",
      "userId": "03834653573016242850"
     },
     "user_tz": -120
    },
    "id": "J1LXYpuqpgPB"
   },
   "outputs": [],
   "source": [
    "mean_distances_df = pd.read_excel('./distance_pertext_umap_TS_ref.xlsx')\n",
    "\n",
    "mean_distances_df[\"genAI\"] = mean_distances_df[\"Class\"].map({\"Proust\": \"No\", \"Celine\": \"No\", \"Yourcenar\": \"No\", \"Tuffery\": \"No\",\n",
    "                                                             \"Proust_mistral\": \"mistral\", \"Celine_mistral\": \"mistral\", \"Yourcenar_mistral\": \"mistral\",\n",
    "                                                             \"Proust_gpt\": \"gpt\", \"Celine_gpt\": \"gpt\", \"Yourcenar_gpt\": \"gpt\",\n",
    "                                                             \"Proust_gemini\": \"gemini\", \"Celine_gemini\": \"gemini\", \"Yourcenar_gemini\": \"gemini\",\n",
    "                                                             })\n",
    "\n",
    "mean_distances_df[\"author\"] = mean_distances_df[\"Class\"].map({\"Proust\": \"Proust\", \"Celine\": \"Celine\", \"Yourcenar\": \"Yourcenar\",\"Tuffery\": \"Tuffery\",\n",
    "                                                             \"Proust_mistral\": \"Proust\", \"Celine_mistral\": \"Celine\", \"Yourcenar_mistral\": \"Yourcenar\",\n",
    "                                                             \"Proust_gpt\": \"Proust\", \"Celine_gpt\": \"Celine\", \"Yourcenar_gpt\": \"Yourcenar\",\n",
    "                                                             \"Proust_gemini\": \"Proust\", \"Celine_gemini\": \"Celine\", \"Yourcenar_gemini\": \"Yourcenar\",\n",
    "                                                             })\n",
    "\n",
    "mean_distances_df[\"class\"] = mean_distances_df[\"author\"].map({\"Tuffery\": \"A1\", \"Proust\": \"B1\", \"Celine\": \"B1\", \"Yourcenar\":\"B1\"})\n",
    "mean_distances_df = mean_distances_df.drop(columns=[\"Class\"])"
   ]
  },
  {
   "cell_type": "code",
   "execution_count": 16,
   "metadata": {
    "colab": {
     "base_uri": "https://localhost:8080/",
     "height": 206
    },
    "executionInfo": {
     "elapsed": 52,
     "status": "ok",
     "timestamp": 1755523400399,
     "user": {
      "displayName": "Benjamin Icard",
      "userId": "03834653573016242850"
     },
     "user_tz": -120
    },
    "id": "3K_nIEFRFiQP",
    "outputId": "bc2cdbc9-38ea-41ce-f8b6-41fa1882b68c"
   },
   "outputs": [
    {
     "data": {
      "text/html": [
       "<div>\n",
       "<style scoped>\n",
       "    .dataframe tbody tr th:only-of-type {\n",
       "        vertical-align: middle;\n",
       "    }\n",
       "\n",
       "    .dataframe tbody tr th {\n",
       "        vertical-align: top;\n",
       "    }\n",
       "\n",
       "    .dataframe thead th {\n",
       "        text-align: right;\n",
       "    }\n",
       "</style>\n",
       "<table border=\"1\" class=\"dataframe\">\n",
       "  <thead>\n",
       "    <tr style=\"text-align: right;\">\n",
       "      <th></th>\n",
       "      <th>Text_Index</th>\n",
       "      <th>Mean_Distance_From_Centroid</th>\n",
       "      <th>genAI</th>\n",
       "      <th>author</th>\n",
       "      <th>class</th>\n",
       "    </tr>\n",
       "  </thead>\n",
       "  <tbody>\n",
       "    <tr>\n",
       "      <th>0</th>\n",
       "      <td>0</td>\n",
       "      <td>1.493536</td>\n",
       "      <td>No</td>\n",
       "      <td>Tuffery</td>\n",
       "      <td>A1</td>\n",
       "    </tr>\n",
       "    <tr>\n",
       "      <th>1</th>\n",
       "      <td>1</td>\n",
       "      <td>3.086941</td>\n",
       "      <td>No</td>\n",
       "      <td>Tuffery</td>\n",
       "      <td>A1</td>\n",
       "    </tr>\n",
       "    <tr>\n",
       "      <th>2</th>\n",
       "      <td>2</td>\n",
       "      <td>1.641952</td>\n",
       "      <td>No</td>\n",
       "      <td>Tuffery</td>\n",
       "      <td>A1</td>\n",
       "    </tr>\n",
       "    <tr>\n",
       "      <th>3</th>\n",
       "      <td>3</td>\n",
       "      <td>1.457144</td>\n",
       "      <td>No</td>\n",
       "      <td>Tuffery</td>\n",
       "      <td>A1</td>\n",
       "    </tr>\n",
       "    <tr>\n",
       "      <th>4</th>\n",
       "      <td>4</td>\n",
       "      <td>1.759076</td>\n",
       "      <td>No</td>\n",
       "      <td>Tuffery</td>\n",
       "      <td>A1</td>\n",
       "    </tr>\n",
       "  </tbody>\n",
       "</table>\n",
       "</div>"
      ],
      "text/plain": [
       "   Text_Index  Mean_Distance_From_Centroid genAI   author class\n",
       "0           0                     1.493536    No  Tuffery    A1\n",
       "1           1                     3.086941    No  Tuffery    A1\n",
       "2           2                     1.641952    No  Tuffery    A1\n",
       "3           3                     1.457144    No  Tuffery    A1\n",
       "4           4                     1.759076    No  Tuffery    A1"
      ]
     },
     "execution_count": 16,
     "metadata": {},
     "output_type": "execute_result"
    }
   ],
   "source": [
    "mean_distances_df.head()"
   ]
  },
  {
   "cell_type": "markdown",
   "metadata": {
    "id": "tKoR04kKcQaQ"
   },
   "source": [
    "## Toutes features confondues, all authors : correlation, p-value"
   ]
  },
  {
   "cell_type": "code",
   "execution_count": 18,
   "metadata": {
    "executionInfo": {
     "elapsed": 79,
     "status": "ok",
     "timestamp": 1755523400504,
     "user": {
      "displayName": "Benjamin Icard",
      "userId": "03834653573016242850"
     },
     "user_tz": -120
    },
    "id": "t7TVchD7cW14"
   },
   "outputs": [],
   "source": [
    "#### DISPERSION DELTA ANALYSIS FOR 2 COMPARISONS\n",
    "\n",
    "\n",
    "## Humans vs genAI\n",
    "\n",
    "# Dispersion delta\n",
    "Tuffery_distances = mean_distances_df[mean_distances_df['author'] == 'Tuffery']['Mean_Distance_From_Centroid'].values\n",
    "Authors_distances = mean_distances_df[mean_distances_df['author'] != 'Tuffery']['Mean_Distance_From_Centroid'].values\n",
    "\n",
    "# List to store the results\n",
    "difference_results = []\n",
    "\n",
    "for i, ref_dist in enumerate(Tuffery_distances):\n",
    "    for j, gen_dist in enumerate(Authors_distances):\n",
    "        difference = ref_dist - gen_dist\n",
    "        difference_results.append({\n",
    "            'Tuffery_Index': i,\n",
    "            'Authors_Index': j,\n",
    "            'Difference': difference\n",
    "        })\n",
    "\n",
    "difference_df_cond1 = pd.DataFrame(difference_results)\n",
    "\n"
   ]
  },
  {
   "cell_type": "code",
   "execution_count": 19,
   "metadata": {
    "executionInfo": {
     "elapsed": 37,
     "status": "ok",
     "timestamp": 1755523400543,
     "user": {
      "displayName": "Benjamin Icard",
      "userId": "03834653573016242850"
     },
     "user_tz": -120
    },
    "id": "V6XaOZPBS243"
   },
   "outputs": [],
   "source": [
    "# Style delta calculation\n",
    "\n",
    "Tuffery_df = stylo_df[stylo_df['author'] == 'Tuffery']\n",
    "Authors_df = stylo_df[stylo_df['author'] != 'Tuffery']\n",
    "\n",
    "# List of stylistic features\n",
    "# features = ['Function words', 'Letters', 'Numbers', 'TAG', 'NER', 'Structural', 'Punctuation', 'Indexes']\n",
    "features = ['Mean']\n",
    "\n",
    "# Initialize a list to store the results\n",
    "difference_results_stylo = []\n",
    "\n",
    "for feature in features:\n",
    "    for i, ref_val in enumerate(Tuffery_df[feature].values):\n",
    "        for j, gen_val in enumerate(Authors_df[feature].values):\n",
    "            difference = ref_val - gen_val\n",
    "            difference_results_stylo.append({\n",
    "                'Feature': feature,\n",
    "                'Tuffery_Index': i,\n",
    "                'Authors_Index': j,\n",
    "                'Difference': difference\n",
    "            })\n",
    "\n",
    "difference_df_stylo_cond1 = pd.DataFrame(difference_results_stylo)"
   ]
  },
  {
   "cell_type": "code",
   "execution_count": 20,
   "metadata": {
    "colab": {
     "base_uri": "https://localhost:8080/"
    },
    "executionInfo": {
     "elapsed": 64,
     "status": "ok",
     "timestamp": 1755523400615,
     "user": {
      "displayName": "Benjamin Icard",
      "userId": "03834653573016242850"
     },
     "user_tz": -120
    },
    "id": "cRdlp-AGXBBN",
    "outputId": "cbfb7a47-7780-4c38-c28e-b1f7f8a9348d"
   },
   "outputs": [
    {
     "name": "stdout",
     "output_type": "stream",
     "text": [
      "  Feature  Correlation P-value_symbole       P-value\n",
      "0    Mean     0.057384              **  1.307735e-21\n",
      "0    0.057384\n",
      "Name: Correlation, dtype: float64\n"
     ]
    }
   ],
   "source": [
    "correlation_df_cond1 = calculate_correlations_with_significance(difference_df_stylo_cond1, difference_df_cond1)\n",
    "\n",
    "# correlation_df_cond1 = correlation_df_cond1.sort_values(by='Correlation_proust', ascending=False)\n",
    "print(correlation_df_cond1.to_string())\n",
    "print(correlation_df_cond1[\"Correlation\"])"
   ]
  },
  {
   "cell_type": "markdown",
   "metadata": {
    "id": "uG6CbUJubwIy"
   },
   "source": [
    "## Toutes features confondues, per author : correlation, p-value"
   ]
  },
  {
   "cell_type": "code",
   "execution_count": 21,
   "metadata": {
    "executionInfo": {
     "elapsed": 52,
     "status": "ok",
     "timestamp": 1755523400878,
     "user": {
      "displayName": "Benjamin Icard",
      "userId": "03834653573016242850"
     },
     "user_tz": -120
    },
    "id": "Xm-TMbv0bs4T"
   },
   "outputs": [],
   "source": [
    "#### DISPERSION DELTA ANALYSIS FOR 2 COMPARISONS\n",
    "\n",
    "\n",
    "## Humans vs genAI\n",
    "\n",
    "# Dispersion delta\n",
    "Tuffery_distances = mean_distances_df[mean_distances_df['author'] == 'Tuffery']['Mean_Distance_From_Centroid'].values\n",
    "\n",
    "GenAI_distances = {}\n",
    "difference_df_cond1 = {}\n",
    "\n",
    "for auteur in [\"Proust\", \"Celine\", \"Yourcenar\"]:\n",
    "    GenAI_distances[auteur] = mean_distances_df[mean_distances_df['author'] == auteur]['Mean_Distance_From_Centroid'].values\n",
    "    # List to store the results\n",
    "    difference_results = []\n",
    "\n",
    "    for i, ref_dist in enumerate(Tuffery_distances):\n",
    "        for j, gen_dist in enumerate(GenAI_distances[auteur]):\n",
    "            difference = ref_dist - gen_dist\n",
    "            difference_results.append({\n",
    "                'Tuffery_Index': i,\n",
    "                f'{auteur}_Index': j,\n",
    "                'Difference': difference\n",
    "            })\n",
    "\n",
    "    difference_df_cond1[auteur] = pd.DataFrame(difference_results)\n",
    "\n"
   ]
  },
  {
   "cell_type": "code",
   "execution_count": 22,
   "metadata": {
    "executionInfo": {
     "elapsed": 95,
     "status": "ok",
     "timestamp": 1755523400976,
     "user": {
      "displayName": "Benjamin Icard",
      "userId": "03834653573016242850"
     },
     "user_tz": -120
    },
    "id": "FC_BP1KUeulP"
   },
   "outputs": [],
   "source": [
    "# Style delta calculation\n",
    "\n",
    "Tuffery_df = stylo_df[stylo_df['author'] == 'Tuffery']\n",
    "\n",
    "GenAI_stylo = {}\n",
    "difference_df_stylo_cond1 = {}\n",
    "\n",
    "# List of stylistic features\n",
    "# features = ['Function words', 'Letters', 'Numbers', 'TAG', 'NER', 'Structural', 'Punctuation', 'Indexes']\n",
    "features = ['Mean']\n",
    "\n",
    "for auteur in [\"Celine\", \"Proust\", \"Yourcenar\"]:\n",
    "    GenAI_stylo[auteur] = stylo_df[stylo_df['author'] == auteur]\n",
    "\n",
    "    # List to store the results\n",
    "    difference_results_stylo = []\n",
    "\n",
    "    for feature in features:\n",
    "        for i, ref_val in enumerate(Tuffery_df[feature].values):\n",
    "            for j, gen_val in enumerate(GenAI_stylo[auteur][feature].values):\n",
    "                difference = ref_val - gen_val\n",
    "                difference_results_stylo.append({\n",
    "                    'Feature': feature,\n",
    "                    'Mistral_Index': i,\n",
    "                    f'{auteur}_Index': j,\n",
    "                    'Difference': difference\n",
    "                })\n",
    "    difference_df_stylo_cond1[auteur] = pd.DataFrame(difference_results_stylo)\n"
   ]
  },
  {
   "cell_type": "code",
   "execution_count": 23,
   "metadata": {
    "colab": {
     "base_uri": "https://localhost:8080/"
    },
    "executionInfo": {
     "elapsed": 50,
     "status": "ok",
     "timestamp": 1755523401028,
     "user": {
      "displayName": "Benjamin Icard",
      "userId": "03834653573016242850"
     },
     "user_tz": -120
    },
    "id": "l4Zs6zyZf3dH",
    "outputId": "2722a80a-e63e-4c92-b7aa-c48e1a4c2258"
   },
   "outputs": [
    {
     "name": "stdout",
     "output_type": "stream",
     "text": [
      "Celine\n",
      "  Feature  Correlation P-value_symbole       P-value\n",
      "0    Mean     0.159404              **  1.656137e-53\n",
      "Proust\n",
      "  Feature  Correlation P-value_symbole       P-value\n",
      "0    Mean     0.186075              **  1.399222e-72\n",
      "Yourcenar\n",
      "  Feature  Correlation P-value_symbole       P-value\n",
      "0    Mean     0.086404              **  9.637181e-17\n"
     ]
    }
   ],
   "source": [
    "for auteur in [\"Celine\", \"Proust\", \"Yourcenar\"]:\n",
    "\n",
    "    correlation_df_cond1 = calculate_correlations_with_significance(difference_df_stylo_cond1[auteur], difference_df_cond1[auteur])\n",
    "\n",
    "    print(f\"{auteur}\")\n",
    "    print(correlation_df_cond1.to_string())"
   ]
  },
  {
   "cell_type": "code",
   "execution_count": 24,
   "metadata": {
    "colab": {
     "base_uri": "https://localhost:8080/",
     "height": 430
    },
    "executionInfo": {
     "elapsed": 290,
     "status": "ok",
     "timestamp": 1755523401306,
     "user": {
      "displayName": "Benjamin Icard",
      "userId": "03834653573016242850"
     },
     "user_tz": -120
    },
    "id": "qSdSa8aObG0M",
    "outputId": "dd125a1a-ad2f-4d68-94e6-c832d474ec48"
   },
   "outputs": [
    {
     "data": {
      "image/png": "[encoded data removed]",
      "text/plain": [
       "<Figure size 640x480 with 1 Axes>"
      ]
     },
     "metadata": {},
     "output_type": "display_data"
    }
   ],
   "source": [
    "plt.figure()\n",
    "i = 0\n",
    "colors = ['red', 'darkblue', 'green']\n",
    "\n",
    "for auteur in ['Proust', 'Celine', 'Yourcenar']:\n",
    "    plt.scatter(difference_df_stylo_cond1[auteur][\"Difference\"], difference_df_cond1[auteur][\"Difference\"], s=2, c=colors[i])\n",
    "    correlation_df_cond1 = calculate_correlations_with_significance(difference_df_stylo_cond1[auteur], difference_df_cond1[auteur])\n",
    "\n",
    "    plt.plot(np.linspace(-1, 1), np.linspace(-1, 1)*correlation_df_cond1[\"Correlation\"].values, c=colors[i])\n",
    "    i += 1\n",
    "\n",
    "plt.plot(np.linspace(-1, 1), np.linspace(-1, 1)*0.04, c=\"black\")\n",
    "\n",
    "# plt.ylim(-1, 1)\n",
    "plt.show()"
   ]
  },
  {
   "cell_type": "code",
   "execution_count": 25,
   "metadata": {
    "colab": {
     "base_uri": "https://localhost:8080/"
    },
    "executionInfo": {
     "elapsed": 6,
     "status": "ok",
     "timestamp": 1755523401317,
     "user": {
      "displayName": "Benjamin Icard",
      "userId": "03834653573016242850"
     },
     "user_tz": -120
    },
    "id": "E4_vUyxFXXe7",
    "outputId": "0545226f-3920-4eed-d49a-87c48ed4b5f0"
   },
   "outputs": [
    {
     "data": {
      "text/plain": [
       "{'Celine':      Feature  Mistral_Index  Celine_Index  Difference\n",
       " 0       Mean              0             0    0.002179\n",
       " 1       Mean              0             1   -0.043068\n",
       " 2       Mean              0             2    0.005371\n",
       " 3       Mean              0             3    0.022765\n",
       " 4       Mean              0             4   -0.001765\n",
       " ...      ...            ...           ...         ...\n",
       " 9211    Mean             95            91   -0.020697\n",
       " 9212    Mean             95            92    0.040760\n",
       " 9213    Mean             95            93   -0.031354\n",
       " 9214    Mean             95            94   -0.004503\n",
       " 9215    Mean             95            95    0.009245\n",
       " \n",
       " [9216 rows x 4 columns],\n",
       " 'Proust':      Feature  Mistral_Index  Proust_Index  Difference\n",
       " 0       Mean              0             0   -0.001799\n",
       " 1       Mean              0             1    0.014087\n",
       " 2       Mean              0             2   -0.238098\n",
       " 3       Mean              0             3   -0.064856\n",
       " 4       Mean              0             4   -0.010682\n",
       " ...      ...            ...           ...         ...\n",
       " 9211    Mean             95            91    0.009560\n",
       " 9212    Mean             95            92    0.042884\n",
       " 9213    Mean             95            93   -0.046129\n",
       " 9214    Mean             95            94   -0.023166\n",
       " 9215    Mean             95            95    0.036382\n",
       " \n",
       " [9216 rows x 4 columns],\n",
       " 'Yourcenar':      Feature  Mistral_Index  Yourcenar_Index  Difference\n",
       " 0       Mean              0                0   -0.050107\n",
       " 1       Mean              0                1   -0.045877\n",
       " 2       Mean              0                2   -0.023169\n",
       " 3       Mean              0                3   -0.026790\n",
       " 4       Mean              0                4   -0.048248\n",
       " ...      ...            ...              ...         ...\n",
       " 9211    Mean             95               91   -0.022713\n",
       " 9212    Mean             95               92    0.046072\n",
       " 9213    Mean             95               93   -0.028218\n",
       " 9214    Mean             95               94   -0.034589\n",
       " 9215    Mean             95               95   -0.018761\n",
       " \n",
       " [9216 rows x 4 columns]}"
      ]
     },
     "execution_count": 25,
     "metadata": {},
     "output_type": "execute_result"
    }
   ],
   "source": [
    "difference_df_stylo_cond1"
   ]
  },
  {
   "cell_type": "markdown",
   "metadata": {
    "id": "WIzGK6_8z1gI"
   },
   "source": [
    "## t test sur les features direct"
   ]
  },
  {
   "cell_type": "code",
   "execution_count": 26,
   "metadata": {
    "colab": {
     "base_uri": "https://localhost:8080/"
    },
    "executionInfo": {
     "elapsed": 47,
     "status": "ok",
     "timestamp": 1755523401829,
     "user": {
      "displayName": "Benjamin Icard",
      "userId": "03834653573016242850"
     },
     "user_tz": -120
    },
    "id": "v1cYoTfEkNpg",
    "outputId": "fe378386-e2fd-4418-e379-bde520d2bcd2"
   },
   "outputs": [
    {
     "name": "stdout",
     "output_type": "stream",
     "text": [
      "Entre Tuffery et Proust : \n"
     ]
    },
    {
     "ename": "NameError",
     "evalue": "name 'stats' is not defined",
     "output_type": "error",
     "traceback": [
      "\u001b[0;31m---------------------------------------------------------------------------\u001b[0m",
      "\u001b[0;31mNameError\u001b[0m                                 Traceback (most recent call last)",
      "Cell \u001b[0;32mIn[26], line 14\u001b[0m\n\u001b[1;32m     12\u001b[0m       feature \u001b[38;5;241m=\u001b[39m row[\u001b[38;5;241m1\u001b[39m][\u001b[38;5;124m'\u001b[39m\u001b[38;5;124mFeature\u001b[39m\u001b[38;5;124m'\u001b[39m]\n\u001b[1;32m     13\u001b[0m \u001b[38;5;66;03m#z_score, p_value = compare_correlations(correlation_proust, 96 , correlation_celine, 96 )\u001b[39;00m\n\u001b[0;32m---> 14\u001b[0m       t_stat, p_value \u001b[38;5;241m=\u001b[39m \u001b[43mstats\u001b[49m\u001b[38;5;241m.\u001b[39mttest_ind(stylo_df[stylo_df[\u001b[38;5;124m\"\u001b[39m\u001b[38;5;124mauthor\u001b[39m\u001b[38;5;124m\"\u001b[39m]\u001b[38;5;241m==\u001b[39mauthor_1][\u001b[38;5;124m\"\u001b[39m\u001b[38;5;124mMean\u001b[39m\u001b[38;5;124m\"\u001b[39m], stylo_df[stylo_df[\u001b[38;5;124m\"\u001b[39m\u001b[38;5;124mauthor\u001b[39m\u001b[38;5;124m\"\u001b[39m]\u001b[38;5;241m==\u001b[39mauthor_2][\u001b[38;5;124m\"\u001b[39m\u001b[38;5;124mMean\u001b[39m\u001b[38;5;124m\"\u001b[39m], equal_var\u001b[38;5;241m=\u001b[39m\u001b[38;5;28;01mFalse\u001b[39;00m)\n\u001b[1;32m     16\u001b[0m       \u001b[38;5;28;01mif\u001b[39;00m \u001b[38;5;28mlen\u001b[39m(feature) \u001b[38;5;241m>\u001b[39m \u001b[38;5;241m4\u001b[39m:\n\u001b[1;32m     17\u001b[0m         \u001b[38;5;28mprint\u001b[39m(\u001b[38;5;124mf\u001b[39m\u001b[38;5;124m\"\u001b[39m\u001b[38;5;132;01m{\u001b[39;00mfeature\u001b[38;5;132;01m}\u001b[39;00m\u001b[38;5;124m \u001b[39m\u001b[38;5;130;01m\\t\u001b[39;00m\u001b[38;5;124m t = \u001b[39m\u001b[38;5;132;01m{\u001b[39;00mt_stat\u001b[38;5;132;01m:\u001b[39;00m\u001b[38;5;124m.4f\u001b[39m\u001b[38;5;132;01m}\u001b[39;00m\u001b[38;5;124m \u001b[39m\u001b[38;5;130;01m\\t\u001b[39;00m\u001b[38;5;124m p = \u001b[39m\u001b[38;5;132;01m{\u001b[39;00mp_value\u001b[38;5;132;01m:\u001b[39;00m\u001b[38;5;124m.6f\u001b[39m\u001b[38;5;132;01m}\u001b[39;00m\u001b[38;5;124m\"\u001b[39m)\n",
      "\u001b[0;31mNameError\u001b[0m: name 'stats' is not defined"
     ]
    }
   ],
   "source": [
    "## Testing if the correlations are significatively different\n",
    "##correlation_proust = calculate_correlations_with_significance(difference_df_stylo_cond1[\"Proust\"], difference_df_cond1[\"Proust\"])['Correlation'].values[0]\n",
    "#correlation_celine = calculate_correlations_with_significance(difference_df_stylo_cond1[\"Celine\"], difference_df_cond1[\"Celine\"])['Correlation'].values[0]\n",
    "#correlation_yourcenar = calculate_correlations_with_significance(difference_df_stylo_cond1[\"Yourcenar\"], difference_df_cond1[\"Yourcenar\"])['Correlation'].values[0]\n",
    "\n",
    "for author_1 in [\"Tuffery\", \"Proust\",  \"Celine\", \"Yourcenar\"]:\n",
    "  for author_2 in [\"Tuffery\",  \"Proust\", \"Celine\",  \"Yourcenar\"]:\n",
    "    if author_1 != author_2:\n",
    "      print(f\"Entre {author_1} et {author_2} : \")\n",
    "\n",
    "      for row in correlation_df_cond1.iterrows():\n",
    "        feature = row[1]['Feature']\n",
    "  #z_score, p_value = compare_correlations(correlation_proust, 96 , correlation_celine, 96 )\n",
    "        t_stat, p_value = stats.ttest_ind(stylo_df[stylo_df[\"author\"]==author_1][\"Mean\"], stylo_df[stylo_df[\"author\"]==author_2][\"Mean\"], equal_var=False)\n",
    "\n",
    "        if len(feature) > 4:\n",
    "          print(f\"{feature} \\t t = {t_stat:.4f} \\t p = {p_value:.6f}\")\n",
    "        else:\n",
    "          print(f\"{feature} \\t \\t t = {t_stat:.4f} \\t p = {p_value:.2e}\")"
   ]
  },
  {
   "cell_type": "code",
   "execution_count": 27,
   "metadata": {
    "colab": {
     "base_uri": "https://localhost:8080/"
    },
    "executionInfo": {
     "elapsed": 142,
     "status": "ok",
     "timestamp": 1755523401972,
     "user": {
      "displayName": "Benjamin Icard",
      "userId": "03834653573016242850"
     },
     "user_tz": -120
    },
    "id": "KclhpQZyz1KP",
    "outputId": "450315d2-8253-4088-f448-67c6b027f009"
   },
   "outputs": [
    {
     "name": "stdout",
     "output_type": "stream",
     "text": [
      "Entre Tuffery et Proust :\n"
     ]
    },
    {
     "ename": "NameError",
     "evalue": "name 'stats' is not defined",
     "output_type": "error",
     "traceback": [
      "\u001b[0;31m---------------------------------------------------------------------------\u001b[0m",
      "\u001b[0;31mNameError\u001b[0m                                 Traceback (most recent call last)",
      "Cell \u001b[0;32mIn[27], line 16\u001b[0m\n\u001b[1;32m     10\u001b[0m     \u001b[38;5;28;01mfor\u001b[39;00m feature \u001b[38;5;129;01min\u001b[39;00m [\u001b[38;5;124m\"\u001b[39m\u001b[38;5;124mTAG\u001b[39m\u001b[38;5;124m\"\u001b[39m, \u001b[38;5;124m\"\u001b[39m\u001b[38;5;124mNER\u001b[39m\u001b[38;5;124m\"\u001b[39m, \u001b[38;5;124m\"\u001b[39m\u001b[38;5;124mLetters\u001b[39m\u001b[38;5;124m\"\u001b[39m, \u001b[38;5;124m\"\u001b[39m\u001b[38;5;124mStructural\u001b[39m\u001b[38;5;124m\"\u001b[39m, \u001b[38;5;124m\"\u001b[39m\u001b[38;5;124mIndexes\u001b[39m\u001b[38;5;124m\"\u001b[39m]:\n\u001b[1;32m     13\u001b[0m       \u001b[38;5;28;01mfor\u001b[39;00m row \u001b[38;5;129;01min\u001b[39;00m correlation_df_cond1\u001b[38;5;241m.\u001b[39miterrows():\n\u001b[1;32m     14\u001b[0m \n\u001b[1;32m     15\u001b[0m \u001b[38;5;66;03m#z_score, p_value = compare_correlations(correlation_proust, 96 , correlation_celine, 96 )\u001b[39;00m\n\u001b[0;32m---> 16\u001b[0m         t_stat, p_value \u001b[38;5;241m=\u001b[39m \u001b[43mstats\u001b[49m\u001b[38;5;241m.\u001b[39mttest_ind(stylo_df[stylo_df[\u001b[38;5;124m\"\u001b[39m\u001b[38;5;124mauthor\u001b[39m\u001b[38;5;124m\"\u001b[39m]\u001b[38;5;241m==\u001b[39mauthor_1][feature], stylo_df[stylo_df[\u001b[38;5;124m\"\u001b[39m\u001b[38;5;124mauthor\u001b[39m\u001b[38;5;124m\"\u001b[39m]\u001b[38;5;241m==\u001b[39mauthor_2][feature], equal_var\u001b[38;5;241m=\u001b[39m\u001b[38;5;28;01mFalse\u001b[39;00m)\n\u001b[1;32m     18\u001b[0m         \u001b[38;5;28;01mif\u001b[39;00m \u001b[38;5;28mlen\u001b[39m(feature) \u001b[38;5;241m>\u001b[39m \u001b[38;5;241m4\u001b[39m:\n\u001b[1;32m     19\u001b[0m           \u001b[38;5;28mprint\u001b[39m(\u001b[38;5;124mf\u001b[39m\u001b[38;5;124m\"\u001b[39m\u001b[38;5;130;01m\\t\u001b[39;00m\u001b[38;5;124m \u001b[39m\u001b[38;5;132;01m{\u001b[39;00mfeature\u001b[38;5;132;01m}\u001b[39;00m\u001b[38;5;124m \u001b[39m\u001b[38;5;130;01m\\t\u001b[39;00m\u001b[38;5;124m t = \u001b[39m\u001b[38;5;132;01m{\u001b[39;00mt_stat\u001b[38;5;132;01m:\u001b[39;00m\u001b[38;5;124m.4f\u001b[39m\u001b[38;5;132;01m}\u001b[39;00m\u001b[38;5;124m \u001b[39m\u001b[38;5;130;01m\\t\u001b[39;00m\u001b[38;5;124m p = \u001b[39m\u001b[38;5;132;01m{\u001b[39;00mp_value\u001b[38;5;132;01m:\u001b[39;00m\u001b[38;5;124m.2e\u001b[39m\u001b[38;5;132;01m}\u001b[39;00m\u001b[38;5;124m\"\u001b[39m)\n",
      "\u001b[0;31mNameError\u001b[0m: name 'stats' is not defined"
     ]
    }
   ],
   "source": [
    "## Testing if the correlations are significatively different\n",
    "##correlation_proust = calculate_correlations_with_significance(difference_df_stylo_cond1[\"Proust\"], difference_df_cond1[\"Proust\"])['Correlation'].values[0]\n",
    "#correlation_celine = calculate_correlations_with_significance(difference_df_stylo_cond1[\"Celine\"], difference_df_cond1[\"Celine\"])['Correlation'].values[0]\n",
    "#correlation_yourcenar = calculate_correlations_with_significance(difference_df_stylo_cond1[\"Yourcenar\"], difference_df_cond1[\"Yourcenar\"])['Correlation'].values[0]\n",
    "\n",
    "for author_1 in [\"Tuffery\", \"Proust\",  \"Celine\", \"Yourcenar\"]:\n",
    "  for author_2 in [\"Proust\", \"Celine\",  \"Yourcenar\"]:\n",
    "    if author_1 != author_2:\n",
    "      print(f\"Entre {author_1} et {author_2} :\")\n",
    "      for feature in [\"TAG\", \"NER\", \"Letters\", \"Structural\", \"Indexes\"]:\n",
    "\n",
    "\n",
    "        for row in correlation_df_cond1.iterrows():\n",
    "\n",
    "  #z_score, p_value = compare_correlations(correlation_proust, 96 , correlation_celine, 96 )\n",
    "          t_stat, p_value = stats.ttest_ind(stylo_df[stylo_df[\"author\"]==author_1][feature], stylo_df[stylo_df[\"author\"]==author_2][feature], equal_var=False)\n",
    "\n",
    "          if len(feature) > 4:\n",
    "            print(f\"\\t {feature} \\t t = {t_stat:.4f} \\t p = {p_value:.2e}\")\n",
    "          else:\n",
    "            print(f\"\\t {feature} \\t \\t t = {t_stat:.4f} \\t p = {p_value:.2e}\")"
   ]
  },
  {
   "cell_type": "markdown",
   "metadata": {
    "id": "LHfTG1A50onT"
   },
   "source": [
    "## Per feature, per author : correlation, p-value"
   ]
  },
  {
   "cell_type": "code",
   "execution_count": 208,
   "metadata": {
    "executionInfo": {
     "elapsed": 96,
     "status": "ok",
     "timestamp": 1755523402074,
     "user": {
      "displayName": "Benjamin Icard",
      "userId": "03834653573016242850"
     },
     "user_tz": -120
    },
    "id": "6x8erI6R0onU"
   },
   "outputs": [],
   "source": [
    "#### DISPERSION DELTA ANALYSIS FOR 2 COMPARISONS\n",
    "\n",
    "\n",
    "## Humans vs genAI\n",
    "\n",
    "# Dispersion delta\n",
    "Tuffery_distances = mean_distances_df[mean_distances_df['author'] == 'Tuffery']['Mean_Distance_From_Centroid'].values\n",
    "\n",
    "GenAI_distances = {}\n",
    "difference_df_cond1 = {}\n",
    "\n",
    "\n",
    "for auteur in [\"Proust\", \"Celine\", \"Yourcenar\"]:\n",
    "    GenAI_distances[auteur] = mean_distances_df[mean_distances_df['author'] == auteur]['Mean_Distance_From_Centroid'].values\n",
    "\n",
    "    # List to store the results\n",
    "    difference_results = []\n",
    "\n",
    "    for i, ref_dist in enumerate(Tuffery_distances):\n",
    "        for j, gen_dist in enumerate(GenAI_distances[auteur]):\n",
    "            difference = ref_dist - gen_dist\n",
    "            difference_results.append({\n",
    "                'Tuffery_Index': i,\n",
    "                f'{auteur}_Index': j,\n",
    "                'Difference': difference\n",
    "            })\n",
    "\n",
    "    difference_df_cond1[auteur] = pd.DataFrame(difference_results)\n",
    "\n"
   ]
  },
  {
   "cell_type": "code",
   "execution_count": 209,
   "metadata": {
    "executionInfo": {
     "elapsed": 337,
     "status": "ok",
     "timestamp": 1755523402419,
     "user": {
      "displayName": "Benjamin Icard",
      "userId": "03834653573016242850"
     },
     "user_tz": -120
    },
    "id": "IS45DZ6k0onW"
   },
   "outputs": [],
   "source": [
    "# Style delta calculation\n",
    "\n",
    "Tuffery_df = stylo_df[stylo_df['author'] == 'Tuffery']\n",
    "\n",
    "GenAI_stylo = {}\n",
    "difference_df_stylo_cond1 = {}\n",
    "\n",
    "# List of stylistic features\n",
    "#features = ['Function words', 'Letters', 'Numbers', 'TAG', 'NER', 'Structural', 'Punctuation', 'Indexes']\n",
    "features = ['Letters', 'TAG', 'NER', 'Structural', 'Indexes']\n",
    "# features = ['Mean']\n",
    "\n",
    "for auteur in [\"Proust\", \"Celine\", \"Yourcenar\"]:\n",
    "    GenAI_stylo[auteur] = stylo_df[stylo_df['author'] == auteur]\n",
    "\n",
    "    # List to store the results\n",
    "    difference_results_stylo = []\n",
    "\n",
    "    for feature in features:\n",
    "        for i, ref_val in enumerate(Tuffery_df[feature].values):\n",
    "            for j, gen_val in enumerate(GenAI_stylo[auteur][feature].values):\n",
    "                difference = ref_val - gen_val\n",
    "                difference_results_stylo.append({\n",
    "                    'Feature': feature,\n",
    "                    'Mistral_Index': i,\n",
    "                    f'{auteur}_Index': j,\n",
    "                    'Difference': difference\n",
    "                })\n",
    "    difference_df_stylo_cond1[auteur] = pd.DataFrame(difference_results_stylo)"
   ]
  },
  {
   "cell_type": "code",
   "execution_count": 210,
   "metadata": {
    "colab": {
     "base_uri": "https://localhost:8080/"
    },
    "executionInfo": {
     "elapsed": 92,
     "status": "ok",
     "timestamp": 1755523402515,
     "user": {
      "displayName": "Benjamin Icard",
      "userId": "03834653573016242850"
     },
     "user_tz": -120
    },
    "id": "oNpWh2Ei0onX",
    "outputId": "1ac50741-8dd8-4dd1-c421-484041edab9a"
   },
   "outputs": [
    {
     "name": "stdout",
     "output_type": "stream",
     "text": [
      "Proust\n",
      "      Feature  Correlation P-value_symbole       P-value\n",
      "0     Letters     0.162653              **  1.149980e-55\n",
      "1         TAG     0.127352              **  1.246612e-34\n",
      "2         NER     0.195370              **  5.789288e-80\n",
      "3  Structural     0.135972              **  2.793552e-39\n",
      "4     Indexes     0.013114                  2.081026e-01\n",
      "Celine\n",
      "      Feature  Correlation P-value_symbole       P-value\n",
      "0     Letters     0.161415              **  7.736992e-55\n",
      "1         TAG     0.004683                  6.530689e-01\n",
      "2         NER     0.132148              **  3.528125e-37\n",
      "3  Structural     0.011195                  2.825510e-01\n",
      "4     Indexes     0.104475              **  8.666099e-24\n",
      "Yourcenar\n",
      "      Feature  Correlation P-value_symbole       P-value\n",
      "0     Letters     0.055860              **  8.049916e-08\n",
      "1         TAG    -0.004307                  6.793163e-01\n",
      "2         NER     0.212397              **  1.703754e-94\n",
      "3  Structural    -0.004648                  6.554719e-01\n",
      "4     Indexes     0.041313              **  7.273059e-05\n"
     ]
    }
   ],
   "source": [
    "for auteur in [\"Proust\", \"Celine\", \"Yourcenar\"]:\n",
    "\n",
    "    correlation_df_cond1 = calculate_correlations_with_significance(difference_df_stylo_cond1[auteur], difference_df_cond1[auteur])\n",
    "\n",
    "    print(f\"{auteur}\")\n",
    "    print(correlation_df_cond1.to_string())"
   ]
  },
  {
   "cell_type": "markdown",
   "metadata": {
    "id": "rSavCeSj-ajv"
   },
   "source": [
    "### To latex"
   ]
  },
  {
   "cell_type": "code",
   "execution_count": 211,
   "metadata": {
    "colab": {
     "base_uri": "https://localhost:8080/"
    },
    "executionInfo": {
     "elapsed": 110,
     "status": "ok",
     "timestamp": 1755523402631,
     "user": {
      "displayName": "Benjamin Icard",
      "userId": "03834653573016242850"
     },
     "user_tz": -120
    },
    "id": "KlVfrunL-aCH",
    "outputId": "85dd58bb-e0af-4c9b-9d33-250ac87f4873"
   },
   "outputs": [
    {
     "name": "stdout",
     "output_type": "stream",
     "text": [
      " & \\multicolumn{2}{|c|}{Proust} & \\multicolumn{2}{|c|}{Celine} & \\multicolumn{2}{|c|}{Yourcenar} \\\\\n",
      "\\hline\n",
      "Feature & Correlation & P-value & Correlation & P-value & Correlation & P-value  \\\\\n",
      "\\hline\n",
      "Letters & 0.1627 & 1.1e-55 (**) & 0.1614 & 7.7e-55 (**) & 0.0559 & 8.0e-08 (**) \\\\\n",
      "TAG & 0.1274 & 1.2e-34 (**) & 0.0047 & 6.5e-01 () & -0.0043 & 6.8e-01 () \\\\\n",
      "NER & 0.1954 & 5.8e-80 (**) & 0.1321 & 3.5e-37 (**) & 0.2124 & 1.7e-94 (**) \\\\\n",
      "Structural & 0.1360 & 2.8e-39 (**) & 0.0112 & 2.8e-01 () & -0.0046 & 6.6e-01 () \\\\\n",
      "\\hline\n"
     ]
    }
   ],
   "source": [
    "Proust = calculate_correlations_with_significance(difference_df_stylo_cond1['Proust'], difference_df_cond1['Proust'])\n",
    "Celine = calculate_correlations_with_significance(difference_df_stylo_cond1['Celine'], difference_df_cond1['Celine'])\n",
    "Yourcenar = calculate_correlations_with_significance(difference_df_stylo_cond1['Yourcenar'], difference_df_cond1['Yourcenar'])\n",
    "\n",
    "\n",
    "\n",
    "# Standard list of features (in desired order)\n",
    "features = ['Letters', 'TAG', 'NER', 'Structural']\n",
    "\n",
    "# Ensure each dataframe is indexed by 'Feature' for easy lookup\n",
    "Proust.set_index('Feature', inplace=True)\n",
    "Celine.set_index('Feature', inplace=True)\n",
    "Yourcenar.set_index('Feature', inplace=True)\n",
    "\n",
    "# Start LaTeX table\n",
    "latex = []\n",
    "latex.append(r\" & \\multicolumn{2}{|c|}{Proust} & \\multicolumn{2}{|c|}{Celine} & \\multicolumn{2}{|c|}{Yourcenar} \\\\\")\n",
    "latex.append(r\"\\hline\")\n",
    "latex.append(r\"Feature & Correlation & P-value & Correlation & P-value & Correlation & P-value  \\\\\")\n",
    "latex.append(r\"\\hline\")\n",
    "\n",
    "# Populate rows\n",
    "for feature in features:\n",
    "    row = [feature]\n",
    "    for df in [Proust, Celine, Yourcenar]:\n",
    "        corr = df.loc[feature, 'Correlation'] if feature in df.index else ''\n",
    "        pval = df.loc[feature, 'P-value'] if feature in df.index else ''\n",
    "        psymb= df.loc[feature, 'P-value_symbole'] if feature in df.index else ''\n",
    "        row.extend([f\"{corr:.4f}\", f\"{pval:.1e} ({psymb})\"])\n",
    "    latex.append(\" & \".join(row) + r\" \\\\\")  # row end\n",
    "latex.append(r\"\\hline\")\n",
    "\n",
    "# Join and print LaTeX code\n",
    "latex_table = \"\\n\".join(latex)\n",
    "print(latex_table)"
   ]
  },
  {
   "cell_type": "markdown",
   "metadata": {
    "id": "3qDS6Y-zGxXZ"
   },
   "source": [
    "## Plot"
   ]
  },
  {
   "cell_type": "code",
   "execution_count": 212,
   "metadata": {
    "colab": {
     "base_uri": "https://localhost:8080/"
    },
    "executionInfo": {
     "elapsed": 18,
     "status": "ok",
     "timestamp": 1755523402655,
     "user": {
      "displayName": "Benjamin Icard",
      "userId": "03834653573016242850"
     },
     "user_tz": -120
    },
    "id": "QUSLysUfHBAr",
    "outputId": "6fb61211-2b43-4b40-c749-229bc87ab3f7"
   },
   "outputs": [
    {
     "name": "stdout",
     "output_type": "stream",
     "text": [
      "           Structural_normalized  Letters_normalized  TAG_normalized  \\\n",
      "author                                                                 \n",
      "Celine                  0.032130            0.252227        0.032347   \n",
      "Proust                  0.154980            0.251919        0.143150   \n",
      "Tuffery                 0.054095            0.284825        0.056540   \n",
      "Yourcenar               0.058004            0.275529        0.041741   \n",
      "\n",
      "           NER_normalized  Indexes_normalized  \n",
      "author                                         \n",
      "Celine           0.040569            0.474654  \n",
      "Proust           0.155766            0.524524  \n",
      "Tuffery          0.044785            0.469363  \n",
      "Yourcenar        0.070331            0.589203  \n"
     ]
    }
   ],
   "source": [
    "# print(stylo_df.head())\n",
    "grouped = stylo_df.groupby('author')[['Structural_normalized', 'Letters_normalized', 'TAG_normalized', 'NER_normalized', 'Indexes_normalized']].mean()\n",
    "print(grouped)"
   ]
  },
  {
   "cell_type": "code",
   "execution_count": 213,
   "metadata": {
    "colab": {
     "base_uri": "https://localhost:8080/"
    },
    "executionInfo": {
     "elapsed": 9,
     "status": "ok",
     "timestamp": 1755523402666,
     "user": {
      "displayName": "Benjamin Icard",
      "userId": "03834653573016242850"
     },
     "user_tz": -120
    },
    "id": "r6qt7aUvVLwB",
    "outputId": "ae3c36a2-c040-4ca4-92ce-0d79b137cb82"
   },
   "outputs": [
    {
     "name": "stdout",
     "output_type": "stream",
     "text": [
      "author\n",
      "Celine       0.166385\n",
      "Proust       0.246068\n",
      "Tuffery      0.181922\n",
      "Yourcenar    0.206961\n",
      "Name: value, dtype: float64\n"
     ]
    }
   ],
   "source": [
    "features = ['Structural_normalized', 'Letters_normalized',\n",
    "            'TAG_normalized', 'NER_normalized', 'Indexes_normalized']\n",
    "\n",
    "# Melt into long format\n",
    "m = stylo_df.melt(\n",
    "    id_vars='author',\n",
    "    value_vars=features,\n",
    "    var_name='feature',\n",
    "    value_name='value'\n",
    ")\n",
    "\n",
    "# Compute the pooled mean per author across all features\n",
    "overall_mean = m.groupby('author')['value'].mean()\n",
    "\n",
    "print(overall_mean)\n"
   ]
  },
  {
   "cell_type": "code",
   "execution_count": 214,
   "metadata": {
    "executionInfo": {
     "elapsed": 44,
     "status": "ok",
     "timestamp": 1755523402712,
     "user": {
      "displayName": "Benjamin Icard",
      "userId": "03834653573016242850"
     },
     "user_tz": -120
    },
    "id": "pFaHaGSMWeWm"
   },
   "outputs": [],
   "source": [
    "import pandas as pd\n",
    "from scipy import stats\n",
    "from itertools import combinations\n",
    "\n",
    "features = ['Structural_normalized', 'Letters_normalized', 'TAG_normalized', 'NER_normalized', 'Indexes_normalized']\n",
    "\n",
    "long_df = stylo_df.melt(\n",
    "    id_vars='author',\n",
    "    value_vars=features,\n",
    "    var_name='feature',\n",
    "    value_name='value'\n",
    ")"
   ]
  },
  {
   "cell_type": "code",
   "execution_count": 215,
   "metadata": {
    "colab": {
     "base_uri": "https://localhost:8080/"
    },
    "executionInfo": {
     "elapsed": 10,
     "status": "ok",
     "timestamp": 1755523402712,
     "user": {
      "displayName": "Benjamin Icard",
      "userId": "03834653573016242850"
     },
     "user_tz": -120
    },
    "id": "4U0az3HRPjsP",
    "outputId": "a6e4aa6d-e3ff-4f7d-d514-16e16f394b7d"
   },
   "outputs": [
    {
     "data": {
      "text/plain": [
       "np.float64(0.2069616)"
      ]
     },
     "execution_count": 215,
     "metadata": {},
     "output_type": "execute_result"
    }
   ],
   "source": [
    "np.mean([0.058004, 0.275529, 0.041741, 0.070331, 0.589203])"
   ]
  },
  {
   "cell_type": "code",
   "execution_count": null,
   "metadata": {
    "colab": {
     "base_uri": "https://localhost:8080/",
     "height": 607
    },
    "executionInfo": {
     "elapsed": 307,
     "status": "ok",
     "timestamp": 1755523403017,
     "user": {
      "displayName": "Benjamin Icard",
      "userId": "03834653573016242850"
     },
     "user_tz": -120
    },
    "id": "xiQ58l7CGzAl",
    "outputId": "e437e7ff-2703-4355-a238-d426f630034d"
   },
   "outputs": [
    {
     "data": {
      "image/png": "[encoded data removed]",
      "text/plain": [
       "<Figure size 1000x600 with 1 Axes>"
      ]
     },
     "metadata": {},
     "output_type": "display_data"
    }
   ],
   "source": [
    "authors = ['Tuffery', 'Proust', 'Celine', 'Yourcenar']\n",
    "columns = grouped.columns.tolist()\n",
    "x = np.arange(len(authors))  # the label locations\n",
    "width = 0.15  # the width of the bars\n",
    "\n",
    "fig, ax = plt.subplots(figsize=(10, 6))\n",
    "\n",
    "for i, col in enumerate(columns):\n",
    "    ax.bar(x + i * width, grouped[col], width, label=col[:-11])\n",
    "\n",
    "ax.set_xlabel('Author')\n",
    "ax.set_ylabel('Mean Value')\n",
    "ax.set_title('Mean of Normalized Features by Author')\n",
    "ax.set_xticks(x + width * 2)\n",
    "ax.set_xticklabels(authors)\n",
    "ax.set_ylim(-0.0, 0.8)\n",
    "ax.legend()\n",
    "\n",
    "plt.tight_layout()\n",
    "\n",
    "ax.axvline(x=0.5 + width * 2, color='black', linestyle='--', linewidth=1)\n",
    "\n",
    "\n",
    "plt.show()"
   ]
  }
 ],
 "metadata": {
  "colab": {
   "collapsed_sections": [
    "A-i73cpLXKaJ",
    "FznAQyVtlGpv",
    "uG6CbUJubwIy"
   ],
   "provenance": []
  },
  "kernelspec": {
   "display_name": "style",
   "language": "python",
   "name": "python3"
  },
  "language_info": {
   "codemirror_mode": {
    "name": "ipython",
    "version": 3
   },
   "file_extension": ".py",
   "mimetype": "text/x-python",
   "name": "python",
   "nbconvert_exporter": "python",
   "pygments_lexer": "ipython3",
   "version": "3.12.7"
  }
 },
 "nbformat": 4,
 "nbformat_minor": 0
}
